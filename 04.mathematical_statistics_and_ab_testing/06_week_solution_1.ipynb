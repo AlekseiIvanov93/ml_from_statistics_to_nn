{
 "cells": [
  {
   "cell_type": "markdown",
   "metadata": {},
   "source": [
    "<center>\n",
    "<img src=\"logo.png\" height=\"900\"> \n",
    "</center>\n",
    "\n",
    "\n",
    "#  Береги уровень значимости с молоду \n",
    "\n",
    "В этой тетрадке мы будем работать с данными про Баскетбол. "
   ]
  },
  {
   "cell_type": "code",
   "execution_count": 1,
   "metadata": {},
   "outputs": [],
   "source": [
    "import numpy as np\n",
    "import pandas as pd\n",
    "from scipy import stats as sts\n",
    "import seaborn as sns\n",
    "import matplotlib.pyplot as plt\n",
    "from statsmodels.stats.proportion import proportions_ztest\n",
    "from statsmodels.sandbox.stats.multicomp import multipletests\n",
    "plt.style.use('ggplot')\n",
    "%matplotlib inline"
   ]
  },
  {
   "cell_type": "markdown",
   "metadata": {},
   "source": [
    "В файле `basketball.tsv` лежит [статистика о штрафных бросках в играх в Баскетбол, собранная с сайта ESPN.com](https://www.kaggle.com/sebastianmantey/nba-free-throws)"
   ]
  },
  {
   "cell_type": "code",
   "execution_count": 2,
   "metadata": {},
   "outputs": [
    {
     "name": "stdout",
     "output_type": "stream",
     "text": [
      "(618019, 13)\n"
     ]
    },
    {
     "data": {
      "text/html": [
       "<div>\n",
       "<style scoped>\n",
       "    .dataframe tbody tr th:only-of-type {\n",
       "        vertical-align: middle;\n",
       "    }\n",
       "\n",
       "    .dataframe tbody tr th {\n",
       "        vertical-align: top;\n",
       "    }\n",
       "\n",
       "    .dataframe thead th {\n",
       "        text-align: right;\n",
       "    }\n",
       "</style>\n",
       "<table border=\"1\" class=\"dataframe\">\n",
       "  <thead>\n",
       "    <tr style=\"text-align: right;\">\n",
       "      <th></th>\n",
       "      <th>end_result</th>\n",
       "      <th>game</th>\n",
       "      <th>game_id</th>\n",
       "      <th>period</th>\n",
       "      <th>play</th>\n",
       "      <th>player</th>\n",
       "      <th>playoffs</th>\n",
       "      <th>score</th>\n",
       "      <th>season</th>\n",
       "      <th>shot_made</th>\n",
       "      <th>time</th>\n",
       "      <th>command</th>\n",
       "      <th>is_home</th>\n",
       "    </tr>\n",
       "  </thead>\n",
       "  <tbody>\n",
       "    <tr>\n",
       "      <th>0</th>\n",
       "      <td>106 - 114</td>\n",
       "      <td>PHX - LAL</td>\n",
       "      <td>261031013.0</td>\n",
       "      <td>1.0</td>\n",
       "      <td>Andrew Bynum makes free throw 1 of 2</td>\n",
       "      <td>Andrew Bynum</td>\n",
       "      <td>regular</td>\n",
       "      <td>0 - 1</td>\n",
       "      <td>2006 - 2007</td>\n",
       "      <td>1</td>\n",
       "      <td>11:45</td>\n",
       "      <td>LAL</td>\n",
       "      <td>False</td>\n",
       "    </tr>\n",
       "    <tr>\n",
       "      <th>1</th>\n",
       "      <td>106 - 114</td>\n",
       "      <td>PHX - LAL</td>\n",
       "      <td>261031013.0</td>\n",
       "      <td>1.0</td>\n",
       "      <td>Andrew Bynum makes free throw 2 of 2</td>\n",
       "      <td>Andrew Bynum</td>\n",
       "      <td>regular</td>\n",
       "      <td>0 - 2</td>\n",
       "      <td>2006 - 2007</td>\n",
       "      <td>1</td>\n",
       "      <td>11:45</td>\n",
       "      <td>LAL</td>\n",
       "      <td>False</td>\n",
       "    </tr>\n",
       "    <tr>\n",
       "      <th>2</th>\n",
       "      <td>106 - 114</td>\n",
       "      <td>PHX - LAL</td>\n",
       "      <td>261031013.0</td>\n",
       "      <td>1.0</td>\n",
       "      <td>Andrew Bynum makes free throw 1 of 2</td>\n",
       "      <td>Andrew Bynum</td>\n",
       "      <td>regular</td>\n",
       "      <td>18 - 12</td>\n",
       "      <td>2006 - 2007</td>\n",
       "      <td>1</td>\n",
       "      <td>7:26</td>\n",
       "      <td>LAL</td>\n",
       "      <td>False</td>\n",
       "    </tr>\n",
       "    <tr>\n",
       "      <th>3</th>\n",
       "      <td>106 - 114</td>\n",
       "      <td>PHX - LAL</td>\n",
       "      <td>261031013.0</td>\n",
       "      <td>1.0</td>\n",
       "      <td>Andrew Bynum misses free throw 2 of 2</td>\n",
       "      <td>Andrew Bynum</td>\n",
       "      <td>regular</td>\n",
       "      <td>18 - 12</td>\n",
       "      <td>2006 - 2007</td>\n",
       "      <td>0</td>\n",
       "      <td>7:26</td>\n",
       "      <td>LAL</td>\n",
       "      <td>False</td>\n",
       "    </tr>\n",
       "    <tr>\n",
       "      <th>4</th>\n",
       "      <td>106 - 114</td>\n",
       "      <td>PHX - LAL</td>\n",
       "      <td>261031013.0</td>\n",
       "      <td>1.0</td>\n",
       "      <td>Shawn Marion makes free throw 1 of 1</td>\n",
       "      <td>Shawn Marion</td>\n",
       "      <td>regular</td>\n",
       "      <td>21 - 12</td>\n",
       "      <td>2006 - 2007</td>\n",
       "      <td>1</td>\n",
       "      <td>7:18</td>\n",
       "      <td>PHX</td>\n",
       "      <td>True</td>\n",
       "    </tr>\n",
       "  </tbody>\n",
       "</table>\n",
       "</div>"
      ],
      "text/plain": [
       "  end_result       game      game_id  period  \\\n",
       "0  106 - 114  PHX - LAL  261031013.0     1.0   \n",
       "1  106 - 114  PHX - LAL  261031013.0     1.0   \n",
       "2  106 - 114  PHX - LAL  261031013.0     1.0   \n",
       "3  106 - 114  PHX - LAL  261031013.0     1.0   \n",
       "4  106 - 114  PHX - LAL  261031013.0     1.0   \n",
       "\n",
       "                                    play        player playoffs    score  \\\n",
       "0   Andrew Bynum makes free throw 1 of 2  Andrew Bynum  regular    0 - 1   \n",
       "1   Andrew Bynum makes free throw 2 of 2  Andrew Bynum  regular    0 - 2   \n",
       "2   Andrew Bynum makes free throw 1 of 2  Andrew Bynum  regular  18 - 12   \n",
       "3  Andrew Bynum misses free throw 2 of 2  Andrew Bynum  regular  18 - 12   \n",
       "4   Shawn Marion makes free throw 1 of 1  Shawn Marion  regular  21 - 12   \n",
       "\n",
       "        season  shot_made   time command  is_home  \n",
       "0  2006 - 2007          1  11:45     LAL    False  \n",
       "1  2006 - 2007          1  11:45     LAL    False  \n",
       "2  2006 - 2007          1   7:26     LAL    False  \n",
       "3  2006 - 2007          0   7:26     LAL    False  \n",
       "4  2006 - 2007          1   7:18     PHX     True  "
      ]
     },
     "execution_count": 2,
     "metadata": {},
     "output_type": "execute_result"
    }
   ],
   "source": [
    "df = pd.read_csv('basketball.tsv', sep='\\t')\n",
    "print(df.shape)\n",
    "df.head( )"
   ]
  },
  {
   "cell_type": "markdown",
   "metadata": {},
   "source": [
    "__Описание колонок:__\n",
    "\n",
    "* `end_result` - результат игры\n",
    "* `game` - какие команды играли, команда справа - хозяин площадки\n",
    "* `game_id` - уникальный id игры\n",
    "* `period` - период\n",
    "* `player` - имя игрока\n",
    "* `playoff` - тип игры\n",
    "* `score` - счёт после броска \n",
    "* `season` - сезон игры\n",
    "* `shot_made` - попал или не попал в кольцо при броске \n",
    "* `time` - время броска \n",
    "* `command` - предполагаемая команда игрока (колонка рассчитана по датасету)\n",
    "* `is_home` - домашний матч или в гостях"
   ]
  },
  {
   "cell_type": "markdown",
   "metadata": {},
   "source": [
    "# 1. Доля попаданий в корзину\n",
    "\n",
    "Немного посмотрим на наши данные. Ответьте на следующие вопросы и запишите ответы в соотвествующие переменные. \n",
    "\n",
    "Сколько уникальных игр было сыграно в течение всего периода, который есть в таблице (`ans1`)? Сколько в данных встречается уникальных игроков (`ans2`)?"
   ]
  },
  {
   "cell_type": "code",
   "execution_count": 3,
   "metadata": {
    "deletable": false,
    "nbgrader": {
     "cell_type": "code",
     "checksum": "fcd91e963e9224fcdec19f36ee797fad",
     "grade": false,
     "grade_id": "cell-b4435f7854617700",
     "locked": false,
     "schema_version": 3,
     "solution": true,
     "task": false
    }
   },
   "outputs": [],
   "source": [
    "ans1 = df['game_id'].nunique()\n",
    "ans2 = df['player'].nunique()"
   ]
  },
  {
   "cell_type": "code",
   "execution_count": 4,
   "metadata": {
    "deletable": false,
    "editable": false,
    "nbgrader": {
     "cell_type": "code",
     "checksum": "a723a44fd4dd9e0aaa57b62e3284570a",
     "grade": true,
     "grade_id": "cell-cb06cb14b49d9294",
     "locked": true,
     "points": 1,
     "schema_version": 3,
     "solution": false,
     "task": false
    }
   },
   "outputs": [],
   "source": [
    "# проверка того, что задание решено верно\n",
    "assert ans1 == 12874\n",
    "\n",
    "# Другие подобные тесты скрыты от вас"
   ]
  },
  {
   "cell_type": "markdown",
   "metadata": {},
   "source": [
    "Подсчитайте по каждому игроку статистику, связанную с тем, как часто он попадет в корзину при бросках:\n",
    "\n",
    "- Долю попаданий в корзину среди его бросков, $\\hat{p}$\n",
    "- Число бросков, которое было сделано игроком, $n$\n",
    "\n",
    "Среди игроков, которые сделали более ста бросков, найдите самого успешного. Запишите его в переменную `ans3`."
   ]
  },
  {
   "cell_type": "code",
   "execution_count": 5,
   "metadata": {},
   "outputs": [
    {
     "data": {
      "text/plain": [
       "array(['Steve Nash'], dtype=object)"
      ]
     },
     "execution_count": 5,
     "metadata": {},
     "output_type": "execute_result"
    }
   ],
   "source": [
    "player_stats = df.groupby('player')['shot_made'].agg(['count', 'sum']).reset_index()\n",
    "player_stats['p'] = player_stats['sum'] / player_stats['count']\n",
    "player_stats = player_stats[(player_stats['count'] > 100)]\n",
    "player_stats[player_stats['p'] == player_stats['p'].max()]['player'].values"
   ]
  },
  {
   "cell_type": "code",
   "execution_count": 6,
   "metadata": {
    "deletable": false,
    "nbgrader": {
     "cell_type": "code",
     "checksum": "c966b5b3d7f34c77ed16155e730bf2c4",
     "grade": false,
     "grade_id": "cell-87779d294c93adee",
     "locked": false,
     "schema_version": 3,
     "solution": true,
     "task": false
    }
   },
   "outputs": [],
   "source": [
    "ans3 = 'Steve Nash'"
   ]
  },
  {
   "cell_type": "code",
   "execution_count": 7,
   "metadata": {
    "deletable": false,
    "editable": false,
    "nbgrader": {
     "cell_type": "code",
     "checksum": "97a2ab1d690232a2a2ccf5f684d08f3f",
     "grade": true,
     "grade_id": "cell-c23ba5c55e6cc4dd",
     "locked": true,
     "points": 1,
     "schema_version": 3,
     "solution": false,
     "task": false
    }
   },
   "outputs": [],
   "source": [
    "# проверка того, что задание решено верно\n",
    "assert ans3.split(' ')[0][-1] == 'e'\n",
    "assert len(ans3.split(' ')[0]) == 5\n",
    "\n",
    "# Другие подобные тесты скрыты от вас"
   ]
  },
  {
   "cell_type": "markdown",
   "metadata": {},
   "source": [
    "Для поиска `ans4` и `ans5` используйте данные по игрокам, сделавшим более ста бросков.  \n",
    "\n",
    "Найдите медиану распределения доли попаданий, запишите её в переменную `ans4`. Найдите значение коэффициента асимметрии, запишите его в переменную `ans5`. Какое значение он принимает? Правда ли, что распределение этой переменной оказывается скошенным?\n",
    "\n",
    "Постройте гистограмму для доли попаданий игроков, нарисуйте на ней пунктирной линией медиану. Проинтерпретируйте то, что вы видите на рисунке.  "
   ]
  },
  {
   "cell_type": "code",
   "execution_count": 8,
   "metadata": {},
   "outputs": [
    {
     "data": {
      "text/html": [
       "<div>\n",
       "<style scoped>\n",
       "    .dataframe tbody tr th:only-of-type {\n",
       "        vertical-align: middle;\n",
       "    }\n",
       "\n",
       "    .dataframe tbody tr th {\n",
       "        vertical-align: top;\n",
       "    }\n",
       "\n",
       "    .dataframe thead th {\n",
       "        text-align: right;\n",
       "    }\n",
       "</style>\n",
       "<table border=\"1\" class=\"dataframe\">\n",
       "  <thead>\n",
       "    <tr style=\"text-align: right;\">\n",
       "      <th></th>\n",
       "      <th>player</th>\n",
       "      <th>count</th>\n",
       "      <th>sum</th>\n",
       "      <th>p</th>\n",
       "    </tr>\n",
       "  </thead>\n",
       "  <tbody>\n",
       "    <tr>\n",
       "      <th>0</th>\n",
       "      <td>A.J. Price</td>\n",
       "      <td>282</td>\n",
       "      <td>211</td>\n",
       "      <td>0.748227</td>\n",
       "    </tr>\n",
       "    <tr>\n",
       "      <th>1</th>\n",
       "      <td>Aaron Brooks</td>\n",
       "      <td>1109</td>\n",
       "      <td>928</td>\n",
       "      <td>0.836790</td>\n",
       "    </tr>\n",
       "    <tr>\n",
       "      <th>2</th>\n",
       "      <td>Aaron Gordon</td>\n",
       "      <td>254</td>\n",
       "      <td>173</td>\n",
       "      <td>0.681102</td>\n",
       "    </tr>\n",
       "    <tr>\n",
       "      <th>3</th>\n",
       "      <td>Aaron Gray</td>\n",
       "      <td>339</td>\n",
       "      <td>189</td>\n",
       "      <td>0.557522</td>\n",
       "    </tr>\n",
       "    <tr>\n",
       "      <th>6</th>\n",
       "      <td>Acie Law</td>\n",
       "      <td>229</td>\n",
       "      <td>179</td>\n",
       "      <td>0.781659</td>\n",
       "    </tr>\n",
       "  </tbody>\n",
       "</table>\n",
       "</div>"
      ],
      "text/plain": [
       "         player  count  sum         p\n",
       "0    A.J. Price    282  211  0.748227\n",
       "1  Aaron Brooks   1109  928  0.836790\n",
       "2  Aaron Gordon    254  173  0.681102\n",
       "3    Aaron Gray    339  189  0.557522\n",
       "6      Acie Law    229  179  0.781659"
      ]
     },
     "execution_count": 8,
     "metadata": {},
     "output_type": "execute_result"
    }
   ],
   "source": [
    "player_stats.head()"
   ]
  },
  {
   "cell_type": "code",
   "execution_count": 9,
   "metadata": {},
   "outputs": [
    {
     "data": {
      "image/png": "[encoded data removed]",
      "text/plain": [
       "<Figure size 432x288 with 1 Axes>"
      ]
     },
     "metadata": {
      "needs_background": "light"
     },
     "output_type": "display_data"
    }
   ],
   "source": [
    "player_stats['p'].hist(bins=30)\n",
    "plt.vlines(player_stats['p'].median(), 80, 0);"
   ]
  },
  {
   "cell_type": "code",
   "execution_count": 10,
   "metadata": {
    "deletable": false,
    "nbgrader": {
     "cell_type": "code",
     "checksum": "98d69d8be0eb7427c9c83063a34a98c4",
     "grade": false,
     "grade_id": "cell-24c206f331e13f7d",
     "locked": false,
     "schema_version": 3,
     "solution": true,
     "task": false
    }
   },
   "outputs": [],
   "source": [
    "ans4 = player_stats['p'].median()\n",
    "ans5 = sts.skew(player_stats['p'])"
   ]
  },
  {
   "cell_type": "code",
   "execution_count": 11,
   "metadata": {
    "deletable": false,
    "editable": false,
    "nbgrader": {
     "cell_type": "code",
     "checksum": "ee3c96e18a2df006230fa0866f88e259",
     "grade": true,
     "grade_id": "cell-b31917b8cb7ffd81",
     "locked": true,
     "points": 1,
     "schema_version": 3,
     "solution": false,
     "task": false
    }
   },
   "outputs": [],
   "source": [
    "# проверка того, что задание решено верно\n",
    "assert ans4 > 0.7\n",
    "assert ans5 < -1\n",
    "\n",
    "# Другие подобные тесты скрыты от вас"
   ]
  },
  {
   "cell_type": "markdown",
   "metadata": {},
   "source": [
    "# 2. Игры дома и в гостях\n",
    "\n",
    "Проанализируем, как часто игроки попадают в корзину дома и как часто в гостях. Подсчитайте доли попаданий в корзину в гостях и дома для всех ироков из выборки. Если для какого-то игрока оказывается, что он всегда играл только дома/только в гостях, удалите его из выборки.\n",
    "\n",
    "Проверьте гипотезу о равенстве этих долей для каждого игрока против двусторонней альтернативы. Число гипотез, которые отклоняются на уровне значимости $5\\%$,  запишите в переменную `ans6`. "
   ]
  },
  {
   "cell_type": "code",
   "execution_count": 12,
   "metadata": {},
   "outputs": [
    {
     "data": {
      "text/html": [
       "<div>\n",
       "<style scoped>\n",
       "    .dataframe tbody tr th:only-of-type {\n",
       "        vertical-align: middle;\n",
       "    }\n",
       "\n",
       "    .dataframe tbody tr th {\n",
       "        vertical-align: top;\n",
       "    }\n",
       "\n",
       "    .dataframe thead th {\n",
       "        text-align: right;\n",
       "    }\n",
       "</style>\n",
       "<table border=\"1\" class=\"dataframe\">\n",
       "  <thead>\n",
       "    <tr style=\"text-align: right;\">\n",
       "      <th></th>\n",
       "      <th>player</th>\n",
       "      <th>is_home</th>\n",
       "      <th>count</th>\n",
       "      <th>sum</th>\n",
       "      <th>p</th>\n",
       "    </tr>\n",
       "  </thead>\n",
       "  <tbody>\n",
       "    <tr>\n",
       "      <th>0</th>\n",
       "      <td>A.J. Price</td>\n",
       "      <td>False</td>\n",
       "      <td>150</td>\n",
       "      <td>115</td>\n",
       "      <td>0.766667</td>\n",
       "    </tr>\n",
       "    <tr>\n",
       "      <th>1</th>\n",
       "      <td>A.J. Price</td>\n",
       "      <td>True</td>\n",
       "      <td>132</td>\n",
       "      <td>96</td>\n",
       "      <td>0.727273</td>\n",
       "    </tr>\n",
       "    <tr>\n",
       "      <th>2</th>\n",
       "      <td>Aaron Brooks</td>\n",
       "      <td>False</td>\n",
       "      <td>572</td>\n",
       "      <td>474</td>\n",
       "      <td>0.828671</td>\n",
       "    </tr>\n",
       "    <tr>\n",
       "      <th>3</th>\n",
       "      <td>Aaron Brooks</td>\n",
       "      <td>True</td>\n",
       "      <td>537</td>\n",
       "      <td>454</td>\n",
       "      <td>0.845438</td>\n",
       "    </tr>\n",
       "    <tr>\n",
       "      <th>4</th>\n",
       "      <td>Aaron Gordon</td>\n",
       "      <td>False</td>\n",
       "      <td>134</td>\n",
       "      <td>92</td>\n",
       "      <td>0.686567</td>\n",
       "    </tr>\n",
       "  </tbody>\n",
       "</table>\n",
       "</div>"
      ],
      "text/plain": [
       "         player  is_home  count  sum         p\n",
       "0    A.J. Price    False    150  115  0.766667\n",
       "1    A.J. Price     True    132   96  0.727273\n",
       "2  Aaron Brooks    False    572  474  0.828671\n",
       "3  Aaron Brooks     True    537  454  0.845438\n",
       "4  Aaron Gordon    False    134   92  0.686567"
      ]
     },
     "execution_count": 12,
     "metadata": {},
     "output_type": "execute_result"
    }
   ],
   "source": [
    "player_game = df.groupby(['player', 'is_home'])['shot_made'].agg(['count', 'sum']).reset_index()\n",
    "player_game['p'] = player_game['sum'] / player_game['count']\n",
    "player_game.head()"
   ]
  },
  {
   "cell_type": "code",
   "execution_count": 13,
   "metadata": {},
   "outputs": [],
   "source": [
    "# Если для какого-то игрока оказывается, что он всегда играл только дома/только в гостях, удалите его из выборки."
   ]
  },
  {
   "cell_type": "code",
   "execution_count": 14,
   "metadata": {},
   "outputs": [
    {
     "data": {
      "text/plain": [
       "array(['Aaron Harrison', 'Adonis Thomas', 'Alex Kirk', 'Alex Stepheson',\n",
       "       'Alvin Williams', 'Andre Barrett', 'Andreas Glyniadakis',\n",
       "       'Andy Rautins', 'Anfernee Hardaway', 'B.J. Mullens',\n",
       "       'Billy Thomas', 'Branden Dawson', 'Carldell Johnson',\n",
       "       'Cheick Samb', 'Cheikh Samb', 'Cj Watson', 'Craig Brackins',\n",
       "       'D.J. Kennedy', 'D.J. Stephens', 'Dajuan Wagner',\n",
       "       'Darius Johnson-Odom', 'Darryl Watkins', 'David Stockton',\n",
       "       'Demetris Nichols', 'Dennis Horner', 'Derrick Byars',\n",
       "       'Desmon Farmer', 'Doug Christie', 'Drew Gordon', 'Eddie Gill',\n",
       "       'Eric Dawson', 'Eric Moreland', 'Fab Melo', 'Grant Jerrett',\n",
       "       'Jamaal Franklin', 'James Augustine', 'James Lang',\n",
       "       'James Nunnally', 'James Southerland', 'Jarell Eddie',\n",
       "       'Jelani McCoy', 'Jerel McNeal', 'Joe Crawford', 'Julius Hodge',\n",
       "       'Jumaine Jones', 'Justin Harper', 'Keith Appling', 'Kevin Willis',\n",
       "       'Kosta Perovic', 'Lance Allred', 'Matt Freije', 'Pat Connaughton',\n",
       "       'Patrick Ewing', 'Richie Frahm', 'Roger Powell', 'Scott Machado',\n",
       "       'Scotty Hopson', 'Shammond Williams', 'Sherron Collins',\n",
       "       'Stanislav Medvedenko', 'Steven Smith', 'Tibor Pleiss',\n",
       "       'Tim Ohlbrecht', 'Tyler Honeycutt', 'W Russell', 'Walter Sharpe',\n",
       "       'Wayne Simien', 'Will Cherry', 'Xavier Silas', 'Yaroslav Korolev'],\n",
       "      dtype=object)"
      ]
     },
     "execution_count": 14,
     "metadata": {},
     "output_type": "execute_result"
    }
   ],
   "source": [
    "del_player_game = player_game.groupby('player')[['is_home']].count().reset_index()\n",
    "only_home_players = del_player_game[del_player_game['is_home'] == 1]['player'].values\n",
    "only_home_players"
   ]
  },
  {
   "cell_type": "code",
   "execution_count": 15,
   "metadata": {},
   "outputs": [
    {
     "data": {
      "text/html": [
       "<div>\n",
       "<style scoped>\n",
       "    .dataframe tbody tr th:only-of-type {\n",
       "        vertical-align: middle;\n",
       "    }\n",
       "\n",
       "    .dataframe tbody tr th {\n",
       "        vertical-align: top;\n",
       "    }\n",
       "\n",
       "    .dataframe thead th {\n",
       "        text-align: right;\n",
       "    }\n",
       "</style>\n",
       "<table border=\"1\" class=\"dataframe\">\n",
       "  <thead>\n",
       "    <tr style=\"text-align: right;\">\n",
       "      <th></th>\n",
       "      <th>player</th>\n",
       "      <th>is_home</th>\n",
       "      <th>count</th>\n",
       "      <th>sum</th>\n",
       "      <th>p</th>\n",
       "    </tr>\n",
       "  </thead>\n",
       "  <tbody>\n",
       "    <tr>\n",
       "      <th>0</th>\n",
       "      <td>A.J. Price</td>\n",
       "      <td>False</td>\n",
       "      <td>150</td>\n",
       "      <td>115</td>\n",
       "      <td>0.766667</td>\n",
       "    </tr>\n",
       "    <tr>\n",
       "      <th>1</th>\n",
       "      <td>A.J. Price</td>\n",
       "      <td>True</td>\n",
       "      <td>132</td>\n",
       "      <td>96</td>\n",
       "      <td>0.727273</td>\n",
       "    </tr>\n",
       "    <tr>\n",
       "      <th>2</th>\n",
       "      <td>Aaron Brooks</td>\n",
       "      <td>False</td>\n",
       "      <td>572</td>\n",
       "      <td>474</td>\n",
       "      <td>0.828671</td>\n",
       "    </tr>\n",
       "    <tr>\n",
       "      <th>3</th>\n",
       "      <td>Aaron Brooks</td>\n",
       "      <td>True</td>\n",
       "      <td>537</td>\n",
       "      <td>454</td>\n",
       "      <td>0.845438</td>\n",
       "    </tr>\n",
       "    <tr>\n",
       "      <th>4</th>\n",
       "      <td>Aaron Gordon</td>\n",
       "      <td>False</td>\n",
       "      <td>134</td>\n",
       "      <td>92</td>\n",
       "      <td>0.686567</td>\n",
       "    </tr>\n",
       "  </tbody>\n",
       "</table>\n",
       "</div>"
      ],
      "text/plain": [
       "         player  is_home  count  sum         p\n",
       "0    A.J. Price    False    150  115  0.766667\n",
       "1    A.J. Price     True    132   96  0.727273\n",
       "2  Aaron Brooks    False    572  474  0.828671\n",
       "3  Aaron Brooks     True    537  454  0.845438\n",
       "4  Aaron Gordon    False    134   92  0.686567"
      ]
     },
     "execution_count": 15,
     "metadata": {},
     "output_type": "execute_result"
    }
   ],
   "source": [
    "player_game = player_game[~player_game['player'].isin(only_home_players)].reset_index(drop=True)\n",
    "player_game.head()"
   ]
  },
  {
   "cell_type": "code",
   "execution_count": 16,
   "metadata": {
    "deletable": false,
    "nbgrader": {
     "cell_type": "code",
     "checksum": "8aecbd0de1a7391399e17ce5b7f2e7a6",
     "grade": false,
     "grade_id": "cell-928c46b9ef1c2626",
     "locked": false,
     "schema_version": 3,
     "solution": true,
     "task": false
    }
   },
   "outputs": [
    {
     "name": "stderr",
     "output_type": "stream",
     "text": [
      "C:\\Users\\Alexey93\\anaconda3\\lib\\site-packages\\statsmodels\\stats\\weightstats.py:671: RuntimeWarning: invalid value encountered in double_scalars\n",
      "  zstat = value / std_diff\n",
      "C:\\Users\\Alexey93\\anaconda3\\lib\\site-packages\\scipy\\stats\\_distn_infrastructure.py:2007: RuntimeWarning: invalid value encountered in less_equal\n",
      "  cond2 = cond0 & (x <= _a)\n"
     ]
    }
   ],
   "source": [
    "alpha = 0.05\n",
    "ans6 = 0\n",
    "player_game['pvalue'] = np.nan\n",
    "\n",
    "for player in (player_game['player'].unique()):\n",
    "    table = player_game[player_game['player'] == player].sort_values('is_home')[['count', 'sum']]\n",
    "    pvalue = proportions_ztest((table['sum'].values), (table['count'].values), value=0)[1]\n",
    "   \n",
    "    player_game.loc[player_game['player'] == player, 'pvalue'] = pvalue\n",
    "    \n",
    "    if pvalue < alpha:\n",
    "        ans6 += 1"
   ]
  },
  {
   "cell_type": "code",
   "execution_count": 17,
   "metadata": {
    "deletable": false,
    "editable": false,
    "nbgrader": {
     "cell_type": "code",
     "checksum": "780760b1819ebb30ffd63334094e221d",
     "grade": true,
     "grade_id": "cell-9278a8cb8af65de0",
     "locked": true,
     "points": 1,
     "schema_version": 3,
     "solution": false,
     "task": false
    }
   },
   "outputs": [],
   "source": [
    "# проверка того, что задание решено верно\n",
    "assert ans6 < 100\n",
    "assert ans6 > 60\n",
    "\n",
    "# другие подобные тесты скрыты от вас"
   ]
  },
  {
   "cell_type": "markdown",
   "metadata": {},
   "source": [
    "Введите коррекцию с помощью метода Холма. Запишите число гипотез, которые были отклонены на уровне значимости $5\\%$, в переменную `ans7`."
   ]
  },
  {
   "cell_type": "code",
   "execution_count": 18,
   "metadata": {
    "deletable": false,
    "nbgrader": {
     "cell_type": "code",
     "checksum": "3be3235e4d233030d4b9e0d421a32f76",
     "grade": false,
     "grade_id": "cell-ee73ba62dee38bd6",
     "locked": false,
     "schema_version": 3,
     "solution": true,
     "task": false
    }
   },
   "outputs": [],
   "source": [
    "pval = player_game['pvalue'].drop_duplicates().dropna()\n",
    "\n",
    "rejected, p_corrected, _, _ = multipletests(pval, \n",
    "                                            alpha = alpha, \n",
    "                                            method = 'holm')\n",
    "ans7 = sum(rejected)"
   ]
  },
  {
   "cell_type": "markdown",
   "metadata": {},
   "source": [
    "Введите коррекцию с помощью метода Бенжамини-Хохберга. Запишите число гипотез, которые были отклонены на уровне значимости $5\\%$, в переменную `ans8`."
   ]
  },
  {
   "cell_type": "code",
   "execution_count": 19,
   "metadata": {
    "deletable": false,
    "nbgrader": {
     "cell_type": "code",
     "checksum": "cfdfda7df508362f248a54068fbccd65",
     "grade": false,
     "grade_id": "cell-d42dbc44789006fc",
     "locked": false,
     "schema_version": 3,
     "solution": true,
     "task": false
    }
   },
   "outputs": [],
   "source": [
    "rejected, p_corrected, _, _ = multipletests(pval, \n",
    "                                            alpha = alpha, \n",
    "                                            method = 'fdr_bh')\n",
    "\n",
    "ans8 = sum(rejected)"
   ]
  },
  {
   "cell_type": "code",
   "execution_count": 20,
   "metadata": {
    "deletable": false,
    "editable": false,
    "nbgrader": {
     "cell_type": "code",
     "checksum": "4d3555e920cadc7289733039637e10e6",
     "grade": true,
     "grade_id": "cell-3ea4e0ea82f2e37f",
     "locked": true,
     "points": 1,
     "schema_version": 3,
     "solution": false,
     "task": false
    }
   },
   "outputs": [],
   "source": [
    "# проверка того, что задание решено верно\n",
    "assert ans7 < 10\n",
    "assert ans8 < 10\n",
    "\n",
    "# другие подобные тесты скрыты от вас"
   ]
  },
  {
   "cell_type": "markdown",
   "metadata": {},
   "source": [
    "Объясните разницу, которую вы получили в количестве отклоненных гипотез. Предположим, что вы менеджер команды и вы хотите на основе статистики принять решение о том, какие игроки должны играть на поле в домашнем матче. Как вы будете его принимать? "
   ]
  },
  {
   "cell_type": "markdown",
   "metadata": {},
   "source": [
    "Отсортируйте таблицу по `pvalue`, полученному из самого первого теста. Посмотрите на самые большие и самые маленькие значения. Какое число наблюдений им соотвествуте? Как думаете, почему гипотезы для маленького числа наблюдений не отвергаются? Как это связано с ЗБЧ? Можно ли доверять этим результатам? Как их можно было бы решить при предобработке данных? "
   ]
  },
  {
   "cell_type": "code",
   "execution_count": 21,
   "metadata": {
    "deletable": false,
    "nbgrader": {
     "cell_type": "code",
     "checksum": "93a37803b5dca0e79f08ec1e4950cd57",
     "grade": false,
     "grade_id": "cell-9c6ed6ac74b605e8",
     "locked": false,
     "schema_version": 3,
     "solution": true,
     "task": false
    }
   },
   "outputs": [
    {
     "data": {
      "text/html": [
       "<div>\n",
       "<style scoped>\n",
       "    .dataframe tbody tr th:only-of-type {\n",
       "        vertical-align: middle;\n",
       "    }\n",
       "\n",
       "    .dataframe tbody tr th {\n",
       "        vertical-align: top;\n",
       "    }\n",
       "\n",
       "    .dataframe thead th {\n",
       "        text-align: right;\n",
       "    }\n",
       "</style>\n",
       "<table border=\"1\" class=\"dataframe\">\n",
       "  <thead>\n",
       "    <tr style=\"text-align: right;\">\n",
       "      <th></th>\n",
       "      <th>player</th>\n",
       "      <th>is_home</th>\n",
       "      <th>count</th>\n",
       "      <th>sum</th>\n",
       "      <th>p</th>\n",
       "      <th>pvalue</th>\n",
       "    </tr>\n",
       "  </thead>\n",
       "  <tbody>\n",
       "    <tr>\n",
       "      <th>1406</th>\n",
       "      <td>Mickell Gladness</td>\n",
       "      <td>False</td>\n",
       "      <td>4</td>\n",
       "      <td>2</td>\n",
       "      <td>0.500000</td>\n",
       "      <td>1.00000</td>\n",
       "    </tr>\n",
       "    <tr>\n",
       "      <th>378</th>\n",
       "      <td>Cristiano Felicio</td>\n",
       "      <td>False</td>\n",
       "      <td>14</td>\n",
       "      <td>10</td>\n",
       "      <td>0.714286</td>\n",
       "      <td>1.00000</td>\n",
       "    </tr>\n",
       "    <tr>\n",
       "      <th>1323</th>\n",
       "      <td>Marcus Vinicius</td>\n",
       "      <td>True</td>\n",
       "      <td>9</td>\n",
       "      <td>5</td>\n",
       "      <td>0.555556</td>\n",
       "      <td>1.00000</td>\n",
       "    </tr>\n",
       "    <tr>\n",
       "      <th>1350</th>\n",
       "      <td>Marshon Brooks</td>\n",
       "      <td>False</td>\n",
       "      <td>12</td>\n",
       "      <td>10</td>\n",
       "      <td>0.833333</td>\n",
       "      <td>1.00000</td>\n",
       "    </tr>\n",
       "    <tr>\n",
       "      <th>1351</th>\n",
       "      <td>Marshon Brooks</td>\n",
       "      <td>True</td>\n",
       "      <td>6</td>\n",
       "      <td>5</td>\n",
       "      <td>0.833333</td>\n",
       "      <td>1.00000</td>\n",
       "    </tr>\n",
       "    <tr>\n",
       "      <th>...</th>\n",
       "      <td>...</td>\n",
       "      <td>...</td>\n",
       "      <td>...</td>\n",
       "      <td>...</td>\n",
       "      <td>...</td>\n",
       "      <td>...</td>\n",
       "    </tr>\n",
       "    <tr>\n",
       "      <th>827</th>\n",
       "      <td>Jamario Moon</td>\n",
       "      <td>True</td>\n",
       "      <td>101</td>\n",
       "      <td>70</td>\n",
       "      <td>0.693069</td>\n",
       "      <td>0.00070</td>\n",
       "    </tr>\n",
       "    <tr>\n",
       "      <th>91</th>\n",
       "      <td>Andrew Bogut</td>\n",
       "      <td>True</td>\n",
       "      <td>612</td>\n",
       "      <td>300</td>\n",
       "      <td>0.490196</td>\n",
       "      <td>0.00066</td>\n",
       "    </tr>\n",
       "    <tr>\n",
       "      <th>90</th>\n",
       "      <td>Andrew Bogut</td>\n",
       "      <td>False</td>\n",
       "      <td>718</td>\n",
       "      <td>419</td>\n",
       "      <td>0.583565</td>\n",
       "      <td>0.00066</td>\n",
       "    </tr>\n",
       "    <tr>\n",
       "      <th>811</th>\n",
       "      <td>Jahlil Okafor</td>\n",
       "      <td>True</td>\n",
       "      <td>105</td>\n",
       "      <td>83</td>\n",
       "      <td>0.790476</td>\n",
       "      <td>0.00063</td>\n",
       "    </tr>\n",
       "    <tr>\n",
       "      <th>810</th>\n",
       "      <td>Jahlil Okafor</td>\n",
       "      <td>False</td>\n",
       "      <td>89</td>\n",
       "      <td>50</td>\n",
       "      <td>0.561798</td>\n",
       "      <td>0.00063</td>\n",
       "    </tr>\n",
       "  </tbody>\n",
       "</table>\n",
       "<p>2046 rows × 6 columns</p>\n",
       "</div>"
      ],
      "text/plain": [
       "                 player  is_home  count  sum         p   pvalue\n",
       "1406   Mickell Gladness    False      4    2  0.500000  1.00000\n",
       "378   Cristiano Felicio    False     14   10  0.714286  1.00000\n",
       "1323    Marcus Vinicius     True      9    5  0.555556  1.00000\n",
       "1350     Marshon Brooks    False     12   10  0.833333  1.00000\n",
       "1351     Marshon Brooks     True      6    5  0.833333  1.00000\n",
       "...                 ...      ...    ...  ...       ...      ...\n",
       "827        Jamario Moon     True    101   70  0.693069  0.00070\n",
       "91         Andrew Bogut     True    612  300  0.490196  0.00066\n",
       "90         Andrew Bogut    False    718  419  0.583565  0.00066\n",
       "811       Jahlil Okafor     True    105   83  0.790476  0.00063\n",
       "810       Jahlil Okafor    False     89   50  0.561798  0.00063\n",
       "\n",
       "[2046 rows x 6 columns]"
      ]
     },
     "execution_count": 21,
     "metadata": {},
     "output_type": "execute_result"
    }
   ],
   "source": [
    "player_game.sort_values('pvalue', ascending=False).dropna()"
   ]
  },
  {
   "cell_type": "markdown",
   "metadata": {},
   "source": [
    "# 3. Постоянство - признак мастерства\n",
    "\n",
    "__Решение задач из этого пункта является не обязательным и никак не влияет на вашу оценку.__ "
   ]
  },
  {
   "cell_type": "markdown",
   "metadata": {},
   "source": [
    "В наших данных есть несколько сезонов. Постройте гистограмму с распределением числа игр по каждому году. Видна ли на гистограмме [аномалия, произошедшая в $2011$ году?](https://en.wikipedia.org/wiki/2011_NBA_lockout) "
   ]
  },
  {
   "cell_type": "code",
   "execution_count": null,
   "metadata": {
    "deletable": false,
    "nbgrader": {
     "cell_type": "code",
     "checksum": "83f0aa96e2e9416c9253e22b5868e8bb",
     "grade": false,
     "grade_id": "cell-d094853b80af3c0e",
     "locked": false,
     "schema_version": 3,
     "solution": true,
     "task": false
    }
   },
   "outputs": [],
   "source": [
    "### ╰( ͡° ͜ʖ ͡° )つ▬▬ι═══════  bzzzzzzzzzz\n",
    "# will the code be with you\n",
    "\n",
    "# your code here"
   ]
  },
  {
   "cell_type": "markdown",
   "metadata": {},
   "source": [
    "- Посчитайте для каждого игрока по каждому сезону долю попаданий в кольцо и количество сделанных бросков. \n",
    "- Оставьте в данных только те строки, где было сделано как минимум сто бросков. Удалите колонку с количеством сделанных бросков. \n",
    "- Методом `unstack(\"player\")` вытащите индексы, отвечающие в группировке за игроков в названия столбцов. Методом `droplevel()` удалите все лишние заголовки таблицы.\n",
    "- Удалите из данных всех игроков, у которых пропущена статистика хотя бы по одному сезону."
   ]
  },
  {
   "cell_type": "code",
   "execution_count": null,
   "metadata": {
    "deletable": false,
    "nbgrader": {
     "cell_type": "code",
     "checksum": "afa31623b09f133766b2d25563f8de3b",
     "grade": false,
     "grade_id": "cell-92ebaebe5ffce12f",
     "locked": false,
     "schema_version": 3,
     "solution": true,
     "task": false
    }
   },
   "outputs": [],
   "source": [
    "### ╰( ͡° ͜ʖ ͡° )つ▬▬ι═══════  bzzzzzzzzzz\n",
    "# will the code be with you\n",
    "\n",
    "shooting_per_season = ...\n",
    "\n",
    "# your code here\n"
   ]
  },
  {
   "cell_type": "code",
   "execution_count": null,
   "metadata": {},
   "outputs": [],
   "source": [
    "assert shooting_per_season.shape == (10, 27)"
   ]
  },
  {
   "cell_type": "markdown",
   "metadata": {},
   "source": [
    "Посчтитайте для всех игроков стандартное отклонение их доли попаданий в динамике по сезонам. "
   ]
  },
  {
   "cell_type": "code",
   "execution_count": null,
   "metadata": {
    "deletable": false,
    "nbgrader": {
     "cell_type": "code",
     "checksum": "222e40b205ce660e5ac982b50dc1d831",
     "grade": false,
     "grade_id": "cell-9689c3c819cbb4d2",
     "locked": false,
     "schema_version": 3,
     "solution": true,
     "task": false
    }
   },
   "outputs": [],
   "source": [
    "### ╰( ͡° ͜ʖ ͡° )つ▬▬ι═══════  bzzzzzzzzzz\n",
    "# will the code be with you\n",
    "\n",
    "# your code here\n"
   ]
  },
  {
   "cell_type": "markdown",
   "metadata": {},
   "source": [
    "Постройте для $3$ самых непредсказуемых игроков и для трёх самых предсказуемых игроков динамику доли их попаданий по сезонам (по оси $x$ сезоны, по оси $y$ доля попаданий). "
   ]
  },
  {
   "cell_type": "code",
   "execution_count": null,
   "metadata": {
    "deletable": false,
    "nbgrader": {
     "cell_type": "code",
     "checksum": "be14af5187c7bd7f408b7b08c3121eaf",
     "grade": false,
     "grade_id": "cell-4e5a67d23397bb09",
     "locked": false,
     "schema_version": 3,
     "solution": true,
     "task": false
    }
   },
   "outputs": [],
   "source": [
    "### ╰( ͡° ͜ʖ ͡° )つ▬▬ι═══════  bzzzzzzzzzz\n",
    "# will the code be with you\n",
    "\n",
    "# your code here\n"
   ]
  },
  {
   "cell_type": "markdown",
   "metadata": {},
   "source": [
    "Каких игроков из представленных вы бы предпочли взять к себе в команду? Кому бы вы предпочли доверить делать штрафные броски? Почему? "
   ]
  },
  {
   "cell_type": "markdown",
   "metadata": {},
   "source": [
    "# 4. Эффект победителя\n",
    "\n",
    "__Решение задач из этого пункта является не обязательным и никак не влияет на вашу оценку.__ \n",
    "\n",
    "__Гипотеза:__\n",
    "\n",
    "> Если мы попали в корзину, сделав первый штрафной бросок, вероятность попасть при втором штрафном выше, чем если бы мы промахнулись.\n",
    "\n",
    "Проверим эту гипотезу. \n",
    "\n",
    "- Создадим в исходной таблице колонку `shot_made_previous` методом `shift()`. В ней будет записан результат предыдущего броска. Данные отсортированы по времени.\n",
    "- Извлечём из данных в таблицу `winner_effect` все строки, где в колонке `play` находится одна из записей: `\"2 of 2\", \"2 of 3\", \"3 of 3\"`. Каждая из них означает, что предыдущий бросок был сделан успешно. Этот же срез выбросит из таблицы все строки, где сдвиг, сделанный в предыдущем пункте, привёл к появлению некорректных записей.  "
   ]
  },
  {
   "cell_type": "code",
   "execution_count": null,
   "metadata": {},
   "outputs": [],
   "source": [
    "df[\"shot_made_previous\"] = df.shot_made.shift()\n",
    "\n",
    "winner_effect = df[(df.play.str.contains(\"2 of 2\")) | \\\n",
    "                   (df.play.str.contains(\"2 of 3\")) | \n",
    "                   (df.play.str.contains(\"3 of 3\"))]"
   ]
  },
  {
   "cell_type": "markdown",
   "metadata": {},
   "source": [
    "По аналогии с пунктом $2$ найдите вероятность попасть в корзину при условии, что первый бросок был успешен, и вероятность попасть, при условии, что первый бросок был неуспешен. \n",
    "\n",
    "- Всех игроков с оценкой только одной из вероятностей удалите из данных.\n",
    "- Всех игроков, у которых было меньше $10$ успешных первых бросков либо проваленных первых бросков, также удалите.\n",
    "\n",
    "Для каждого игрока проверьте гипотезу о том, что эти две вероятности совпадают. Используйте уровень значимости $5\\%$. Для коррекции уровня значимости используйте методы Холма и Бенжамини-Хохберга. Для скольких игроков гипотеза об эффекте победителя не отвергается?"
   ]
  },
  {
   "cell_type": "code",
   "execution_count": null,
   "metadata": {
    "deletable": false,
    "nbgrader": {
     "cell_type": "code",
     "checksum": "f3a2223525a1ba70897c1117bbe35506",
     "grade": false,
     "grade_id": "cell-5dcff4f9598ae49b",
     "locked": false,
     "schema_version": 3,
     "solution": true,
     "task": false
    }
   },
   "outputs": [],
   "source": [
    "### ╰( ͡° ͜ʖ ͡° )つ▬▬ι═══════  bzzzzzzzzzz\n",
    "# will the code be with you\n",
    "\n",
    "# your code here\n"
   ]
  },
  {
   "cell_type": "code",
   "execution_count": null,
   "metadata": {
    "deletable": false,
    "nbgrader": {
     "cell_type": "code",
     "checksum": "6bf9da40aa6cdff3f3f7957dd28a20a4",
     "grade": false,
     "grade_id": "cell-640ac09692c87082",
     "locked": false,
     "schema_version": 3,
     "solution": true,
     "task": false
    }
   },
   "outputs": [],
   "source": [
    "### ╰( ͡° ͜ʖ ͡° )つ▬▬ι═══════  bzzzzzzzzzz\n",
    "# will the code be with you\n",
    "\n",
    "# your code here\n"
   ]
  },
  {
   "cell_type": "markdown",
   "metadata": {},
   "source": [
    "Посмотрите на таблицу значимых по Бенжамини-Хохбергу эффектов. Какие из них на ваш взгляд являются существенными? Не допустили ли мы в этих ситуациях ошибку второго рода?"
   ]
  },
  {
   "cell_type": "code",
   "execution_count": null,
   "metadata": {
    "deletable": false,
    "nbgrader": {
     "cell_type": "code",
     "checksum": "871906201165c12d62a93f996b123bd7",
     "grade": false,
     "grade_id": "cell-9c851e54f8bbeca9",
     "locked": false,
     "schema_version": 3,
     "solution": true,
     "task": false
    }
   },
   "outputs": [],
   "source": [
    "### ╰( ͡° ͜ʖ ͡° )つ▬▬ι═══════  bzzzzzzzzzz\n",
    "# will the code be with you\n",
    "\n",
    "# your code here\n"
   ]
  },
  {
   "cell_type": "markdown",
   "metadata": {},
   "source": [
    "В свободное время посмотрите фильм [\"Человек, который изменил всё\"](https://www.kinopoisk.ru/film/432791/) про спортивных скаутов. В нём играет молодой Брэд Пит, а ещё он про статистику.\n",
    "\n",
    "<center>\n",
    "<img src=\"https://img3.goodfon.ru/original/2026x1236/1/68/moneyball-bratt-pitt-actor.jpg\" width=\"700\"> \n",
    "</center>\n"
   ]
  }
 ],
 "metadata": {
  "kernelspec": {
   "display_name": "Python 3",
   "language": "python",
   "name": "python3"
  },
  "language_info": {
   "codemirror_mode": {
    "name": "ipython",
    "version": 3
   },
   "file_extension": ".py",
   "mimetype": "text/x-python",
   "name": "python",
   "nbconvert_exporter": "python",
   "pygments_lexer": "ipython3",
   "version": "3.8.3"
  }
 },
 "nbformat": 4,
 "nbformat_minor": 2
}
