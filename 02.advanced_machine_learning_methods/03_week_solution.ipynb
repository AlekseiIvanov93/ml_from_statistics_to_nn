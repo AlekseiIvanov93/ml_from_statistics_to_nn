{
 "cells": [
  {
   "cell_type": "markdown",
   "metadata": {
    "deletable": false,
    "editable": false,
    "id": "XDorr4PvB4oP",
    "nbgrader": {
     "cell_type": "markdown",
     "checksum": "5acb3795551446faaac2bfd5854781ec",
     "grade": false,
     "grade_id": "cell-a037cdddbde91252",
     "locked": true,
     "schema_version": 3,
     "solution": false,
     "task": false
    }
   },
   "source": [
    "## Домашнее задание 9\n",
    "### Градиентный бустинг\n",
    "\n",
    "В данном домашнем задании мы изучим применение градиентного бустинга для решения реальных задач.\n",
    "  \n",
    "Мы будем использовать данные об аренде квартир сервиса Яндекс.Недвижимость: по информации из объявления предсказывать время его экспозиции на сервисе.  \n",
    "\n",
    "Для измерения качества моделей в данном задании будем использовать среднюю абсолютную ошибку (MAE)."
   ]
  },
  {
   "cell_type": "code",
   "execution_count": null,
   "metadata": {
    "deletable": false,
    "editable": false,
    "id": "I2Tb5a7JDzw8",
    "nbgrader": {
     "cell_type": "code",
     "checksum": "82c320c3e71e451a2c64a47f69c684b1",
     "grade": false,
     "grade_id": "cell-4b0b53949c1027dc",
     "locked": true,
     "schema_version": 3,
     "solution": false,
     "task": false
    }
   },
   "outputs": [],
   "source": [
    "! pip install catboost==0.22\n",
    "! pip install lightgbm==2.3.1"
   ]
  },
  {
   "cell_type": "code",
   "execution_count": 1,
   "metadata": {},
   "outputs": [],
   "source": [
    "import pandas as pd\n",
    "import numpy as np\n",
    "import catboost\n",
    "import lightgbm\n",
    "from sklearn.model_selection import train_test_split\n",
    "from sklearn.metrics import mean_absolute_error"
   ]
  },
  {
   "cell_type": "code",
   "execution_count": 2,
   "metadata": {
    "id": "wfHAGNgnB4oQ",
    "nbgrader": {
     "cell_type": "code",
     "checksum": "be8894e9b1b401793bd3f35355b9c6b4",
     "grade": false,
     "grade_id": "cell-3d898c9d801a9c96",
     "locked": true,
     "schema_version": 3,
     "solution": false,
     "task": false
    }
   },
   "outputs": [],
   "source": [
    "data = pd.read_csv('data.tsv', sep='\\t')\n",
    "data = data[:100_000]\n",
    "num_features = ['agent_fee', 'floor', 'floors_total', 'kitchen_area', 'living_area', 'price', 'rooms_offered', 'total_area', 'total_images']\n",
    "cat_features = ['balcony', 'building_type', 'month', 'renovation', 'studio']\n",
    "\n",
    "X_train, X_test, y_train, y_test = train_test_split(data[num_features+cat_features], data['exposition_time'], test_size=0.3, shuffle=False)"
   ]
  },
  {
   "cell_type": "markdown",
   "metadata": {
    "deletable": false,
    "editable": false,
    "id": "mqBxGmIpB4oV",
    "nbgrader": {
     "cell_type": "markdown",
     "checksum": "09179bd2dc7ffc5f0337e9458727ccb8",
     "grade": false,
     "grade_id": "cell-8a8dfd6d7f6eb505",
     "locked": true,
     "schema_version": 3,
     "solution": false,
     "task": false
    }
   },
   "source": [
    "__Задание 1.__\n",
    "\n",
    "В этом задании вам предстоит сравнить базовые версии (без подбора параметров) двух реализаций градиентного бустинга.\n",
    "\n",
    "Обучите LightGBM и Catboost на **вещественных** признаках без подбора параметров, но с 300 деревьями. Здесь и во всей работе далее обязательно используйте только 300 деревьев для ускорения. Сделайте предсказания для тестовой выборки, посчитайте MAE. Выведите модуль разности между значениями метрик LightGBM и Catboost. Ответ округлите до 4 знаков после запятой.\n",
    "\n",
    "В этом и последующих экспериментах советуем измерять время обучения моделей. Для того чтобы замерить время работы ячейки вначале ячейки укажите отдельной строкой ```%%time``` (в этом задании обучение модели может занимать 2-5 минут)."
   ]
  },
  {
   "cell_type": "code",
   "execution_count": 3,
   "metadata": {
    "deletable": false,
    "nbgrader": {
     "cell_type": "code",
     "checksum": "3c7dcbb60a6bd6debc868844f71a2b30",
     "grade": false,
     "grade_id": "cell-8891341fe3d88416",
     "locked": false,
     "schema_version": 3,
     "solution": true,
     "task": false
    }
   },
   "outputs": [],
   "source": [
    "lgbm_model = lightgbm.LGBMRegressor(n_estimators=300)\n",
    "lgbm_model.fit(X_train[num_features], y_train)\n",
    "mae_lgbm = mean_absolute_error(y_test, lgbm_model.predict(X_test[num_features]))\n",
    "\n",
    "cat_model = catboost.CatBoostRegressor(n_estimators=300,logging_level='Silent')\n",
    "cat_model.fit(X_train[num_features], y_train)\n",
    "mae_cat = mean_absolute_error(y_test, cat_model.predict(X_test[num_features]))\n",
    "\n",
    "answer = round(abs(mae_lgbm-mae_cat),4)"
   ]
  },
  {
   "cell_type": "code",
   "execution_count": 4,
   "metadata": {
    "deletable": false,
    "editable": false,
    "nbgrader": {
     "cell_type": "code",
     "checksum": "15e126ff8e740a96403d00a8d6c1e83e",
     "grade": false,
     "grade_id": "cell-488d2e58befab3f4",
     "locked": true,
     "schema_version": 3,
     "solution": false,
     "task": false
    }
   },
   "outputs": [],
   "source": [
    "# Небольшая проверка для себя\n",
    "import hashlib\n",
    "\n",
    "assert hashlib.sha256(str(answer).encode()).hexdigest() == '825dd7e490a2e990fc87b16c0d6c39fa3586e9dee47e1dda2a163cd47c4fbe7b'"
   ]
  },
  {
   "cell_type": "code",
   "execution_count": 5,
   "metadata": {
    "deletable": false,
    "editable": false,
    "nbgrader": {
     "cell_type": "code",
     "checksum": "a16d5b3cd7ea84e05bbde27736bb30a0",
     "grade": true,
     "grade_id": "cell-6a9f45954ee667c4",
     "locked": true,
     "points": 1,
     "schema_version": 3,
     "solution": false,
     "task": false
    }
   },
   "outputs": [],
   "source": [
    "# проверка, просто запустите ячейку\n"
   ]
  },
  {
   "cell_type": "markdown",
   "metadata": {
    "deletable": false,
    "editable": false,
    "nbgrader": {
     "cell_type": "markdown",
     "checksum": "42b68d4ab57dfd69cd23b8a49fdc844a",
     "grade": false,
     "grade_id": "cell-fd9970c818c4919c",
     "locked": true,
     "schema_version": 3,
     "solution": false,
     "task": false
    }
   },
   "source": [
    "Если время работы более 30 секунд, то **закомментируйте код и для сдачи ноутбука** оставьте только ответ вида ```answer = x.xxxx```"
   ]
  },
  {
   "cell_type": "markdown",
   "metadata": {
    "deletable": false,
    "editable": false,
    "id": "-cRmOnhMB4ob",
    "nbgrader": {
     "cell_type": "markdown",
     "checksum": "3104f61eba086f78679b2428db64ec96",
     "grade": false,
     "grade_id": "cell-a60f8a72c1444d1b",
     "locked": true,
     "schema_version": 3,
     "solution": false,
     "task": false
    }
   },
   "source": [
    "__Задание 2.__\n",
    "\n",
    "Далее будем использовать только Catboost.\n",
    "\n",
    "Подберите оптимальные параметры для Catboost на вещественных признаках,  используя все доступные комбинации из:\n",
    "\n",
    "* глубины деревьев {5, 7, 9};\n",
    "* темпа обучения {0.05, 0.1, 0.5}.\n",
    "\n",
    "Не забудьте указать данные гиперпараметры: ```( random_seed=0, n_estimators=300),```. Другие гиперпараметры оставьте без изменений.\n",
    "\n",
    "Сделайте предсказания для тестовой выборки лучшей моделью, вычислите MAE. Ответ округлите до 4 знаков после запятой.\n",
    "\n",
    "Этот перебор может работать порядка 20-40 минут, не переживайте. Разработчики машинного обучения часто с этим сталкиваются. Смотрите на падающую ошибку и пейте смузи. Для сдачи код закомментируйте и оставьте только ответ."
   ]
  },
  {
   "cell_type": "code",
   "execution_count": 6,
   "metadata": {
    "deletable": false,
    "nbgrader": {
     "cell_type": "code",
     "checksum": "9166eed408d74555e46c88e60a7c5b61",
     "grade": false,
     "grade_id": "cell-e0196788a6e34126",
     "locked": false,
     "schema_version": 3,
     "solution": true,
     "task": false
    }
   },
   "outputs": [],
   "source": [
    "mae = []\n",
    "max_depth = [5, 7, 9]\n",
    "learning_rate = [0.05, 0.1, 0.5]\n",
    "for depth in max_depth:\n",
    "    for rate in learning_rate:\n",
    "        cat_model = catboost.CatBoostRegressor(n_estimators=300,\n",
    "                                               max_depth =  depth, \n",
    "                                                learning_rate = rate, \n",
    "                                                random_seed = 0, \n",
    "                                                logging_level = 'Silent')\n",
    "        cat_model.fit(X_train[num_features], y_train)\n",
    "        mae_cat = mean_absolute_error(y_test, cat_model.predict(X_test[num_features]))\n",
    "        mae.append([mae_cat,rate,depth])\n",
    "mae_test_best = round(min(mae)[0],4)"
   ]
  },
  {
   "cell_type": "code",
   "execution_count": 7,
   "metadata": {
    "deletable": false,
    "editable": false,
    "nbgrader": {
     "cell_type": "code",
     "checksum": "79f1f6a0e79aa1219299cb42feb2be53",
     "grade": false,
     "grade_id": "cell-d8b5cbae82efcf6e",
     "locked": true,
     "schema_version": 3,
     "solution": false,
     "task": false
    }
   },
   "outputs": [],
   "source": [
    "# Небольшая проверка для себя\n",
    "import hashlib\n",
    "\n",
    "assert hashlib.sha256(str(mae_test_best).encode()).hexdigest() == '701d6e59872091d34849653a213811a1275eeb7d89032422f78436197c966086'"
   ]
  },
  {
   "cell_type": "code",
   "execution_count": 8,
   "metadata": {
    "deletable": false,
    "editable": false,
    "nbgrader": {
     "cell_type": "code",
     "checksum": "2715dea03ac6481f406e57129092965a",
     "grade": true,
     "grade_id": "cell-e1667ebbfb59ebad",
     "locked": true,
     "points": 1,
     "schema_version": 3,
     "solution": false,
     "task": false
    }
   },
   "outputs": [],
   "source": [
    "# проверка, просто запустите ячейку\n"
   ]
  },
  {
   "cell_type": "markdown",
   "metadata": {
    "deletable": false,
    "editable": false,
    "id": "sdZOQT6iB4of",
    "nbgrader": {
     "cell_type": "markdown",
     "checksum": "e3966030369e98050013fa3b1f38a8fd",
     "grade": false,
     "grade_id": "cell-5a0bc4c291ea3eb7",
     "locked": true,
     "schema_version": 3,
     "solution": false,
     "task": false
    }
   },
   "source": [
    "__Задание 3.__\n",
    "\n",
    "Пока что мы использовали только вещественные данные, однако категориальные переменные также могут быть полезны для решения задачи. Используйте все доступные признаки, обрабатывая категориальные встроенным методом Catboost. Используйте найденные в прошлом задании наилучшие глубину и learning rate. Также возьмите 300 деревьев и random_state=0.\n",
    "\n",
    "Выведите значение MAE на тестовой выборке округленное до 4 знаков после запятой."
   ]
  },
  {
   "cell_type": "code",
   "execution_count": 9,
   "metadata": {
    "deletable": false,
    "nbgrader": {
     "cell_type": "code",
     "checksum": "c76a48db6084b2208594a7a1def23fe2",
     "grade": false,
     "grade_id": "cell-4f903397e22241cf",
     "locked": false,
     "schema_version": 3,
     "solution": true,
     "task": false
    }
   },
   "outputs": [],
   "source": [
    "cat_model_3 = catboost.CatBoostRegressor(n_estimators=300,\n",
    "                                              max_depth =  7, \n",
    "                                               learning_rate = 0.05, \n",
    "                                               random_state = 0, \n",
    "                                               logging_level = 'Silent')\n",
    "cat_model_3.fit(X_train, y_train, cat_features=cat_features)\n",
    "mae_cat = mean_absolute_error(y_test, cat_model_3.predict(X_test))\n",
    "mae_test = round(mae_cat,4)"
   ]
  },
  {
   "cell_type": "code",
   "execution_count": 10,
   "metadata": {
    "deletable": false,
    "editable": false,
    "nbgrader": {
     "cell_type": "code",
     "checksum": "08c50f0911ce4583af78dd5d533160af",
     "grade": false,
     "grade_id": "cell-160885d1f098f63b",
     "locked": true,
     "schema_version": 3,
     "solution": false,
     "task": false
    }
   },
   "outputs": [],
   "source": [
    "# Небольшая проверка для себя\n",
    "import hashlib\n",
    "\n",
    "assert hashlib.sha256(str(mae_test).encode()).hexdigest() == '6271b79f40d10f0f713e536fa657d47eaabe00319100a2a758d591a50850a9cd'"
   ]
  },
  {
   "cell_type": "code",
   "execution_count": 11,
   "metadata": {
    "deletable": false,
    "editable": false,
    "nbgrader": {
     "cell_type": "code",
     "checksum": "b5b9b6b6e7a50027a7b56adbc9d4a56b",
     "grade": true,
     "grade_id": "cell-72b5331a5f1f4a0c",
     "locked": true,
     "points": 1,
     "schema_version": 3,
     "solution": false,
     "task": false
    }
   },
   "outputs": [],
   "source": [
    "# проверка, просто запустите ячейку\n"
   ]
  },
  {
   "cell_type": "markdown",
   "metadata": {
    "deletable": false,
    "editable": false,
    "id": "VtW2FkMRB4ol",
    "nbgrader": {
     "cell_type": "markdown",
     "checksum": "dcb3d2fd8dfa1c6dfb9c45aab0132e27",
     "grade": false,
     "grade_id": "cell-53e19d3704bc0ee3",
     "locked": true,
     "schema_version": 3,
     "solution": false,
     "task": false
    }
   },
   "source": [
    "__Задание 4.__\n",
    "\n",
    "Реализуйте блендинг (получение ответов нескольких моделей и взятие их с весами (их нужно подбирать на обучающей выборке)) полученных в заданиях 2 и 3 моделей и выведите MAE на тестовой выборке. Ответ также округлите до 4 знаков после запятой.\n",
    "\n",
    "Обратите внимание: в этом задании нет ограничений на веса у моделей."
   ]
  },
  {
   "cell_type": "code",
   "execution_count": 12,
   "metadata": {},
   "outputs": [],
   "source": [
    "cat_model_1 = catboost.CatBoostRegressor(n_estimators=300,\n",
    "                                              max_depth =  7, \n",
    "                                               learning_rate = 0.05, \n",
    "                                               random_state = 0, \n",
    "                                               logging_level = 'Silent').fit(X_train[num_features], y_train)"
   ]
  },
  {
   "cell_type": "code",
   "execution_count": 13,
   "metadata": {},
   "outputs": [],
   "source": [
    "y_train_pred_1=cat_model_1.predict(X_train[num_features])\n",
    "y_test_pred_1=cat_model_1.predict(X_test[num_features])\n",
    "\n",
    "y_train_pred_2=cat_model_3.predict(X_train)\n",
    "y_test_pred_2=cat_model_3.predict(X_test)"
   ]
  },
  {
   "cell_type": "code",
   "execution_count": 14,
   "metadata": {
    "colab": {
     "base_uri": "https://localhost:8080/",
     "height": 34
    },
    "id": "oUEVoJspB4om",
    "outputId": "82679543-c52a-420d-8933-1dd0bef20065"
   },
   "outputs": [],
   "source": [
    "def select_weights(y_true, y_pred_1, y_pred_2):\n",
    "    metric = []\n",
    "    grid = np.linspace(0, 1, 100)\n",
    "    for w_0 in grid:\n",
    "        w_1 = 1 - w_0\n",
    "        y = y_pred_1 * w_0 + y_pred_2 * w_1\n",
    "        metric.append([mean_absolute_error(y_true, y), w_0, w_1])\n",
    "    return metric"
   ]
  },
  {
   "cell_type": "code",
   "execution_count": 15,
   "metadata": {
    "deletable": false,
    "nbgrader": {
     "cell_type": "code",
     "checksum": "c58f09083844496efd6908c5e602cae2",
     "grade": false,
     "grade_id": "cell-9f3538d09f6f9b9e",
     "locked": false,
     "schema_version": 3,
     "solution": true,
     "task": false
    }
   },
   "outputs": [],
   "source": [
    "mae_blending_train, w_0, w_1 = min(select_weights(y_train, y_train_pred_1, y_train_pred_2), key=lambda x: x[0])\n",
    "mae_test2 = round(mean_absolute_error(y_test, y_test_pred_1 * w_0 +  y_test_pred_2 * w_1),4)"
   ]
  },
  {
   "cell_type": "code",
   "execution_count": 16,
   "metadata": {
    "deletable": false,
    "editable": false,
    "nbgrader": {
     "cell_type": "code",
     "checksum": "9635dd3771fe16c832a102bf5bef3989",
     "grade": false,
     "grade_id": "cell-0cfbcfcf6c1ac751",
     "locked": true,
     "schema_version": 3,
     "solution": false,
     "task": false
    }
   },
   "outputs": [],
   "source": [
    "# Небольшая проверка для себя\n",
    "import hashlib\n",
    "\n",
    "assert hashlib.sha256(str(mae_test2).encode()).hexdigest() == '6670d906a6ebc5b7d96e5b4a677550ea3fc87c8bf1f99dd4030b66c4cf948bfb'"
   ]
  },
  {
   "cell_type": "code",
   "execution_count": 17,
   "metadata": {
    "deletable": false,
    "editable": false,
    "nbgrader": {
     "cell_type": "code",
     "checksum": "9fc84023d055890cfcc4cdb7e63274b2",
     "grade": true,
     "grade_id": "cell-92ea3682fd1b25b8",
     "locked": true,
     "points": 1,
     "schema_version": 3,
     "solution": false,
     "task": false
    }
   },
   "outputs": [],
   "source": [
    "# проверка, просто запустите ячейку\n"
   ]
  },
  {
   "cell_type": "markdown",
   "metadata": {
    "deletable": false,
    "editable": false,
    "id": "BVHeePb_B4op",
    "nbgrader": {
     "cell_type": "markdown",
     "checksum": "aee8700de3c53bfd4b844d9af70d5bb6",
     "grade": false,
     "grade_id": "cell-67c8fe3048cc71cc",
     "locked": true,
     "schema_version": 3,
     "solution": false,
     "task": false
    }
   },
   "source": [
    "__Задание 5.__\n",
    "\n",
    "В задании 3 вы подобрали гиперпараметры для CatBoost на всех признаках. Визуализируйте их важности в виде горизонтального bar-plot (отсортируйте признаки по убыванию важности, подпишите названия признаков по оси y).\n",
    "\n",
    "Для каждого из двух алгоритмов удалите неважные признаки (значения **менее 5**; обычно по bar-plot хорошо видно порог, с которого начинается хвост неважных признаков) и обучите модель с теми же параметрами(из задания 3) на оставшихся признаках. Посчитайте значение MAE на тестовой выборке, округлите его до 4 знаков после запятой. \n",
    "\n",
    "Сделайте выводы!"
   ]
  },
  {
   "cell_type": "code",
   "execution_count": 18,
   "metadata": {
    "id": "qT_hIbiEB4oq"
   },
   "outputs": [
    {
     "data": {
      "image/png": "[encoded data removed]",
      "text/plain": [
       "<Figure size 432x288 with 1 Axes>"
      ]
     },
     "metadata": {
      "needs_background": "light"
     },
     "output_type": "display_data"
    }
   ],
   "source": [
    "import seaborn as sns\n",
    "all_features = cat_features + num_features\n",
    "features_imp = pd.DataFrame({'importance': cat_model_3.feature_importances_,\n",
    "                             'name': all_features}).sort_values(by='importance', ascending=False)\n",
    "sns.barplot(x='importance', y='name', data=features_imp);"
   ]
  },
  {
   "cell_type": "code",
   "execution_count": 19,
   "metadata": {},
   "outputs": [
    {
     "data": {
      "image/png": "[encoded data removed]",
      "text/plain": [
       "<Figure size 432x288 with 1 Axes>"
      ]
     },
     "metadata": {
      "needs_background": "light"
     },
     "output_type": "display_data"
    }
   ],
   "source": [
    "features_imp = features_imp.loc[features_imp ['importance']>5]\n",
    "sns.barplot(x='importance', y='name', data=features_imp);"
   ]
  },
  {
   "cell_type": "code",
   "execution_count": 20,
   "metadata": {},
   "outputs": [],
   "source": [
    "num_features1 = ['agent_fee', 'floors_total', 'kitchen_area', 'price', 'total_area']\n",
    "cat_features1 = ['balcony', 'renovation', 'studio']\n",
    "X_train1, X_test1, y_train1, y_test1 = train_test_split(data[num_features1+cat_features1], data['exposition_time'], test_size=0.3, shuffle=False)"
   ]
  },
  {
   "cell_type": "code",
   "execution_count": 21,
   "metadata": {
    "deletable": false,
    "nbgrader": {
     "cell_type": "code",
     "checksum": "4650f2ad37cd11e149db6211d7a342ea",
     "grade": false,
     "grade_id": "cell-cae2e73cd46eb244",
     "locked": false,
     "schema_version": 3,
     "solution": true,
     "task": false
    }
   },
   "outputs": [],
   "source": [
    "cat_model_3 = catboost.CatBoostRegressor(n_estimators=300,\n",
    "                                              max_depth =  7, \n",
    "                                               learning_rate = 0.05, \n",
    "                                               random_state = 0, \n",
    "                                               logging_level = 'Silent')\n",
    "cat_model_3.fit(X_train1, y_train1, cat_features=cat_features1)\n",
    "mae_cat = mean_absolute_error(y_test1, cat_model_3.predict(X_test1))\n",
    "answer = round((mae_cat),4)"
   ]
  },
  {
   "cell_type": "code",
   "execution_count": 23,
   "metadata": {
    "deletable": false,
    "editable": false,
    "nbgrader": {
     "cell_type": "code",
     "checksum": "1649aa390868a0238db2459336e0af0b",
     "grade": false,
     "grade_id": "cell-26a8cc28662e6da6",
     "locked": true,
     "schema_version": 3,
     "solution": false,
     "task": true
    }
   },
   "outputs": [
    {
     "ename": "AssertionError",
     "evalue": "",
     "output_type": "error",
     "traceback": [
      "\u001b[1;31m---------------------------------------------------------------------------\u001b[0m",
      "\u001b[1;31mAssertionError\u001b[0m                            Traceback (most recent call last)",
      "\u001b[1;32m<ipython-input-23-d28c5d38efa7>\u001b[0m in \u001b[0;36m<module>\u001b[1;34m\u001b[0m\n\u001b[0;32m      2\u001b[0m \u001b[1;32mimport\u001b[0m \u001b[0mhashlib\u001b[0m\u001b[1;33m\u001b[0m\u001b[1;33m\u001b[0m\u001b[0m\n\u001b[0;32m      3\u001b[0m \u001b[1;33m\u001b[0m\u001b[0m\n\u001b[1;32m----> 4\u001b[1;33m \u001b[1;32massert\u001b[0m \u001b[0mhashlib\u001b[0m\u001b[1;33m.\u001b[0m\u001b[0msha256\u001b[0m\u001b[1;33m(\u001b[0m\u001b[0mstr\u001b[0m\u001b[1;33m(\u001b[0m\u001b[0manswer\u001b[0m\u001b[1;33m)\u001b[0m\u001b[1;33m.\u001b[0m\u001b[0mencode\u001b[0m\u001b[1;33m(\u001b[0m\u001b[1;33m)\u001b[0m\u001b[1;33m)\u001b[0m\u001b[1;33m.\u001b[0m\u001b[0mhexdigest\u001b[0m\u001b[1;33m(\u001b[0m\u001b[1;33m)\u001b[0m \u001b[1;33m==\u001b[0m \u001b[1;34m'59874d5b029abd4a56a6d323039710aa96257d9fd139c277a7ca0f52b7f61c5a'\u001b[0m\u001b[1;33m\u001b[0m\u001b[1;33m\u001b[0m\u001b[0m\n\u001b[0m",
      "\u001b[1;31mAssertionError\u001b[0m: "
     ]
    }
   ],
   "source": [
    "# Небольшая проверка для себя\n",
    "import hashlib\n",
    "\n",
    "assert hashlib.sha256(str(answer).encode()).hexdigest() == '59874d5b029abd4a56a6d323039710aa96257d9fd139c277a7ca0f52b7f61c5a'"
   ]
  },
  {
   "cell_type": "code",
   "execution_count": 24,
   "metadata": {
    "deletable": false,
    "editable": false,
    "nbgrader": {
     "cell_type": "code",
     "checksum": "ccca44257ec7148b030fd711a8a83e5a",
     "grade": true,
     "grade_id": "cell-bdee409cfd3da882",
     "locked": true,
     "points": 1,
     "schema_version": 3,
     "solution": false,
     "task": false
    }
   },
   "outputs": [],
   "source": [
    "# проверка, просто запустите ячейку\n"
   ]
  },
  {
   "cell_type": "markdown",
   "metadata": {
    "deletable": false,
    "editable": false,
    "nbgrader": {
     "cell_type": "markdown",
     "checksum": "6e982cffecc11deffc7b83d1fea58bcf",
     "grade": false,
     "grade_id": "cell-3c0ea667866eb227",
     "locked": true,
     "schema_version": 3,
     "solution": false,
     "task": false
    }
   },
   "source": [
    "Подумайте, почему могли получиться такие интересные резульаты!\n",
    "\n",
    "Напоминаем: те части кода, которые выполнялись более 30 секунд оставьте закомментированными, только с ответом в переменной."
   ]
  }
 ],
 "metadata": {
  "colab": {
   "collapsed_sections": [],
   "name": "hw09.ipynb",
   "provenance": []
  },
  "kernelspec": {
   "display_name": "Python 3",
   "language": "python",
   "name": "python3"
  },
  "language_info": {
   "codemirror_mode": {
    "name": "ipython",
    "version": 3
   },
   "file_extension": ".py",
   "mimetype": "text/x-python",
   "name": "python",
   "nbconvert_exporter": "python",
   "pygments_lexer": "ipython3",
   "version": "3.8.3"
  }
 },
 "nbformat": 4,
 "nbformat_minor": 1
}
