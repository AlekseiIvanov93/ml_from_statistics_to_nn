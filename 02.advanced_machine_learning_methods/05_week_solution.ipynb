{
 "cells": [
  {
   "cell_type": "markdown",
   "metadata": {
    "deletable": false,
    "editable": false,
    "id": "ychQcodwwgfp",
    "nbgrader": {
     "cell_type": "markdown",
     "checksum": "018069edb2d7e6d1a9536c29eebd4948",
     "grade": false,
     "grade_id": "cell-ca2d6cef6ad83a94",
     "locked": true,
     "schema_version": 3,
     "solution": false,
     "task": false
    }
   },
   "source": [
    "В этом задании мы найдем похожие фильмы и пользователей по алгоритму ALS, реализуем подсчет метрики NDCG и исследуем влияние размерности скрытых представлений на работу алгоритма."
   ]
  },
  {
   "cell_type": "markdown",
   "metadata": {
    "deletable": false,
    "editable": false,
    "id": "KGJjO0IwxAfE",
    "nbgrader": {
     "cell_type": "markdown",
     "checksum": "3db2a53a6dd1498c1f5dd8286acfba0f",
     "grade": false,
     "grade_id": "cell-dc634eb28346b085",
     "locked": true,
     "schema_version": 3,
     "solution": false,
     "task": false
    }
   },
   "source": [
    "Загрузим данные и модели из семинара:\n",
    "\n",
    "**Важно: не изменяйте код до задания 1!**"
   ]
  },
  {
   "cell_type": "code",
   "execution_count": 1,
   "metadata": {
    "deletable": false,
    "editable": false,
    "id": "HLW7bd6zw9zr",
    "nbgrader": {
     "cell_type": "code",
     "checksum": "efa1006ce637469315d9e0b66a6ae63e",
     "grade": false,
     "grade_id": "cell-7f84956e11bb3612",
     "locked": true,
     "schema_version": 3,
     "solution": false,
     "task": false
    }
   },
   "outputs": [],
   "source": [
    "import zipfile\n",
    "from collections import defaultdict, Counter\n",
    "import datetime\n",
    "\n",
    "from scipy import linalg\n",
    "import numpy as np"
   ]
  },
  {
   "cell_type": "code",
   "execution_count": 2,
   "metadata": {
    "deletable": false,
    "editable": false,
    "id": "CtB8oYg7qBzn",
    "nbgrader": {
     "cell_type": "code",
     "checksum": "9302f7a57e079adad7d8d3d4e054f5b9",
     "grade": false,
     "grade_id": "cell-063f3f91fa2413b6",
     "locked": true,
     "schema_version": 3,
     "solution": false,
     "task": false
    }
   },
   "outputs": [],
   "source": [
    "# read data\n",
    "movies = {} # id\n",
    "users = {} # id\n",
    "ratings = defaultdict(list) # user-id\n",
    "\n",
    "with zipfile.ZipFile(\"ml-1m.zip\", \"r\") as z:\n",
    "    # parse movies\n",
    "    with z.open(\"ml-1m/movies.dat\") as m:\n",
    "        for line in m:\n",
    "            MovieID, Title, Genres = line.decode('iso-8859-1').strip().split(\"::\")\n",
    "            MovieID = int(MovieID)\n",
    "            Genres = Genres.split(\"|\")\n",
    "            movies[MovieID] = {\"Title\": Title, \"Genres\": Genres}\n",
    "    \n",
    "    # parse users\n",
    "    with z.open(\"ml-1m/users.dat\") as m:\n",
    "        fields = [\"UserID\", \"Gender\", \"Age\", \"Occupation\", \"Zip-code\"]\n",
    "        for line in m:\n",
    "            row = list(zip(fields, line.decode('iso-8859-1').strip().split(\"::\")))\n",
    "            data = dict(row[1:])\n",
    "            data[\"Occupation\"] = int(data[\"Occupation\"])\n",
    "            users[int(row[0][1])] = data\n",
    "    \n",
    "    # parse ratings\n",
    "    with z.open(\"ml-1m/ratings.dat\") as m:\n",
    "        for i, line in enumerate(m):\n",
    "            if i == 100_000:    # for quicker runs\n",
    "                break\n",
    "            UserID, MovieID, Rating, Timestamp = line.decode('iso-8859-1').strip().split(\"::\")\n",
    "            UserID = int(UserID)\n",
    "            MovieID = int(MovieID)\n",
    "            Rating = int(Rating)\n",
    "            Timestamp = int(Timestamp)\n",
    "            ratings[UserID].append((MovieID, Rating, datetime.datetime.fromtimestamp(Timestamp)))"
   ]
  },
  {
   "cell_type": "code",
   "execution_count": 3,
   "metadata": {
    "colab": {
     "base_uri": "https://localhost:8080/",
     "height": 51
    },
    "deletable": false,
    "editable": false,
    "id": "x-JKj56U3myp",
    "nbgrader": {
     "cell_type": "code",
     "checksum": "c0307019f335e82f196e80a55526e31d",
     "grade": false,
     "grade_id": "cell-684a93112b195f64",
     "locked": true,
     "schema_version": 3,
     "solution": false,
     "task": false
    },
    "outputId": "d646575e-8605-49e8-ff98-c630beab9bb4"
   },
   "outputs": [
    {
     "name": "stdout",
     "output_type": "stream",
     "text": [
      "ratings in train: 80001\n",
      "ratings in test: 19999\n"
     ]
    }
   ],
   "source": [
    "# train-test split\n",
    "times = []\n",
    "for user_ratings in ratings.values():\n",
    "  times.extend([x[2] for x in user_ratings])\n",
    "times = sorted(times)\n",
    "threshold_time = times[int(0.8 * len(times))]\n",
    "\n",
    "train = []\n",
    "test = []\n",
    "for user_id, user_ratings in ratings.items():\n",
    "    train.extend((user_id, rating[0], rating[1] / 5.0) for rating in user_ratings if rating[2] <= threshold_time)\n",
    "    test.extend((user_id, rating[0], rating[1] / 5.0) for rating in user_ratings if rating[2] > threshold_time)\n",
    "print(\"ratings in train:\", len(train))\n",
    "print(\"ratings in test:\", len(test))"
   ]
  },
  {
   "cell_type": "code",
   "execution_count": 4,
   "metadata": {
    "deletable": false,
    "editable": false,
    "id": "RNp-TT5M5JxM",
    "nbgrader": {
     "cell_type": "code",
     "checksum": "96ecbf2826f6beb2b3cdcb78a06e6775",
     "grade": false,
     "grade_id": "cell-29032be087fc7724",
     "locked": true,
     "schema_version": 3,
     "solution": false,
     "task": false
    }
   },
   "outputs": [],
   "source": [
    "train_by_user = defaultdict(list)\n",
    "test_by_user = defaultdict(list)\n",
    "for u, i, r in train:\n",
    "    train_by_user[u].append((i, r))\n",
    "for u, i, r in test:\n",
    "    test_by_user[u].append((i, r))\n",
    "\n",
    "train_by_item = defaultdict(list)\n",
    "for u, i, r in train:\n",
    "    train_by_item[i].append((u, r))\n",
    "\n",
    "n_users = max([e[0] for e in train]) + 1\n",
    "n_items = max([e[1] for e in train]) + 1"
   ]
  },
  {
   "cell_type": "code",
   "execution_count": 5,
   "metadata": {
    "colab": {
     "base_uri": "https://localhost:8080/",
     "height": 391
    },
    "deletable": false,
    "editable": false,
    "id": "uUOWdv1nraZ0",
    "nbgrader": {
     "cell_type": "code",
     "checksum": "2e3f3e01fb0faef14a5a3a1f48058cfc",
     "grade": false,
     "grade_id": "cell-f7927f9adaa90e55",
     "locked": true,
     "schema_version": 3,
     "solution": false,
     "task": false
    },
    "outputId": "961df2df-4406-43f9-89d9-da3a1fc41201"
   },
   "outputs": [
    {
     "name": "stdout",
     "output_type": "stream",
     "text": [
      "0 0.0318777037197777 0.10182993044864216\n",
      "1 0.023432164348352245 0.09762642955248808\n",
      "2 0.020087635138013146 0.09544920998648379\n",
      "3 0.018924590419423803 0.0924240563278754\n",
      "4 0.018340932623489993 0.08940521754334269\n",
      "5 0.017989048623577072 0.08668578946575292\n",
      "6 0.01775234066624075 0.08420860931355217\n",
      "7 0.017581989684359058 0.08193610617568756\n",
      "8 0.017454391530128125 0.0798623799032527\n",
      "9 0.017356543756706495 0.07799737023181144\n",
      "10 0.017280097104784762 0.0763300824933073\n",
      "11 0.017219091086451945 0.07482376890168163\n",
      "12 0.017169075889802304 0.07345380187886652\n",
      "13 0.01712688113985545 0.07221159209882298\n",
      "14 0.017090559319895015 0.07108871247501342\n",
      "15 0.017059037537819555 0.07007378427826454\n",
      "16 0.017031614166886738 0.06915509924570998\n",
      "17 0.017007755395381303 0.06832243686516444\n",
      "18 0.016987072964057947 0.067567136852611\n",
      "19 0.016969256816948563 0.06688160352630587\n",
      "Wall time: 11.5 s\n"
     ]
    }
   ],
   "source": [
    "%%time\n",
    "# Реализация ALS из семинара\n",
    "np.random.seed(0)\n",
    "LATENT_SIZE = 10\n",
    "N_ITER = 20\n",
    "\n",
    "# регуляризаторы\n",
    "lambda_p = 0.2\n",
    "lambda_q = 0.001\n",
    "\n",
    "# латентные представления\n",
    "p = 0.1 * np.random.random((n_users, LATENT_SIZE))\n",
    "q = 0.1 * np.random.random((n_items, LATENT_SIZE))\n",
    "\n",
    "\n",
    "def compute_p(p, q, train_by_user):\n",
    "    for u, rated in train_by_user.items():\n",
    "        rated_items = [i for i, _ in rated]\n",
    "        rated_scores = np.array([r for _, r in rated])\n",
    "        Q = q[rated_items, :]\n",
    "        A = (Q.T).dot(Q)\n",
    "        d = (Q.T).dot(rated_scores)\n",
    "        p[u, :] = np.linalg.solve(lambda_p * len(rated_items) * np.eye(LATENT_SIZE) + A, d)\n",
    "    return p\n",
    "\n",
    "def compute_q(p, q, train_by_item):\n",
    "    for i, rated in train_by_item.items():\n",
    "        rated_users = [j for j, _ in rated]\n",
    "        rated_scores = np.array([s for _, s in rated])\n",
    "        P = p[rated_users, :]\n",
    "        A = (P.T).dot(P)\n",
    "        d = (P.T).dot(rated_scores)\n",
    "        q[i, :] = np.linalg.solve(lambda_q * len(rated_users) * np.eye(LATENT_SIZE) + A, d)\n",
    "    return q\n",
    "\n",
    "def train_error_mse(predictions):\n",
    "    return np.mean([(predictions[u, i] - r) ** 2 for u, i, r in train])\n",
    "\n",
    "def test_error_mse(predictions):\n",
    "    return np.mean([(predictions[u, i] - r) ** 2 for u, i, r in test])\n",
    "\n",
    "\n",
    "for iter in range(N_ITER):\n",
    "    p = compute_p(p, q, train_by_user)\n",
    "    q = compute_q(p, q, train_by_item)\n",
    "\n",
    "    predictions = p.dot(q.T)\n",
    "    \n",
    "    print(iter, train_error_mse(predictions), test_error_mse(predictions))"
   ]
  },
  {
   "cell_type": "markdown",
   "metadata": {
    "deletable": false,
    "editable": false,
    "id": "jHSZg06G6nzZ",
    "nbgrader": {
     "cell_type": "markdown",
     "checksum": "bcbb0954281aeb72eb9a6264514cf61d",
     "grade": false,
     "grade_id": "cell-763ff61eabc7fe2a",
     "locked": true,
     "schema_version": 3,
     "solution": false,
     "task": false
    }
   },
   "source": [
    "## Задание 1\n",
    "\n",
    "Для фильма \"Star Wars: Episode V - The Empire Strikes Back (1980)\" найдите 3 самых похожих фильма: \n",
    "* посчитайте скалярное произведение его эмбеддинга с остальными фильмами;\n",
    "* найдите максимальные значения - они будут соответствовать ближайшим фильмам;\n",
    "* вычислите значение id_top1+id_top2+id_top3.\n",
    "\n",
    "Для решения задания вам пригодится словарь со всеми фильмами `movies`"
   ]
  },
  {
   "cell_type": "code",
   "execution_count": 6,
   "metadata": {},
   "outputs": [
    {
     "data": {
      "text/plain": [
       "{'Title': 'Star Wars: Episode V - The Empire Strikes Back (1980)',\n",
       " 'Genres': ['Action', 'Adventure', 'Drama', 'Sci-Fi', 'War']}"
      ]
     },
     "execution_count": 6,
     "metadata": {},
     "output_type": "execute_result"
    }
   ],
   "source": [
    "movies[1196]"
   ]
  },
  {
   "cell_type": "code",
   "execution_count": 7,
   "metadata": {
    "deletable": false,
    "id": "s0C7tKokDAin",
    "nbgrader": {
     "cell_type": "code",
     "checksum": "493ac791e2498452b72fc51f99c896a9",
     "grade": false,
     "grade_id": "cell-80f6a0bcd9d472b8",
     "locked": false,
     "schema_version": 3,
     "solution": true,
     "task": false
    }
   },
   "outputs": [
    {
     "data": {
      "text/plain": [
       "5763"
      ]
     },
     "execution_count": 7,
     "metadata": {},
     "output_type": "execute_result"
    }
   ],
   "source": [
    "x_dot_q = [x.dot(q[1196]) for x in q]\n",
    "\n",
    "new_list = x_dot_q \n",
    "answer = 0\n",
    "for i in range(3):\n",
    "    max_ind = np.argmax(new_list)\n",
    "    answer += max_ind\n",
    "    new_list[max_ind] = 0\n",
    "    \n",
    "answer"
   ]
  },
  {
   "cell_type": "code",
   "execution_count": 8,
   "metadata": {
    "deletable": false,
    "editable": false,
    "nbgrader": {
     "cell_type": "code",
     "checksum": "bf77592fe1855c24a3680680f1e3f640",
     "grade": false,
     "grade_id": "cell-aafbbc0208a63c0f",
     "locked": true,
     "schema_version": 3,
     "solution": false,
     "task": false
    }
   },
   "outputs": [],
   "source": [
    "# Небольшая проверка для себя\n",
    "import hashlib\n",
    "\n",
    "assert hashlib.sha256(str(answer).encode()).hexdigest() == '98440c50f0d98ea5f549cdc759d6df4e76f357f642210babbb76c8880d4d83d8'"
   ]
  },
  {
   "cell_type": "code",
   "execution_count": 9,
   "metadata": {
    "deletable": false,
    "editable": false,
    "nbgrader": {
     "cell_type": "code",
     "checksum": "ebb8958496646042f5434994f0bc1129",
     "grade": true,
     "grade_id": "cell-ec03eda8e6e112cd",
     "locked": true,
     "points": 1,
     "schema_version": 3,
     "solution": false,
     "task": false
    }
   },
   "outputs": [],
   "source": [
    "# проверка, просто запустите ячейку\n"
   ]
  },
  {
   "cell_type": "markdown",
   "metadata": {
    "deletable": false,
    "editable": false,
    "id": "DIqC8Vvc61oZ",
    "nbgrader": {
     "cell_type": "markdown",
     "checksum": "e52290de9dcbe6d514509bc4a49249ea",
     "grade": false,
     "grade_id": "cell-f0e42af7aeaa3354",
     "locked": true,
     "schema_version": 3,
     "solution": false,
     "task": false
    }
   },
   "source": [
    "## Задание 2\n",
    "\n",
    "Для пользователя с ID=123:\n",
    "\n",
    "* Найдите самого похожего, аналогично предыдущему заданию;\n",
    "* Определите количество фильмов, просмотренных обоими пользователями."
   ]
  },
  {
   "cell_type": "code",
   "execution_count": 10,
   "metadata": {},
   "outputs": [
    {
     "data": {
      "text/plain": [
       "0.0897482271414287"
      ]
     },
     "execution_count": 10,
     "metadata": {},
     "output_type": "execute_result"
    }
   ],
   "source": [
    "pdots = [k.dot(p[123]) for k in p]\n",
    "top_user = np.argmax(pdots)\n",
    "pdots[top_user]"
   ]
  },
  {
   "cell_type": "code",
   "execution_count": 11,
   "metadata": {
    "deletable": false,
    "id": "I-nrhZhJJsA3",
    "nbgrader": {
     "cell_type": "code",
     "checksum": "5d5ff5082eda1c3e26420b0494ff1aa5",
     "grade": false,
     "grade_id": "cell-51ea1739072614d6",
     "locked": false,
     "schema_version": 3,
     "solution": true,
     "task": false
    }
   },
   "outputs": [],
   "source": [
    "ls1,ls2 = [], []\n",
    "for x in ratings[123]:\n",
    "    ls1.append(x[0])\n",
    "\n",
    "for x in ratings[top_user]:\n",
    "    ls2.append(x[0])\n",
    "    \n",
    "intersection = len(set(ls1) & set(ls2))"
   ]
  },
  {
   "cell_type": "code",
   "execution_count": 12,
   "metadata": {
    "deletable": false,
    "editable": false,
    "nbgrader": {
     "cell_type": "code",
     "checksum": "75e7c1bba1be730b0b072333870faf3c",
     "grade": false,
     "grade_id": "cell-aeba89becaf39ca4",
     "locked": true,
     "schema_version": 3,
     "solution": false,
     "task": false
    }
   },
   "outputs": [],
   "source": [
    "# Небольшая проверка для себя\n",
    "import hashlib\n",
    "\n",
    "assert hashlib.sha256(str(intersection).encode()).hexdigest() == '8527a891e224136950ff32ca212b45bc93f69fbb801c3b1ebedac52775f99e61'"
   ]
  },
  {
   "cell_type": "code",
   "execution_count": 13,
   "metadata": {
    "deletable": false,
    "editable": false,
    "nbgrader": {
     "cell_type": "code",
     "checksum": "37a9a8f3ac19dc2d2f009b5df61fdab3",
     "grade": true,
     "grade_id": "cell-b4471f3551433815",
     "locked": true,
     "points": 1,
     "schema_version": 3,
     "solution": false,
     "task": false
    }
   },
   "outputs": [],
   "source": [
    "# проверка, просто запустите ячейку\n"
   ]
  },
  {
   "cell_type": "markdown",
   "metadata": {
    "deletable": false,
    "editable": false,
    "id": "Ii1vd6YQ61rc",
    "nbgrader": {
     "cell_type": "markdown",
     "checksum": "03aa21c10c80f411fb6201137cc8111c",
     "grade": false,
     "grade_id": "cell-bb1acb8afec0a9c8",
     "locked": true,
     "schema_version": 3,
     "solution": false,
     "task": false
    }
   },
   "source": [
    "## Задание 3\n",
    "\n",
    "На лекции была рассмотрена метрика для измерения качества работы рекомендательной системы NDCG. Вам необходимо реализовать подсчет DCG и NDCG и вывести значения из клетки ниже.\n",
    "\n",
    "Округлите ответ до 5 знаков после запятой."
   ]
  },
  {
   "cell_type": "code",
   "execution_count": 14,
   "metadata": {
    "id": "LaBKmDX_MpUM"
   },
   "outputs": [],
   "source": [
    "def DCG_k(ratings_list, k):\n",
    "    '''\n",
    "      ratings_list: np.array(n_items,)\n",
    "      k: int\n",
    "    '''\n",
    "    pass\n",
    "\n",
    "\n",
    "def NDCG_k(r, k):\n",
    "    '''\n",
    "      ratings_list: np.array(n_items,)\n",
    "      k: int\n",
    "    '''\n",
    "    pass"
   ]
  },
  {
   "cell_type": "code",
   "execution_count": 17,
   "metadata": {
    "deletable": false,
    "nbgrader": {
     "cell_type": "code",
     "checksum": "9f8281ca6001ee07a30b886b7c1f927e",
     "grade": false,
     "grade_id": "cell-5ff108c243b3c2ca",
     "locked": false,
     "schema_version": 3,
     "solution": true,
     "task": false
    }
   },
   "outputs": [],
   "source": [
    "def DCG_k(ratings_list, k):\n",
    "    '''\n",
    "      ratings_list: np.array(n_items,)\n",
    "      k: int\n",
    "    '''\n",
    "    dsg = 0\n",
    "\n",
    "    inde = [x for x,_ in enumerate(ratings_list)]\n",
    "    rat = np.column_stack((ratings_list, inde))\n",
    "  \n",
    "    cnt = 0\n",
    "    for i in rat:\n",
    "        if cnt < k:\n",
    "            dsg_i = (2 ** (i[0]) - 1) / np.log2(i[1] + 2)\n",
    "            dsg += dsg_i\n",
    "            cnt += 1\n",
    "       \n",
    "    return dsg\n",
    "\n",
    "\n",
    "def NDCG_k(r, k):\n",
    "    '''\n",
    "      ratings_list: np.array(n_items,)\n",
    "      k: int\n",
    "    '''\n",
    "    z = sorted(r)\n",
    "    z.reverse()\n",
    "\n",
    "    ndsg = DCG_k(r, k) / DCG_k(z, k)\n",
    "    \n",
    "    return ndsg\n",
    "    \n",
    "metric = NDCG_k([5, 5, 4, 5, 2, 4, 5, 3, 5, 5, 2, 3, 0, 0, 1, 2, 2, 3, 0], 5)"
   ]
  },
  {
   "cell_type": "code",
   "execution_count": 18,
   "metadata": {
    "deletable": false,
    "editable": false,
    "nbgrader": {
     "cell_type": "code",
     "checksum": "c5a113b8688e4c27881d19e2e4ec9ab2",
     "grade": false,
     "grade_id": "cell-b293c28ec1a5ee10",
     "locked": true,
     "schema_version": 3,
     "solution": false,
     "task": false
    }
   },
   "outputs": [],
   "source": [
    "# Небольшая проверка для себя\n",
    "import hashlib\n",
    "\n",
    "assert hashlib.sha256(str(round(metric, 5)).encode()).hexdigest() == 'a381b0bf6a19e89aa1aa5bd43d52abecf829525d66b5635d0d614fa8327e1732'"
   ]
  },
  {
   "cell_type": "code",
   "execution_count": 19,
   "metadata": {
    "deletable": false,
    "editable": false,
    "nbgrader": {
     "cell_type": "code",
     "checksum": "c2d02f19b6e480bc50175ee46247b5c7",
     "grade": true,
     "grade_id": "cell-22ef18900f299ad1",
     "locked": true,
     "points": 1,
     "schema_version": 3,
     "solution": false,
     "task": false
    }
   },
   "outputs": [],
   "source": [
    "# проверка, просто запустите ячейку\n"
   ]
  }
 ],
 "metadata": {
  "colab": {
   "collapsed_sections": [],
   "machine_shape": "hm",
   "name": "HW11.ipynb",
   "provenance": []
  },
  "kernelspec": {
   "display_name": "Python 3",
   "language": "python",
   "name": "python3"
  },
  "language_info": {
   "codemirror_mode": {
    "name": "ipython",
    "version": 3
   },
   "file_extension": ".py",
   "mimetype": "text/x-python",
   "name": "python",
   "nbconvert_exporter": "python",
   "pygments_lexer": "ipython3",
   "version": "3.8.3"
  }
 },
 "nbformat": 4,
 "nbformat_minor": 1
}
