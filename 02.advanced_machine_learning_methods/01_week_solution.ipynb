{
 "cells": [
  {
   "cell_type": "code",
   "execution_count": 1,
   "metadata": {
    "id": "nRzTwvrrHJpm"
   },
   "outputs": [],
   "source": [
    "import numpy as np\n",
    "import pandas as pd\n",
    "from sklearn.model_selection import train_test_split, GridSearchCV\n",
    "from sklearn.tree import DecisionTreeClassifier\n",
    "from sklearn.metrics import accuracy_score, roc_auc_score"
   ]
  },
  {
   "cell_type": "markdown",
   "metadata": {
    "deletable": false,
    "editable": false,
    "id": "zeGGzfLJHJpq",
    "nbgrader": {
     "cell_type": "markdown",
     "checksum": "51f8986206179e4faae29a20200bf28a",
     "grade": false,
     "grade_id": "cell-a509b81b0f8afc67",
     "locked": true,
     "schema_version": 3,
     "solution": false,
     "task": false
    }
   },
   "source": [
    "В этом задании вы будете работать с [данными о пациентах, у части которых есть заболевание сердца](https://www.kaggle.com/ronitf/heart-disease-uci). Вам нужно построить модель, классифицирующую пациентов на больных этим заболеванием и тех, у кого его нет, а также проанализировать результаты."
   ]
  },
  {
   "cell_type": "code",
   "execution_count": 2,
   "metadata": {
    "id": "tRH_5jlMHJpr"
   },
   "outputs": [
    {
     "data": {
      "text/html": [
       "<div>\n",
       "<style scoped>\n",
       "    .dataframe tbody tr th:only-of-type {\n",
       "        vertical-align: middle;\n",
       "    }\n",
       "\n",
       "    .dataframe tbody tr th {\n",
       "        vertical-align: top;\n",
       "    }\n",
       "\n",
       "    .dataframe thead th {\n",
       "        text-align: right;\n",
       "    }\n",
       "</style>\n",
       "<table border=\"1\" class=\"dataframe\">\n",
       "  <thead>\n",
       "    <tr style=\"text-align: right;\">\n",
       "      <th></th>\n",
       "      <th>age</th>\n",
       "      <th>sex</th>\n",
       "      <th>cp</th>\n",
       "      <th>trestbps</th>\n",
       "      <th>chol</th>\n",
       "      <th>fbs</th>\n",
       "      <th>restecg</th>\n",
       "      <th>thalach</th>\n",
       "      <th>exang</th>\n",
       "      <th>oldpeak</th>\n",
       "      <th>slope</th>\n",
       "      <th>ca</th>\n",
       "      <th>thal</th>\n",
       "      <th>target</th>\n",
       "    </tr>\n",
       "  </thead>\n",
       "  <tbody>\n",
       "    <tr>\n",
       "      <th>0</th>\n",
       "      <td>63</td>\n",
       "      <td>1</td>\n",
       "      <td>3</td>\n",
       "      <td>145</td>\n",
       "      <td>233</td>\n",
       "      <td>1</td>\n",
       "      <td>0</td>\n",
       "      <td>150</td>\n",
       "      <td>0</td>\n",
       "      <td>2.3</td>\n",
       "      <td>0</td>\n",
       "      <td>0</td>\n",
       "      <td>1</td>\n",
       "      <td>1</td>\n",
       "    </tr>\n",
       "    <tr>\n",
       "      <th>1</th>\n",
       "      <td>37</td>\n",
       "      <td>1</td>\n",
       "      <td>2</td>\n",
       "      <td>130</td>\n",
       "      <td>250</td>\n",
       "      <td>0</td>\n",
       "      <td>1</td>\n",
       "      <td>187</td>\n",
       "      <td>0</td>\n",
       "      <td>3.5</td>\n",
       "      <td>0</td>\n",
       "      <td>0</td>\n",
       "      <td>2</td>\n",
       "      <td>1</td>\n",
       "    </tr>\n",
       "    <tr>\n",
       "      <th>2</th>\n",
       "      <td>41</td>\n",
       "      <td>0</td>\n",
       "      <td>1</td>\n",
       "      <td>130</td>\n",
       "      <td>204</td>\n",
       "      <td>0</td>\n",
       "      <td>0</td>\n",
       "      <td>172</td>\n",
       "      <td>0</td>\n",
       "      <td>1.4</td>\n",
       "      <td>2</td>\n",
       "      <td>0</td>\n",
       "      <td>2</td>\n",
       "      <td>1</td>\n",
       "    </tr>\n",
       "    <tr>\n",
       "      <th>3</th>\n",
       "      <td>56</td>\n",
       "      <td>1</td>\n",
       "      <td>1</td>\n",
       "      <td>120</td>\n",
       "      <td>236</td>\n",
       "      <td>0</td>\n",
       "      <td>1</td>\n",
       "      <td>178</td>\n",
       "      <td>0</td>\n",
       "      <td>0.8</td>\n",
       "      <td>2</td>\n",
       "      <td>0</td>\n",
       "      <td>2</td>\n",
       "      <td>1</td>\n",
       "    </tr>\n",
       "    <tr>\n",
       "      <th>4</th>\n",
       "      <td>57</td>\n",
       "      <td>0</td>\n",
       "      <td>0</td>\n",
       "      <td>120</td>\n",
       "      <td>354</td>\n",
       "      <td>0</td>\n",
       "      <td>1</td>\n",
       "      <td>163</td>\n",
       "      <td>1</td>\n",
       "      <td>0.6</td>\n",
       "      <td>2</td>\n",
       "      <td>0</td>\n",
       "      <td>2</td>\n",
       "      <td>1</td>\n",
       "    </tr>\n",
       "  </tbody>\n",
       "</table>\n",
       "</div>"
      ],
      "text/plain": [
       "   age  sex  cp  trestbps  chol  fbs  restecg  thalach  exang  oldpeak  slope  \\\n",
       "0   63    1   3       145   233    1        0      150      0      2.3      0   \n",
       "1   37    1   2       130   250    0        1      187      0      3.5      0   \n",
       "2   41    0   1       130   204    0        0      172      0      1.4      2   \n",
       "3   56    1   1       120   236    0        1      178      0      0.8      2   \n",
       "4   57    0   0       120   354    0        1      163      1      0.6      2   \n",
       "\n",
       "   ca  thal  target  \n",
       "0   0     1       1  \n",
       "1   0     2       1  \n",
       "2   0     2       1  \n",
       "3   0     2       1  \n",
       "4   0     2       1  "
      ]
     },
     "execution_count": 2,
     "metadata": {},
     "output_type": "execute_result"
    }
   ],
   "source": [
    "data = pd.read_csv('heart.csv')\n",
    "data.head()"
   ]
  },
  {
   "cell_type": "markdown",
   "metadata": {
    "deletable": false,
    "editable": false,
    "id": "PyOMc9clHJpv",
    "nbgrader": {
     "cell_type": "markdown",
     "checksum": "8abf6ce5806d5a32707f7239474e852b",
     "grade": false,
     "grade_id": "cell-d10bd8e771b960e7",
     "locked": true,
     "schema_version": 3,
     "solution": false,
     "task": false
    }
   },
   "source": [
    "Разделим данную выборку на обучающую и тестовую части в отношении 3:1."
   ]
  },
  {
   "cell_type": "code",
   "execution_count": 3,
   "metadata": {
    "id": "0yEEXqViHJpx"
   },
   "outputs": [
    {
     "data": {
      "text/plain": [
       "((227, 13), (76, 13))"
      ]
     },
     "execution_count": 3,
     "metadata": {},
     "output_type": "execute_result"
    }
   ],
   "source": [
    "X_train, X_test, y_train, y_test = train_test_split(data.drop('target', axis=1), \n",
    "                                                    data['target'], \n",
    "                                                    test_size=0.25, \n",
    "                                                    random_state=13)\n",
    "X_train.shape, X_test.shape"
   ]
  },
  {
   "cell_type": "markdown",
   "metadata": {
    "deletable": false,
    "editable": false,
    "id": "9dRzoKshHJp3",
    "nbgrader": {
     "cell_type": "markdown",
     "checksum": "91c4acb7cbe7a9b158a440937a221a77",
     "grade": false,
     "grade_id": "cell-2b52d50087c2fe67",
     "locked": true,
     "schema_version": 3,
     "solution": false,
     "task": false
    }
   },
   "source": [
    "1. Обучите решающее дерево из `sklearn` (`sklearn.tree.DecisionTreeClassifier`) без ограничения на максимальную глубину (`max_depth=None`). В качестве сида поставьте `random_state=13`.\n",
    "\n",
    "   Подробнее о параметрах можно почитать в [документации](https://scikit-learn.org/stable/modules/generated/sklearn.tree.DecisionTreeClassifier.html).\n",
    "\n",
    "   Найдите долю правильных ответов полученного алгоритма на обучающей выборке (**в процентах**). Ответ округлите до двух знаков после запятой. Например, если значение доли правильных ответов будет равно 0.1234, то ответом будет 12.34 - ведь это 12.34%."
   ]
  },
  {
   "cell_type": "code",
   "execution_count": 4,
   "metadata": {
    "deletable": false,
    "id": "9c5bSOGzHJp4",
    "nbgrader": {
     "cell_type": "code",
     "checksum": "a77dbba8e445d6f168157e625c9e4be7",
     "grade": false,
     "grade_id": "cell-e4cdf9bce2cb7194",
     "locked": false,
     "schema_version": 3,
     "solution": true,
     "task": false
    }
   },
   "outputs": [
    {
     "data": {
      "text/plain": [
       "100.0"
      ]
     },
     "execution_count": 4,
     "metadata": {},
     "output_type": "execute_result"
    }
   ],
   "source": [
    "clf = DecisionTreeClassifier(random_state=13).fit(X_train, y_train)\n",
    "y_pred_train = clf.predict(X_train)\n",
    "accuracy_train = round(accuracy_score(y_train, y_pred_train)*100, 2)\n",
    "accuracy_train"
   ]
  },
  {
   "cell_type": "code",
   "execution_count": 5,
   "metadata": {
    "deletable": false,
    "editable": false,
    "nbgrader": {
     "cell_type": "code",
     "checksum": "6cfd2b1bdfe080a3406603585b965c1c",
     "grade": false,
     "grade_id": "cell-81db59e18e6e1fe8",
     "locked": true,
     "schema_version": 3,
     "solution": false,
     "task": false
    }
   },
   "outputs": [],
   "source": [
    "# Небольшая проверка для себя, чтобы можно было понять если ошибка именно в этом задании\n",
    "import hashlib\n",
    "\n",
    "assert hashlib.sha256(str(round(accuracy_train, 2)).encode()).hexdigest() == '43b87f618caab482ebe4976c92bcd6ad308b48055f1c27b4c574f3e31d7683e0'"
   ]
  },
  {
   "cell_type": "code",
   "execution_count": 6,
   "metadata": {
    "deletable": false,
    "editable": false,
    "nbgrader": {
     "cell_type": "code",
     "checksum": "01307ee5ff9d743ff8a3634005b13aa1",
     "grade": true,
     "grade_id": "cell-b31a7ba419966760",
     "locked": true,
     "points": 1,
     "schema_version": 3,
     "solution": false,
     "task": false
    }
   },
   "outputs": [],
   "source": [
    "# проверка, просто запустите ячейку\n"
   ]
  },
  {
   "cell_type": "markdown",
   "metadata": {
    "deletable": false,
    "editable": false,
    "id": "ff9U5ZB4HJp8",
    "nbgrader": {
     "cell_type": "markdown",
     "checksum": "9288ef711b74bb3eadd2dfcdcabe0bcf",
     "grade": false,
     "grade_id": "cell-e77d877658fa0336",
     "locked": true,
     "schema_version": 3,
     "solution": false,
     "task": false
    }
   },
   "source": [
    "2. Теперь найдите долю правильных ответов полученного алгоритма на тестовой выборке (**в процентах**). Ответ округлите до двух знаков после запятой.\n",
    "\n",
    "    Заметно ли переобучение?"
   ]
  },
  {
   "cell_type": "code",
   "execution_count": 7,
   "metadata": {
    "deletable": false,
    "id": "3rmEY7W1HJp9",
    "nbgrader": {
     "cell_type": "code",
     "checksum": "9afbd360561087fd1d492916031ce576",
     "grade": false,
     "grade_id": "cell-8198555c804ff5cb",
     "locked": false,
     "schema_version": 3,
     "solution": true,
     "task": false
    }
   },
   "outputs": [
    {
     "data": {
      "text/plain": [
       "67.11"
      ]
     },
     "execution_count": 7,
     "metadata": {},
     "output_type": "execute_result"
    }
   ],
   "source": [
    "y_pred = clf.predict(X_test)\n",
    "accuracy_test = round(accuracy_score(y_test, y_pred)*100, 2)\n",
    "accuracy_test"
   ]
  },
  {
   "cell_type": "code",
   "execution_count": 8,
   "metadata": {
    "deletable": false,
    "editable": false,
    "nbgrader": {
     "cell_type": "code",
     "checksum": "4902bc6176caddb4f0efbb4a04139cf3",
     "grade": false,
     "grade_id": "cell-3a9278592e3dc986",
     "locked": true,
     "schema_version": 3,
     "solution": false,
     "task": false
    }
   },
   "outputs": [],
   "source": [
    "# Небольшая проверка для себя, чтобы можно было понять если ошибка именно в этом задании\n",
    "import hashlib\n",
    "\n",
    "assert hashlib.sha256(str(round(accuracy_test, 2)).encode()).hexdigest() == '8259d742e25eaf89c66cf0b339c54d6d2ecfbf52711424ffc606a1c9b2da475a'"
   ]
  },
  {
   "cell_type": "code",
   "execution_count": 9,
   "metadata": {
    "deletable": false,
    "editable": false,
    "nbgrader": {
     "cell_type": "code",
     "checksum": "4856fe57c724d9388e6f71dfe6fc37ae",
     "grade": true,
     "grade_id": "cell-3ba505e47a0650eb",
     "locked": true,
     "points": 1,
     "schema_version": 3,
     "solution": false,
     "task": false
    }
   },
   "outputs": [],
   "source": [
    "# проверка, просто запустите ячейку\n"
   ]
  },
  {
   "cell_type": "markdown",
   "metadata": {
    "deletable": false,
    "editable": false,
    "id": "Aas8PpNnHJqD",
    "nbgrader": {
     "cell_type": "markdown",
     "checksum": "9ec2d0117cbdd38598e5c5ebf6c62b1a",
     "grade": false,
     "grade_id": "cell-db58c972ec8ca94e",
     "locked": true,
     "schema_version": 3,
     "solution": false,
     "task": false
    }
   },
   "source": [
    "3. Подберите с помощью кросс-валидации оптимальные гиперпараметры алгоритма. Выбирайте из следующих наборов:\n",
    "\n",
    "\n",
    "- `max_depth`: [3, 4, 5, 6, 7, 8, 9, 10, None]\n",
    "- `max_features`: ['auto', 'log2', None]\n",
    "- `min_samples_leaf`: range(1, 10)\n",
    "- `min_samples_split`: range(2, 10)\n",
    "- `criterion`: ['gini', 'entropy']\n",
    "\n",
    "    В этом вам поможет метод `sklearn.model_selection.GridSearchCV`. Подробнее о том, какие параметры и методы в нем используются, и о примерах работы с ним можно прочитать в [документации](https://scikit-learn.org/stable/modules/generated/sklearn.model_selection.GridSearchCV.html).\n",
    "    \n",
    "    1) Создайте решающее дерево - не забудьте поставить `random_state=13`.\n",
    "    \n",
    "    2) Задайте `param_grid` - сетку (словарь) гиперпараметров и их значений, по которой будет проходить метод.\n",
    "    \n",
    "    3) Вызовите метод `GridSearchCV` - в качестве параметра `estimator` задайте решающее дерево из первого шага, `param_grid` - сетку из второго. Задайте параметр `cv=5`, чтобы кросс-валидация проходила по 5 фолдам. Также задайте параметр `scoring='accuracy'`, чтобы оценка качества моделей на кросс-валидации проходила с помощью доли правильных ответов. Запустите метод на обучающей выборке с помощью `fit`. \n",
    "    \n",
    "    4) Выведите лучшие параметры с помощью атрибута `best_params_`.\n",
    "    \n",
    "    5) Сохраните оптимальное значение глубины дерева в переменную optimal_depth.\n",
    "    \n",
    "    6) Сохраните `best_params_`, закомментируйте вызов GridSearchCV для сдачи (!).\n",
    "    \n",
    "    7) Обучите модель с выбраными лучшими параметрами (из `best_params_`) для выполнения последующих заданий.\n",
    "    \n",
    "    Какое значение глубины дерева получилось оптимальным?\n",
    "    \n",
    "Обращаем ваше внимание на то, что из-за ограничений ноутбука на платформе, при сдаче вам потребуется закомментировать код с методом GridSearchCV и оставитьобучение модели с лучшими параметрами в последующих заданиях."
   ]
  },
  {
   "cell_type": "code",
   "execution_count": 13,
   "metadata": {
    "deletable": false,
    "id": "IiqDev4YHJqF",
    "nbgrader": {
     "cell_type": "code",
     "checksum": "4cd9c55a87c2dbb9273ad9d90c9956eb",
     "grade": false,
     "grade_id": "cell-a3379b73b556b5ce",
     "locked": false,
     "schema_version": 3,
     "solution": true,
     "task": false
    }
   },
   "outputs": [
    {
     "data": {
      "text/plain": [
       "{'criterion': 'gini',\n",
       " 'max_depth': 9,\n",
       " 'max_features': 'auto',\n",
       " 'min_samples_leaf': 3,\n",
       " 'min_samples_split': 9}"
      ]
     },
     "execution_count": 13,
     "metadata": {},
     "output_type": "execute_result"
    }
   ],
   "source": [
    "dtc0 = DecisionTreeClassifier(random_state=13)\n",
    "param_grid = {'max_depth':[3, 4, 5, 6, 7, 8, 9, 10, None], \n",
    "              'max_features': ['auto', 'log2', None],\n",
    "              'min_samples_leaf': range(1, 10),\n",
    "              'min_samples_split': range(2, 10),\n",
    "              'criterion': ['gini', 'entropy'] }\n",
    "\n",
    "clf = GridSearchCV(dtc0, param_grid, scoring='accuracy', cv=5).fit(X_train, y_train)\n",
    "clf.best_params_"
   ]
  },
  {
   "cell_type": "code",
   "execution_count": 14,
   "metadata": {},
   "outputs": [],
   "source": [
    "optimal_depth = 9\n",
    "dtc1 = DecisionTreeClassifier(random_state=13, \n",
    "                             criterion='gini',\n",
    "                             max_depth=9,\n",
    "                             max_features= 'auto',\n",
    "                             min_samples_leaf= 3,\n",
    "                             min_samples_split=9).fit(X_train, y_train)"
   ]
  },
  {
   "cell_type": "markdown",
   "metadata": {
    "deletable": false,
    "editable": false,
    "nbgrader": {
     "cell_type": "markdown",
     "checksum": "97ccdbed9f6b895aaac83238da10306b",
     "grade": false,
     "grade_id": "cell-71ef7d2366af3a72",
     "locked": true,
     "schema_version": 3,
     "solution": false,
     "task": false
    }
   },
   "source": [
    "**Напоминание:** при сдаче ноутбука оставляйте только обучение модели с лучшими параметрами, а вызов GridSearchCV закомментируйте для верной работы грейдера."
   ]
  },
  {
   "cell_type": "code",
   "execution_count": 15,
   "metadata": {
    "deletable": false,
    "editable": false,
    "nbgrader": {
     "cell_type": "code",
     "checksum": "d6fa9ecf4de20f958c46ebd32995872a",
     "grade": false,
     "grade_id": "cell-69364fb7db549642",
     "locked": true,
     "schema_version": 3,
     "solution": false,
     "task": false
    }
   },
   "outputs": [],
   "source": [
    "# Небольшая проверка для себя, чтобы можно было понять если ошибка именно в этом задании\n",
    "import hashlib\n",
    "\n",
    "assert hashlib.sha256(str(optimal_depth).encode()).hexdigest() == '19581e27de7ced00ff1ce50b2047e7a567c76b1cbaebabe5ef03f7c3017bb5b7'"
   ]
  },
  {
   "cell_type": "code",
   "execution_count": 16,
   "metadata": {
    "deletable": false,
    "editable": false,
    "nbgrader": {
     "cell_type": "code",
     "checksum": "fd076c703b2b3fbb1048bc6821109a67",
     "grade": true,
     "grade_id": "cell-97bf083447ce8663",
     "locked": true,
     "points": 1,
     "schema_version": 3,
     "solution": false,
     "task": false
    }
   },
   "outputs": [],
   "source": [
    "# проверка, просто запустите ячейку\n"
   ]
  },
  {
   "cell_type": "markdown",
   "metadata": {
    "deletable": false,
    "editable": false,
    "id": "UcTvaN8PHJqP",
    "nbgrader": {
     "cell_type": "markdown",
     "checksum": "488a8adc23a7c7cf26d5d30138640e20",
     "grade": false,
     "grade_id": "cell-bc06122b9f5ed52f",
     "locked": true,
     "schema_version": 3,
     "solution": false,
     "task": false
    }
   },
   "source": [
    "4. Обучите модель с найденными в прошлом задании наилучшими параметрами (из `best_params_`). Эту модель используйте для всех последующих заданий. Найдите долю правильных ответов решающего дерева с подобранными оптимальными значениями гиперпараметров на обучающей выборке (**в процентах**). Ответ округлите до двух знаков после запятой.\n",
    "\n"
   ]
  },
  {
   "cell_type": "code",
   "execution_count": 17,
   "metadata": {
    "deletable": false,
    "id": "zqVhMvbHHJqR",
    "nbgrader": {
     "cell_type": "code",
     "checksum": "7aa83354dfdc1725da2a106a19be0e28",
     "grade": false,
     "grade_id": "cell-1b21d37d53b2fee3",
     "locked": false,
     "schema_version": 3,
     "solution": true,
     "task": false
    }
   },
   "outputs": [
    {
     "data": {
      "text/plain": [
       "90.75"
      ]
     },
     "execution_count": 17,
     "metadata": {},
     "output_type": "execute_result"
    }
   ],
   "source": [
    "y_pred = dtc1.predict(X_train)\n",
    "optim_accuracy_train = round(accuracy_score(y_train, y_pred)*100, 2)\n",
    "optim_accuracy_train"
   ]
  },
  {
   "cell_type": "code",
   "execution_count": 18,
   "metadata": {
    "deletable": false,
    "editable": false,
    "nbgrader": {
     "cell_type": "code",
     "checksum": "f56ac662e70adbf0c3764133222cba07",
     "grade": false,
     "grade_id": "cell-8ba65b378e5521cc",
     "locked": true,
     "schema_version": 3,
     "solution": false,
     "task": false
    }
   },
   "outputs": [],
   "source": [
    "# Небольшая проверка для себя, чтобы можно было понять если ошибка именно в этом задании\n",
    "import hashlib\n",
    "\n",
    "assert hashlib.sha256(str(round(optim_accuracy_train, 2)).encode()).hexdigest() == 'af3ae375cd766392c55f07224f20efe7297f45f8aa3b6d4a245dafe7766e8938'"
   ]
  },
  {
   "cell_type": "code",
   "execution_count": 19,
   "metadata": {
    "deletable": false,
    "editable": false,
    "nbgrader": {
     "cell_type": "code",
     "checksum": "b0354d1f38cb0a4632e66a470ef855e3",
     "grade": true,
     "grade_id": "cell-f17c70f144b47501",
     "locked": true,
     "points": 1,
     "schema_version": 3,
     "solution": false,
     "task": false
    }
   },
   "outputs": [],
   "source": [
    "# проверка, просто запустите ячейку\n"
   ]
  },
  {
   "cell_type": "markdown",
   "metadata": {
    "deletable": false,
    "editable": false,
    "id": "jHtJdYfCHJqT",
    "nbgrader": {
     "cell_type": "markdown",
     "checksum": "50f6e2e82c82092d672277a603f45baa",
     "grade": false,
     "grade_id": "cell-6c898cf05f743a3a",
     "locked": true,
     "schema_version": 3,
     "solution": false,
     "task": false
    }
   },
   "source": [
    "5. Найдите долю правильных ответов решающего дерева с подобранными оптимальными значениями гиперпараметров на тестовой выборке (**в процентах**). Ответ округлите до двух знаков после запятой.\n",
    "\n",
    "    Уменьшилось ли переобучение?"
   ]
  },
  {
   "cell_type": "code",
   "execution_count": 20,
   "metadata": {
    "deletable": false,
    "id": "W5vLBojcHJqU",
    "nbgrader": {
     "cell_type": "code",
     "checksum": "dbe5fd96e36545d9d253173aef7d55ce",
     "grade": false,
     "grade_id": "cell-f3f84cf9964c9101",
     "locked": false,
     "schema_version": 3,
     "solution": true,
     "task": false
    }
   },
   "outputs": [
    {
     "data": {
      "text/plain": [
       "73.68"
      ]
     },
     "execution_count": 20,
     "metadata": {},
     "output_type": "execute_result"
    }
   ],
   "source": [
    "y_pred_test = dtc1.predict(X_test)\n",
    "optim_accuracy_test = round(accuracy_score(y_test, y_pred_test)*100, 2)\n",
    "optim_accuracy_test"
   ]
  },
  {
   "cell_type": "code",
   "execution_count": 21,
   "metadata": {
    "deletable": false,
    "editable": false,
    "nbgrader": {
     "cell_type": "code",
     "checksum": "af204c6ac69872148f274ebf6913ed6c",
     "grade": false,
     "grade_id": "cell-9444955057a23b03",
     "locked": true,
     "schema_version": 3,
     "solution": false,
     "task": false
    }
   },
   "outputs": [],
   "source": [
    "# Небольшая проверка для себя, чтобы можно было понять если ошибка именно в этом задании\n",
    "import hashlib\n",
    "\n",
    "assert hashlib.sha256(str(round(optim_accuracy_test, 2)).encode()).hexdigest() == '1b5b7519046fa5a1b6f34e5af1991f12f16063ea5b4389e83a0bd16991ab29a5'"
   ]
  },
  {
   "cell_type": "code",
   "execution_count": 22,
   "metadata": {
    "deletable": false,
    "editable": false,
    "nbgrader": {
     "cell_type": "code",
     "checksum": "b7dbef480c62b7c26aecb27196abceec",
     "grade": true,
     "grade_id": "cell-8fd13b2b8788df0b",
     "locked": true,
     "points": 1,
     "schema_version": 3,
     "solution": false,
     "task": false
    }
   },
   "outputs": [],
   "source": [
    "# проверка, просто запустите ячейку\n"
   ]
  },
  {
   "cell_type": "markdown",
   "metadata": {
    "deletable": false,
    "editable": false,
    "id": "VZoPqUOtHJqX",
    "nbgrader": {
     "cell_type": "markdown",
     "checksum": "2ec9cb01ed1580feefe2f939e6bcc214",
     "grade": false,
     "grade_id": "cell-2bb50b6812590cf7",
     "locked": true,
     "schema_version": 3,
     "solution": false,
     "task": false
    }
   },
   "source": [
    "6. Решающее дерево позволяет предсказывать не только классы, но и вероятности классов - с помощью метода `predict_proba`. Посмотрите на вероятности классов полученного решающего дерева и посчитайте значение AUC-ROC. Ответ округлите до двух знаков после запятой."
   ]
  },
  {
   "cell_type": "code",
   "execution_count": 23,
   "metadata": {
    "deletable": false,
    "id": "RElo_Tp8HJqY",
    "nbgrader": {
     "cell_type": "code",
     "checksum": "6e4d494bceecaf7d8ef050d24194f657",
     "grade": false,
     "grade_id": "cell-621e670eebad6f2f",
     "locked": false,
     "schema_version": 3,
     "solution": true,
     "task": false
    }
   },
   "outputs": [
    {
     "data": {
      "text/plain": [
       "0.77"
      ]
     },
     "execution_count": 23,
     "metadata": {},
     "output_type": "execute_result"
    }
   ],
   "source": [
    "roc_auc = round(roc_auc_score(y_test, dtc1.predict_proba(X_test)[:, 1]),2)\n",
    "roc_auc"
   ]
  },
  {
   "cell_type": "code",
   "execution_count": 24,
   "metadata": {
    "deletable": false,
    "editable": false,
    "nbgrader": {
     "cell_type": "code",
     "checksum": "eafbd992604a86a792823c4ae45542fa",
     "grade": false,
     "grade_id": "cell-d97acc54b7212713",
     "locked": true,
     "schema_version": 3,
     "solution": false,
     "task": false
    }
   },
   "outputs": [],
   "source": [
    "# Небольшая проверка для себя, чтобы можно было понять если ошибка именно в этом задании\n",
    "import hashlib\n",
    "\n",
    "assert hashlib.sha256(str(round(roc_auc, 2)).encode()).hexdigest() == '91c20a20ec3b329a3cde25fc4cc3d347416be779be540d93902774d885eccd94'"
   ]
  },
  {
   "cell_type": "code",
   "execution_count": 25,
   "metadata": {
    "deletable": false,
    "editable": false,
    "nbgrader": {
     "cell_type": "code",
     "checksum": "5adfac140a9b067feb4758633dcc1704",
     "grade": true,
     "grade_id": "cell-6dca2b89a473c96d",
     "locked": true,
     "points": 1,
     "schema_version": 3,
     "solution": false,
     "task": false
    }
   },
   "outputs": [],
   "source": [
    "# проверка, просто запустите ячейку\n"
   ]
  },
  {
   "cell_type": "markdown",
   "metadata": {
    "deletable": false,
    "editable": false,
    "id": "EHaj9rjcHJqa",
    "nbgrader": {
     "cell_type": "markdown",
     "checksum": "c3b6bb55d874ee8e72d0acdade07c546",
     "grade": false,
     "grade_id": "cell-0bfaf1925a4729e4",
     "locked": true,
     "schema_version": 3,
     "solution": false,
     "task": false
    }
   },
   "source": [
    "7. Какой признак является самым важным по мнению полученного решающего дерева? Чтобы это проверить, вам поможет атрибут `feature_importances_`."
   ]
  },
  {
   "cell_type": "code",
   "execution_count": 26,
   "metadata": {
    "deletable": false,
    "id": "Z2JZ-Ds-HJqb",
    "nbgrader": {
     "cell_type": "code",
     "checksum": "c5963853c54e2a6ad27eddd88a63e493",
     "grade": false,
     "grade_id": "cell-110272bcad1690cf",
     "locked": false,
     "schema_version": 3,
     "solution": true,
     "task": false
    }
   },
   "outputs": [
    {
     "data": {
      "text/plain": [
       "'slope'"
      ]
     },
     "execution_count": 26,
     "metadata": {},
     "output_type": "execute_result"
    }
   ],
   "source": [
    "importances = dtc1.feature_importances_\n",
    "list_columns = X_train.columns.values.tolist()\n",
    "dtc_importances = pd.Series(importances, index=list_columns).sort_values(ascending=False)\n",
    "best_feature = dtc_importances.index[0]\n",
    "best_feature "
   ]
  },
  {
   "cell_type": "code",
   "execution_count": 27,
   "metadata": {
    "deletable": false,
    "editable": false,
    "nbgrader": {
     "cell_type": "code",
     "checksum": "9784a46c5f1c823bf35e48df7e3047e2",
     "grade": true,
     "grade_id": "cell-33f38bb3a49bca6b",
     "locked": true,
     "points": 1,
     "schema_version": 3,
     "solution": false,
     "task": false
    }
   },
   "outputs": [],
   "source": [
    "# проверка, просто запустите ячейку\n"
   ]
  }
 ],
 "metadata": {
  "colab": {
   "collapsed_sections": [],
   "name": "Неделя7_Решающие-деревья.ipynb",
   "provenance": []
  },
  "kernelspec": {
   "display_name": "Python 3",
   "language": "python",
   "name": "python3"
  },
  "language_info": {
   "codemirror_mode": {
    "name": "ipython",
    "version": 3
   },
   "file_extension": ".py",
   "mimetype": "text/x-python",
   "name": "python",
   "nbconvert_exporter": "python",
   "pygments_lexer": "ipython3",
   "version": "3.8.3"
  }
 },
 "nbformat": 4,
 "nbformat_minor": 1
}
