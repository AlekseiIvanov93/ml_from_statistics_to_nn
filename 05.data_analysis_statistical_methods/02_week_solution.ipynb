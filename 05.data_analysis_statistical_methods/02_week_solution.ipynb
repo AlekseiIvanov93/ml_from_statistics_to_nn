{
 "cells": [
  {
   "cell_type": "markdown",
   "metadata": {},
   "source": [
    "<center>\n",
    "<img src=\"logo.png\" height=\"900\"> \n",
    "</center>\n",
    "\n",
    "\n",
    "# Линейная регрессия \n",
    "\n",
    "Данные для этой домашки взяты из [книги по эконометрике Филиппа Картаева](https://www.econ.msu.ru/departments/mmae/Category.20190227154534_1269/Category.20190227155254_6724/)"
   ]
  },
  {
   "cell_type": "code",
   "execution_count": 1,
   "metadata": {},
   "outputs": [],
   "source": [
    "import numpy as np\n",
    "import pandas as pd\n",
    "\n",
    "from scipy import stats \n",
    "\n",
    "import seaborn as sns\n",
    "import matplotlib.pyplot as plt\n",
    "\n",
    "import statsmodels.formula.api as smf\n",
    "from statsmodels.stats.diagnostic import het_breuschpagan\n",
    "\n",
    "plt.style.use('ggplot')\n",
    "%matplotlib inline"
   ]
  },
  {
   "cell_type": "markdown",
   "metadata": {},
   "source": [
    "# Задание 1 (тренинг)\n",
    "\n",
    "Руководство крупной торговой сети планирует выяснить, помогает ли тренинг по продажам увеличить эффективность работы менеджеров по продажам. \n",
    "\n",
    "Для решения этой задачи были собраны данные: \n",
    "\n",
    "- `sales` - объём продаж данного менеджера (в тысячах рублей за период)\n",
    "- `training` - дамми-переменная, равная единице, если в а самом начале данного периода менеджер прошел тренинг по продажам (работники, которые направлялись на курсы, выбирались из общей совокупности работников компании при помощи специальной лотереи)\n",
    "- `female` - дамми-переменная, равная единице для менеджеров женщин и нулю для мужчин\n",
    "- `experience` - опыт работы менеджера в годах \n",
    "- `capital` -  дамми-переменная, равная единице, если менеджер работает в столичном отделении компании, и равная нулю в противном случае\n",
    "- `IQ` - все менеджеры при приеме на работу проходят IQ-тест "
   ]
  },
  {
   "cell_type": "code",
   "execution_count": 2,
   "metadata": {},
   "outputs": [
    {
     "name": "stdout",
     "output_type": "stream",
     "text": [
      "(2000, 6)\n"
     ]
    },
    {
     "data": {
      "text/html": [
       "<div>\n",
       "<style scoped>\n",
       "    .dataframe tbody tr th:only-of-type {\n",
       "        vertical-align: middle;\n",
       "    }\n",
       "\n",
       "    .dataframe tbody tr th {\n",
       "        vertical-align: top;\n",
       "    }\n",
       "\n",
       "    .dataframe thead th {\n",
       "        text-align: right;\n",
       "    }\n",
       "</style>\n",
       "<table border=\"1\" class=\"dataframe\">\n",
       "  <thead>\n",
       "    <tr style=\"text-align: right;\">\n",
       "      <th></th>\n",
       "      <th>sales</th>\n",
       "      <th>training</th>\n",
       "      <th>female</th>\n",
       "      <th>experience</th>\n",
       "      <th>capital</th>\n",
       "      <th>IQ</th>\n",
       "    </tr>\n",
       "  </thead>\n",
       "  <tbody>\n",
       "    <tr>\n",
       "      <th>0</th>\n",
       "      <td>145.554</td>\n",
       "      <td>0</td>\n",
       "      <td>0</td>\n",
       "      <td>2</td>\n",
       "      <td>0</td>\n",
       "      <td>101</td>\n",
       "    </tr>\n",
       "    <tr>\n",
       "      <th>1</th>\n",
       "      <td>100.768</td>\n",
       "      <td>0</td>\n",
       "      <td>0</td>\n",
       "      <td>2</td>\n",
       "      <td>0</td>\n",
       "      <td>83</td>\n",
       "    </tr>\n",
       "    <tr>\n",
       "      <th>2</th>\n",
       "      <td>107.222</td>\n",
       "      <td>0</td>\n",
       "      <td>0</td>\n",
       "      <td>1</td>\n",
       "      <td>0</td>\n",
       "      <td>85</td>\n",
       "    </tr>\n",
       "    <tr>\n",
       "      <th>3</th>\n",
       "      <td>143.026</td>\n",
       "      <td>0</td>\n",
       "      <td>1</td>\n",
       "      <td>1</td>\n",
       "      <td>1</td>\n",
       "      <td>101</td>\n",
       "    </tr>\n",
       "    <tr>\n",
       "      <th>4</th>\n",
       "      <td>176.246</td>\n",
       "      <td>0</td>\n",
       "      <td>0</td>\n",
       "      <td>1</td>\n",
       "      <td>0</td>\n",
       "      <td>98</td>\n",
       "    </tr>\n",
       "  </tbody>\n",
       "</table>\n",
       "</div>"
      ],
      "text/plain": [
       "     sales  training  female  experience  capital   IQ\n",
       "0  145.554         0       0           2        0  101\n",
       "1  100.768         0       0           2        0   83\n",
       "2  107.222         0       0           1        0   85\n",
       "3  143.026         0       1           1        1  101\n",
       "4  176.246         0       0           1        0   98"
      ]
     },
     "execution_count": 2,
     "metadata": {},
     "output_type": "execute_result"
    }
   ],
   "source": [
    "df = pd.read_csv('training.tsv', sep='\\t')\n",
    "print(df.shape)\n",
    "df.head()"
   ]
  },
  {
   "cell_type": "markdown",
   "metadata": {},
   "source": [
    "Предполагается, что в данных есть гетероскедастичность. Все гипотезы проверяйте с учётом коррекции `HC3`.\n",
    "\n",
    "> Гетероскедастичность довольно часто присутствует в данных. Из-за этого, на практике, обычно, сразу вводят коррекцию на неё, и тестируют все гипотезы с помощью асимптотического подхода.\n",
    "\n",
    "__[а]__ Оцените регрессию переменной `sales` на переменные `training`, `female`, `experience`, `capital`, `IQ`. Значимо ли уравнение в целом на уровне значимости 5%? Сколько переменных значимы на уровне значимости $5\\%$? "
   ]
  },
  {
   "cell_type": "code",
   "execution_count": 3,
   "metadata": {
    "deletable": false,
    "nbgrader": {
     "cell_type": "code",
     "checksum": "eb9f40415de9cab742359a9e91070e1d",
     "grade": false,
     "grade_id": "cell-149c04bce064e935",
     "locked": false,
     "schema_version": 3,
     "solution": true,
     "task": false
    }
   },
   "outputs": [
    {
     "data": {
      "text/html": [
       "<table class=\"simpletable\">\n",
       "<caption>OLS Regression Results</caption>\n",
       "<tr>\n",
       "  <th>Dep. Variable:</th>          <td>sales</td>      <th>  R-squared:         </th> <td>   0.320</td> \n",
       "</tr>\n",
       "<tr>\n",
       "  <th>Model:</th>                   <td>OLS</td>       <th>  Adj. R-squared:    </th> <td>   0.318</td> \n",
       "</tr>\n",
       "<tr>\n",
       "  <th>Method:</th>             <td>Least Squares</td>  <th>  F-statistic:       </th> <td>   180.0</td> \n",
       "</tr>\n",
       "<tr>\n",
       "  <th>Date:</th>             <td>Fri, 29 Jul 2022</td> <th>  Prob (F-statistic):</th> <td>2.27e-158</td>\n",
       "</tr>\n",
       "<tr>\n",
       "  <th>Time:</th>                 <td>21:57:45</td>     <th>  Log-Likelihood:    </th> <td> -9998.1</td> \n",
       "</tr>\n",
       "<tr>\n",
       "  <th>No. Observations:</th>      <td>  2000</td>      <th>  AIC:               </th> <td>2.001e+04</td>\n",
       "</tr>\n",
       "<tr>\n",
       "  <th>Df Residuals:</th>          <td>  1994</td>      <th>  BIC:               </th> <td>2.004e+04</td>\n",
       "</tr>\n",
       "<tr>\n",
       "  <th>Df Model:</th>              <td>     5</td>      <th>                     </th>     <td> </td>    \n",
       "</tr>\n",
       "<tr>\n",
       "  <th>Covariance Type:</th>         <td>HC3</td>       <th>                     </th>     <td> </td>    \n",
       "</tr>\n",
       "</table>\n",
       "<table class=\"simpletable\">\n",
       "<tr>\n",
       "       <td></td>         <th>coef</th>     <th>std err</th>      <th>z</th>      <th>P>|z|</th>  <th>[0.025</th>    <th>0.975]</th>  \n",
       "</tr>\n",
       "<tr>\n",
       "  <th>Intercept</th>  <td>  -24.3731</td> <td>    6.720</td> <td>   -3.627</td> <td> 0.000</td> <td>  -37.544</td> <td>  -11.202</td>\n",
       "</tr>\n",
       "<tr>\n",
       "  <th>training</th>   <td>   18.8678</td> <td>    1.821</td> <td>   10.362</td> <td> 0.000</td> <td>   15.299</td> <td>   22.437</td>\n",
       "</tr>\n",
       "<tr>\n",
       "  <th>female</th>     <td>    0.3928</td> <td>    1.762</td> <td>    0.223</td> <td> 0.824</td> <td>   -3.060</td> <td>    3.846</td>\n",
       "</tr>\n",
       "<tr>\n",
       "  <th>experience</th> <td>    5.3006</td> <td>    0.571</td> <td>    9.289</td> <td> 0.000</td> <td>    4.182</td> <td>    6.419</td>\n",
       "</tr>\n",
       "<tr>\n",
       "  <th>capital</th>    <td>    3.2957</td> <td>    1.612</td> <td>    2.045</td> <td> 0.041</td> <td>    0.137</td> <td>    6.455</td>\n",
       "</tr>\n",
       "<tr>\n",
       "  <th>IQ</th>         <td>    1.7288</td> <td>    0.065</td> <td>   26.658</td> <td> 0.000</td> <td>    1.602</td> <td>    1.856</td>\n",
       "</tr>\n",
       "</table>\n",
       "<table class=\"simpletable\">\n",
       "<tr>\n",
       "  <th>Omnibus:</th>       <td>130.665</td> <th>  Durbin-Watson:     </th> <td>   2.066</td>\n",
       "</tr>\n",
       "<tr>\n",
       "  <th>Prob(Omnibus):</th> <td> 0.000</td>  <th>  Jarque-Bera (JB):  </th> <td> 175.149</td>\n",
       "</tr>\n",
       "<tr>\n",
       "  <th>Skew:</th>          <td> 0.577</td>  <th>  Prob(JB):          </th> <td>9.27e-39</td>\n",
       "</tr>\n",
       "<tr>\n",
       "  <th>Kurtosis:</th>      <td> 3.878</td>  <th>  Cond. No.          </th> <td>    885.</td>\n",
       "</tr>\n",
       "</table><br/><br/>Warnings:<br/>[1] Standard Errors are heteroscedasticity robust (HC3)"
      ],
      "text/plain": [
       "<class 'statsmodels.iolib.summary.Summary'>\n",
       "\"\"\"\n",
       "                            OLS Regression Results                            \n",
       "==============================================================================\n",
       "Dep. Variable:                  sales   R-squared:                       0.320\n",
       "Model:                            OLS   Adj. R-squared:                  0.318\n",
       "Method:                 Least Squares   F-statistic:                     180.0\n",
       "Date:                Fri, 29 Jul 2022   Prob (F-statistic):          2.27e-158\n",
       "Time:                        21:57:45   Log-Likelihood:                -9998.1\n",
       "No. Observations:                2000   AIC:                         2.001e+04\n",
       "Df Residuals:                    1994   BIC:                         2.004e+04\n",
       "Df Model:                           5                                         \n",
       "Covariance Type:                  HC3                                         \n",
       "==============================================================================\n",
       "                 coef    std err          z      P>|z|      [0.025      0.975]\n",
       "------------------------------------------------------------------------------\n",
       "Intercept    -24.3731      6.720     -3.627      0.000     -37.544     -11.202\n",
       "training      18.8678      1.821     10.362      0.000      15.299      22.437\n",
       "female         0.3928      1.762      0.223      0.824      -3.060       3.846\n",
       "experience     5.3006      0.571      9.289      0.000       4.182       6.419\n",
       "capital        3.2957      1.612      2.045      0.041       0.137       6.455\n",
       "IQ             1.7288      0.065     26.658      0.000       1.602       1.856\n",
       "==============================================================================\n",
       "Omnibus:                      130.665   Durbin-Watson:                   2.066\n",
       "Prob(Omnibus):                  0.000   Jarque-Bera (JB):              175.149\n",
       "Skew:                           0.577   Prob(JB):                     9.27e-39\n",
       "Kurtosis:                       3.878   Cond. No.                         885.\n",
       "==============================================================================\n",
       "\n",
       "Warnings:\n",
       "[1] Standard Errors are heteroscedasticity robust (HC3)\n",
       "\"\"\""
      ]
     },
     "execution_count": 3,
     "metadata": {},
     "output_type": "execute_result"
    }
   ],
   "source": [
    "model = smf.ols(formula='sales ~ training + female + experience + capital + IQ', data=df)\n",
    "res = model.fit(cov_type='HC3')\n",
    "res.summary()"
   ]
  },
  {
   "cell_type": "markdown",
   "metadata": {},
   "source": [
    "- Запишите в переменную `prob_f` $p$-value для гипотезы о незначимости регрессии. \n",
    "- В переменную `cnt` запишите число незначимых коэффициентов. \n",
    "- На сколько в среднем, при прочих равных условиях, прохождение тренинга увеличивыет объём продаж менеджера? Запишите ответ в переменную `tren`."
   ]
  },
  {
   "cell_type": "code",
   "execution_count": 4,
   "metadata": {
    "deletable": false,
    "nbgrader": {
     "cell_type": "code",
     "checksum": "743ccbe06d84573cddf9b3a9229c459f",
     "grade": false,
     "grade_id": "cell-f0be3ebdb49cf2b0",
     "locked": false,
     "schema_version": 3,
     "solution": true,
     "task": false
    }
   },
   "outputs": [],
   "source": [
    "prob_f = res.f_pvalue\n",
    "cnt = 1\n",
    "tren = res.params['training']"
   ]
  },
  {
   "cell_type": "code",
   "execution_count": 5,
   "metadata": {
    "deletable": false,
    "editable": false,
    "nbgrader": {
     "cell_type": "code",
     "checksum": "df651b7c8bf79e7ad47221513a0fb5b1",
     "grade": true,
     "grade_id": "cell-aa4d47500164f617",
     "locked": true,
     "points": 1,
     "schema_version": 3,
     "solution": false,
     "task": false
    }
   },
   "outputs": [],
   "source": [
    "assert np.abs(prob_f - 7.03e-159) < 1e-4\n",
    "\n",
    "# несколько похожих скрытых тестов"
   ]
  },
  {
   "cell_type": "markdown",
   "metadata": {},
   "source": [
    "__[б]__ Оцените модель заново, исключив из неё переменную `capital` и добавив переменную `training:capital` (произведение столбцов). Значим ли коэффициент перед этой переменной на уровне значимости $5\\%$? "
   ]
  },
  {
   "cell_type": "code",
   "execution_count": 6,
   "metadata": {
    "deletable": false,
    "nbgrader": {
     "cell_type": "code",
     "checksum": "d8b3c5e4a2d893b2a9ec04de295b65bf",
     "grade": false,
     "grade_id": "cell-6fc9a46448b3ee92",
     "locked": false,
     "schema_version": 3,
     "solution": true,
     "task": false
    }
   },
   "outputs": [
    {
     "data": {
      "text/html": [
       "<table class=\"simpletable\">\n",
       "<caption>OLS Regression Results</caption>\n",
       "<tr>\n",
       "  <th>Dep. Variable:</th>          <td>sales</td>      <th>  R-squared:         </th> <td>   0.320</td> \n",
       "</tr>\n",
       "<tr>\n",
       "  <th>Model:</th>                   <td>OLS</td>       <th>  Adj. R-squared:    </th> <td>   0.318</td> \n",
       "</tr>\n",
       "<tr>\n",
       "  <th>Method:</th>             <td>Least Squares</td>  <th>  F-statistic:       </th> <td>   180.6</td> \n",
       "</tr>\n",
       "<tr>\n",
       "  <th>Date:</th>             <td>Fri, 29 Jul 2022</td> <th>  Prob (F-statistic):</th> <td>7.24e-159</td>\n",
       "</tr>\n",
       "<tr>\n",
       "  <th>Time:</th>                 <td>21:57:45</td>     <th>  Log-Likelihood:    </th> <td> -9997.7</td> \n",
       "</tr>\n",
       "<tr>\n",
       "  <th>No. Observations:</th>      <td>  2000</td>      <th>  AIC:               </th> <td>2.001e+04</td>\n",
       "</tr>\n",
       "<tr>\n",
       "  <th>Df Residuals:</th>          <td>  1994</td>      <th>  BIC:               </th> <td>2.004e+04</td>\n",
       "</tr>\n",
       "<tr>\n",
       "  <th>Df Model:</th>              <td>     5</td>      <th>                     </th>     <td> </td>    \n",
       "</tr>\n",
       "<tr>\n",
       "  <th>Covariance Type:</th>         <td>HC3</td>       <th>                     </th>     <td> </td>    \n",
       "</tr>\n",
       "</table>\n",
       "<table class=\"simpletable\">\n",
       "<tr>\n",
       "          <td></td>            <th>coef</th>     <th>std err</th>      <th>z</th>      <th>P>|z|</th>  <th>[0.025</th>    <th>0.975]</th>  \n",
       "</tr>\n",
       "<tr>\n",
       "  <th>Intercept</th>        <td>  -22.3146</td> <td>    6.693</td> <td>   -3.334</td> <td> 0.001</td> <td>  -35.432</td> <td>   -9.198</td>\n",
       "</tr>\n",
       "<tr>\n",
       "  <th>training</th>         <td>   15.6526</td> <td>    2.473</td> <td>    6.330</td> <td> 0.000</td> <td>   10.806</td> <td>   20.499</td>\n",
       "</tr>\n",
       "<tr>\n",
       "  <th>female</th>           <td>    0.3390</td> <td>    1.761</td> <td>    0.193</td> <td> 0.847</td> <td>   -3.113</td> <td>    3.791</td>\n",
       "</tr>\n",
       "<tr>\n",
       "  <th>experience</th>       <td>    5.3176</td> <td>    0.570</td> <td>    9.330</td> <td> 0.000</td> <td>    4.201</td> <td>    6.435</td>\n",
       "</tr>\n",
       "<tr>\n",
       "  <th>training_capital</th> <td>    6.4438</td> <td>    3.135</td> <td>    2.055</td> <td> 0.040</td> <td>    0.299</td> <td>   12.589</td>\n",
       "</tr>\n",
       "<tr>\n",
       "  <th>IQ</th>               <td>    1.7236</td> <td>    0.065</td> <td>   26.572</td> <td> 0.000</td> <td>    1.596</td> <td>    1.851</td>\n",
       "</tr>\n",
       "</table>\n",
       "<table class=\"simpletable\">\n",
       "<tr>\n",
       "  <th>Omnibus:</th>       <td>130.771</td> <th>  Durbin-Watson:     </th> <td>   2.061</td>\n",
       "</tr>\n",
       "<tr>\n",
       "  <th>Prob(Omnibus):</th> <td> 0.000</td>  <th>  Jarque-Bera (JB):  </th> <td> 175.278</td>\n",
       "</tr>\n",
       "<tr>\n",
       "  <th>Skew:</th>          <td> 0.577</td>  <th>  Prob(JB):          </th> <td>8.69e-39</td>\n",
       "</tr>\n",
       "<tr>\n",
       "  <th>Kurtosis:</th>      <td> 3.878</td>  <th>  Cond. No.          </th> <td>    881.</td>\n",
       "</tr>\n",
       "</table><br/><br/>Warnings:<br/>[1] Standard Errors are heteroscedasticity robust (HC3)"
      ],
      "text/plain": [
       "<class 'statsmodels.iolib.summary.Summary'>\n",
       "\"\"\"\n",
       "                            OLS Regression Results                            \n",
       "==============================================================================\n",
       "Dep. Variable:                  sales   R-squared:                       0.320\n",
       "Model:                            OLS   Adj. R-squared:                  0.318\n",
       "Method:                 Least Squares   F-statistic:                     180.6\n",
       "Date:                Fri, 29 Jul 2022   Prob (F-statistic):          7.24e-159\n",
       "Time:                        21:57:45   Log-Likelihood:                -9997.7\n",
       "No. Observations:                2000   AIC:                         2.001e+04\n",
       "Df Residuals:                    1994   BIC:                         2.004e+04\n",
       "Df Model:                           5                                         \n",
       "Covariance Type:                  HC3                                         \n",
       "====================================================================================\n",
       "                       coef    std err          z      P>|z|      [0.025      0.975]\n",
       "------------------------------------------------------------------------------------\n",
       "Intercept          -22.3146      6.693     -3.334      0.001     -35.432      -9.198\n",
       "training            15.6526      2.473      6.330      0.000      10.806      20.499\n",
       "female               0.3390      1.761      0.193      0.847      -3.113       3.791\n",
       "experience           5.3176      0.570      9.330      0.000       4.201       6.435\n",
       "training_capital     6.4438      3.135      2.055      0.040       0.299      12.589\n",
       "IQ                   1.7236      0.065     26.572      0.000       1.596       1.851\n",
       "==============================================================================\n",
       "Omnibus:                      130.771   Durbin-Watson:                   2.061\n",
       "Prob(Omnibus):                  0.000   Jarque-Bera (JB):              175.278\n",
       "Skew:                           0.577   Prob(JB):                     8.69e-39\n",
       "Kurtosis:                       3.878   Cond. No.                         881.\n",
       "==============================================================================\n",
       "\n",
       "Warnings:\n",
       "[1] Standard Errors are heteroscedasticity robust (HC3)\n",
       "\"\"\""
      ]
     },
     "execution_count": 6,
     "metadata": {},
     "output_type": "execute_result"
    }
   ],
   "source": [
    "df['training_capital'] = df['training'] * df['capital']\n",
    "model = smf.ols(formula='sales ~ training + female + experience + training_capital + IQ', data=df)\n",
    "res = model.fit(cov_type='HC3')\n",
    "res.summary()"
   ]
  },
  {
   "cell_type": "markdown",
   "metadata": {},
   "source": [
    "- На сколько в среднем,  при прочих равных условиях, увеличивыет объём продаж столичного менеджера? Запишите ответ в переменную `ans1`.\n",
    "- На сколько в среднем,  при прочих равных условиях, увеличивыет объём продаж менеджера не из столицы? Запишите ответ в переменную `ans2`."
   ]
  },
  {
   "cell_type": "code",
   "execution_count": 7,
   "metadata": {
    "deletable": false,
    "nbgrader": {
     "cell_type": "code",
     "checksum": "739782c284dbf6a7ae6ad335d710ea00",
     "grade": false,
     "grade_id": "cell-225d2b4b1df7de9d",
     "locked": false,
     "schema_version": 3,
     "solution": true,
     "task": false
    }
   },
   "outputs": [],
   "source": [
    "ans1 = res.params['training_capital']\n",
    "ans2 = res.params['training']"
   ]
  },
  {
   "cell_type": "code",
   "execution_count": 8,
   "metadata": {
    "deletable": false,
    "editable": false,
    "nbgrader": {
     "cell_type": "code",
     "checksum": "6d74e7305b394b9a65f383d7c595332e",
     "grade": true,
     "grade_id": "cell-73c14915270808fc",
     "locked": true,
     "points": 1,
     "schema_version": 3,
     "solution": false,
     "task": false
    }
   },
   "outputs": [],
   "source": [
    "assert np.abs(ans2 - 15.7) < 1e-1\n",
    "\n",
    "# несколько похожих скрытых тестов"
   ]
  },
  {
   "cell_type": "markdown",
   "metadata": {},
   "source": [
    "__[в]__ Для модели, оценённой в пункте б) проведите тест Бреуша-Пагана на гетероскедастичность. Действительно ли она наблюдается ли она в остатках? "
   ]
  },
  {
   "cell_type": "code",
   "execution_count": 9,
   "metadata": {
    "deletable": false,
    "nbgrader": {
     "cell_type": "code",
     "checksum": "a02cf384e224e1e932be4cc47c5ee849",
     "grade": false,
     "grade_id": "cell-41d5fed492ba5cd8",
     "locked": false,
     "schema_version": 3,
     "solution": true,
     "task": false
    }
   },
   "outputs": [
    {
     "data": {
      "text/plain": [
       "(546.1485417355283,\n",
       " 6.969783368695192e-117,\n",
       " 149.88688625219578,\n",
       " 2.3335727940883902e-135)"
      ]
     },
     "execution_count": 9,
     "metadata": {},
     "output_type": "execute_result"
    }
   ],
   "source": [
    "het_breuschpagan(res.resid, df[['training', 'female', 'experience', 'training_capital', 'IQ']])"
   ]
  },
  {
   "cell_type": "markdown",
   "metadata": {},
   "source": [
    "## Задание 2 (размер класса) \n",
    "\n",
    "Давайте попробуем проанализировать данные о том, как размер класса влияет на успеваемость учеников. Коррекцию HC3 в этом задании мы использовать не будем. \n",
    "\n",
    "__Описание переменных:__\n",
    "\n",
    "- `CLASS` - размер класса, в котором обучается школьник, воздействие именно этой переменной нас интересует \n",
    "- `EXPN` - средние расходы на одного школьника в школе, где он учится, измеренные в тысячах долларов в год\n",
    "- `INCOME` - средний доход на одного члена семьи в семие школьника, измеренный в тысячах долларов в год \n",
    "- `TEST` - результат итогового стандартизированного теста, который писали все школьники в конце учебного года, она характеризует качество обучения "
   ]
  },
  {
   "cell_type": "code",
   "execution_count": 10,
   "metadata": {},
   "outputs": [
    {
     "name": "stdout",
     "output_type": "stream",
     "text": [
      "(200, 4)\n"
     ]
    },
    {
     "data": {
      "text/html": [
       "<div>\n",
       "<style scoped>\n",
       "    .dataframe tbody tr th:only-of-type {\n",
       "        vertical-align: middle;\n",
       "    }\n",
       "\n",
       "    .dataframe tbody tr th {\n",
       "        vertical-align: top;\n",
       "    }\n",
       "\n",
       "    .dataframe thead th {\n",
       "        text-align: right;\n",
       "    }\n",
       "</style>\n",
       "<table border=\"1\" class=\"dataframe\">\n",
       "  <thead>\n",
       "    <tr style=\"text-align: right;\">\n",
       "      <th></th>\n",
       "      <th>CLASS</th>\n",
       "      <th>EXPN</th>\n",
       "      <th>INCOME</th>\n",
       "      <th>TEST</th>\n",
       "    </tr>\n",
       "  </thead>\n",
       "  <tbody>\n",
       "    <tr>\n",
       "      <th>0</th>\n",
       "      <td>23</td>\n",
       "      <td>3</td>\n",
       "      <td>10</td>\n",
       "      <td>15</td>\n",
       "    </tr>\n",
       "    <tr>\n",
       "      <th>1</th>\n",
       "      <td>28</td>\n",
       "      <td>3</td>\n",
       "      <td>46</td>\n",
       "      <td>44</td>\n",
       "    </tr>\n",
       "    <tr>\n",
       "      <th>2</th>\n",
       "      <td>12</td>\n",
       "      <td>5</td>\n",
       "      <td>39</td>\n",
       "      <td>76</td>\n",
       "    </tr>\n",
       "    <tr>\n",
       "      <th>3</th>\n",
       "      <td>18</td>\n",
       "      <td>2</td>\n",
       "      <td>22</td>\n",
       "      <td>7</td>\n",
       "    </tr>\n",
       "    <tr>\n",
       "      <th>4</th>\n",
       "      <td>30</td>\n",
       "      <td>5</td>\n",
       "      <td>20</td>\n",
       "      <td>30</td>\n",
       "    </tr>\n",
       "  </tbody>\n",
       "</table>\n",
       "</div>"
      ],
      "text/plain": [
       "   CLASS  EXPN  INCOME  TEST\n",
       "0     23     3      10    15\n",
       "1     28     3      46    44\n",
       "2     12     5      39    76\n",
       "3     18     2      22     7\n",
       "4     30     5      20    30"
      ]
     },
     "execution_count": 10,
     "metadata": {},
     "output_type": "execute_result"
    }
   ],
   "source": [
    "df = pd.read_csv('study.tsv', sep='\\t')\n",
    "print(df.shape)\n",
    "df.head()"
   ]
  },
  {
   "cell_type": "code",
   "execution_count": 11,
   "metadata": {},
   "outputs": [
    {
     "data": {
      "image/png": "[encoded data removed]",
      "text/plain": [
       "<Figure size 720x720 with 20 Axes>"
      ]
     },
     "metadata": {
      "needs_background": "light"
     },
     "output_type": "display_data"
    }
   ],
   "source": [
    "sns.pairplot(df);"
   ]
  },
  {
   "cell_type": "markdown",
   "metadata": {},
   "source": [
    "__[a]__ Оцените параметры модели \n",
    "\n",
    "$$\n",
    "TEST_i = \\beta_0 + \\beta_1 \\cdot CLASS_i + \\varepsilon_i\n",
    "$$\n",
    "\n",
    "Коррекцию на гетероскедастичность вводить не надо. "
   ]
  },
  {
   "cell_type": "code",
   "execution_count": 12,
   "metadata": {
    "deletable": false,
    "nbgrader": {
     "cell_type": "code",
     "checksum": "ac9557b0e9f43f365241c3b1e0122c17",
     "grade": false,
     "grade_id": "cell-d9033f154a5b7e01",
     "locked": false,
     "schema_version": 3,
     "solution": true,
     "task": false
    }
   },
   "outputs": [
    {
     "data": {
      "text/html": [
       "<table class=\"simpletable\">\n",
       "<caption>OLS Regression Results</caption>\n",
       "<tr>\n",
       "  <th>Dep. Variable:</th>          <td>TEST</td>       <th>  R-squared:         </th> <td>   0.099</td>\n",
       "</tr>\n",
       "<tr>\n",
       "  <th>Model:</th>                   <td>OLS</td>       <th>  Adj. R-squared:    </th> <td>   0.094</td>\n",
       "</tr>\n",
       "<tr>\n",
       "  <th>Method:</th>             <td>Least Squares</td>  <th>  F-statistic:       </th> <td>   21.71</td>\n",
       "</tr>\n",
       "<tr>\n",
       "  <th>Date:</th>             <td>Fri, 29 Jul 2022</td> <th>  Prob (F-statistic):</th> <td>5.82e-06</td>\n",
       "</tr>\n",
       "<tr>\n",
       "  <th>Time:</th>                 <td>21:57:56</td>     <th>  Log-Likelihood:    </th> <td> -885.26</td>\n",
       "</tr>\n",
       "<tr>\n",
       "  <th>No. Observations:</th>      <td>   200</td>      <th>  AIC:               </th> <td>   1775.</td>\n",
       "</tr>\n",
       "<tr>\n",
       "  <th>Df Residuals:</th>          <td>   198</td>      <th>  BIC:               </th> <td>   1781.</td>\n",
       "</tr>\n",
       "<tr>\n",
       "  <th>Df Model:</th>              <td>     1</td>      <th>                     </th>     <td> </td>   \n",
       "</tr>\n",
       "<tr>\n",
       "  <th>Covariance Type:</th>      <td>nonrobust</td>    <th>                     </th>     <td> </td>   \n",
       "</tr>\n",
       "</table>\n",
       "<table class=\"simpletable\">\n",
       "<tr>\n",
       "      <td></td>         <th>coef</th>     <th>std err</th>      <th>t</th>      <th>P>|t|</th>  <th>[0.025</th>    <th>0.975]</th>  \n",
       "</tr>\n",
       "<tr>\n",
       "  <th>Intercept</th> <td>   83.6554</td> <td>    6.279</td> <td>   13.324</td> <td> 0.000</td> <td>   71.274</td> <td>   96.037</td>\n",
       "</tr>\n",
       "<tr>\n",
       "  <th>CLASS</th>     <td>   -1.3092</td> <td>    0.281</td> <td>   -4.659</td> <td> 0.000</td> <td>   -1.863</td> <td>   -0.755</td>\n",
       "</tr>\n",
       "</table>\n",
       "<table class=\"simpletable\">\n",
       "<tr>\n",
       "  <th>Omnibus:</th>       <td> 0.651</td> <th>  Durbin-Watson:     </th> <td>   2.128</td>\n",
       "</tr>\n",
       "<tr>\n",
       "  <th>Prob(Omnibus):</th> <td> 0.722</td> <th>  Jarque-Bera (JB):  </th> <td>   0.750</td>\n",
       "</tr>\n",
       "<tr>\n",
       "  <th>Skew:</th>          <td>-0.024</td> <th>  Prob(JB):          </th> <td>   0.687</td>\n",
       "</tr>\n",
       "<tr>\n",
       "  <th>Kurtosis:</th>      <td> 2.704</td> <th>  Cond. No.          </th> <td>    97.7</td>\n",
       "</tr>\n",
       "</table><br/><br/>Warnings:<br/>[1] Standard Errors assume that the covariance matrix of the errors is correctly specified."
      ],
      "text/plain": [
       "<class 'statsmodels.iolib.summary.Summary'>\n",
       "\"\"\"\n",
       "                            OLS Regression Results                            \n",
       "==============================================================================\n",
       "Dep. Variable:                   TEST   R-squared:                       0.099\n",
       "Model:                            OLS   Adj. R-squared:                  0.094\n",
       "Method:                 Least Squares   F-statistic:                     21.71\n",
       "Date:                Fri, 29 Jul 2022   Prob (F-statistic):           5.82e-06\n",
       "Time:                        21:57:56   Log-Likelihood:                -885.26\n",
       "No. Observations:                 200   AIC:                             1775.\n",
       "Df Residuals:                     198   BIC:                             1781.\n",
       "Df Model:                           1                                         \n",
       "Covariance Type:            nonrobust                                         \n",
       "==============================================================================\n",
       "                 coef    std err          t      P>|t|      [0.025      0.975]\n",
       "------------------------------------------------------------------------------\n",
       "Intercept     83.6554      6.279     13.324      0.000      71.274      96.037\n",
       "CLASS         -1.3092      0.281     -4.659      0.000      -1.863      -0.755\n",
       "==============================================================================\n",
       "Omnibus:                        0.651   Durbin-Watson:                   2.128\n",
       "Prob(Omnibus):                  0.722   Jarque-Bera (JB):                0.750\n",
       "Skew:                          -0.024   Prob(JB):                        0.687\n",
       "Kurtosis:                       2.704   Cond. No.                         97.7\n",
       "==============================================================================\n",
       "\n",
       "Warnings:\n",
       "[1] Standard Errors assume that the covariance matrix of the errors is correctly specified.\n",
       "\"\"\""
      ]
     },
     "execution_count": 12,
     "metadata": {},
     "output_type": "execute_result"
    }
   ],
   "source": [
    "model = smf.ols(formula='TEST ~ CLASS', data=df)\n",
    "res = model.fit()\n",
    "res.summary()"
   ]
  },
  {
   "cell_type": "markdown",
   "metadata": {},
   "source": [
    "Значима ли переменная `CLASS`? В качестве ответ на вопрос вбейте получившееся значение $p$-value и получившееся значение коэффициента."
   ]
  },
  {
   "cell_type": "code",
   "execution_count": 13,
   "metadata": {
    "deletable": false,
    "nbgrader": {
     "cell_type": "code",
     "checksum": "0be7219f6e7178a0c5a444dc1a61b155",
     "grade": false,
     "grade_id": "cell-fa8531f95cd582ab",
     "locked": false,
     "schema_version": 3,
     "solution": true,
     "task": false
    }
   },
   "outputs": [],
   "source": [
    "prob = 0\n",
    "beta = res.params['CLASS']"
   ]
  },
  {
   "cell_type": "code",
   "execution_count": 14,
   "metadata": {
    "deletable": false,
    "editable": false,
    "nbgrader": {
     "cell_type": "code",
     "checksum": "fd8769abe1dd4a964db94d50cf2dd576",
     "grade": true,
     "grade_id": "cell-77bc8b71cbd2ff68",
     "locked": true,
     "points": 1,
     "schema_version": 3,
     "solution": false,
     "task": false
    }
   },
   "outputs": [],
   "source": [
    "assert prob < 1e-10\n",
    "\n",
    "# несколько похожих скрытых тестов"
   ]
  },
  {
   "cell_type": "markdown",
   "metadata": {},
   "source": [
    "В получившемся уравнении коэффициент $\\beta_1$ можно проинтерпретировать так, что  каждый дополнительным человек в классе приводит к тому, что результат типичного школьника из этого класса снижается в среднем на $beta_1$ балла.\n",
    "\n",
    "> Мы можем так интерпретировать значение коэффициента, если выполняются предпослыки линейной регрессии. Например, первая предпослыка говорит о том, что мы должны были верно специфицировать модель. А что, если это не так и мы пропустили какую-нибудь переменную?"
   ]
  },
  {
   "cell_type": "markdown",
   "metadata": {},
   "source": [
    "__[б]__ Оцените уравнение \n",
    "\n",
    "$$\n",
    "TEST_i = \\beta_0 + \\beta_1 \\cdot CLASS_i + \\beta_2 \\cdot EXPN_i + \\varepsilon_i\n",
    "$$"
   ]
  },
  {
   "cell_type": "code",
   "execution_count": 15,
   "metadata": {
    "deletable": false,
    "nbgrader": {
     "cell_type": "code",
     "checksum": "6e573e599d8eb1bbf58ab91e0b79018c",
     "grade": false,
     "grade_id": "cell-67ad004938dfa0b5",
     "locked": false,
     "schema_version": 3,
     "solution": true,
     "task": false
    }
   },
   "outputs": [
    {
     "data": {
      "text/html": [
       "<table class=\"simpletable\">\n",
       "<caption>OLS Regression Results</caption>\n",
       "<tr>\n",
       "  <th>Dep. Variable:</th>          <td>TEST</td>       <th>  R-squared:         </th> <td>   0.182</td>\n",
       "</tr>\n",
       "<tr>\n",
       "  <th>Model:</th>                   <td>OLS</td>       <th>  Adj. R-squared:    </th> <td>   0.174</td>\n",
       "</tr>\n",
       "<tr>\n",
       "  <th>Method:</th>             <td>Least Squares</td>  <th>  F-statistic:       </th> <td>   21.91</td>\n",
       "</tr>\n",
       "<tr>\n",
       "  <th>Date:</th>             <td>Fri, 29 Jul 2022</td> <th>  Prob (F-statistic):</th> <td>2.56e-09</td>\n",
       "</tr>\n",
       "<tr>\n",
       "  <th>Time:</th>                 <td>21:57:56</td>     <th>  Log-Likelihood:    </th> <td> -875.58</td>\n",
       "</tr>\n",
       "<tr>\n",
       "  <th>No. Observations:</th>      <td>   200</td>      <th>  AIC:               </th> <td>   1757.</td>\n",
       "</tr>\n",
       "<tr>\n",
       "  <th>Df Residuals:</th>          <td>   197</td>      <th>  BIC:               </th> <td>   1767.</td>\n",
       "</tr>\n",
       "<tr>\n",
       "  <th>Df Model:</th>              <td>     2</td>      <th>                     </th>     <td> </td>   \n",
       "</tr>\n",
       "<tr>\n",
       "  <th>Covariance Type:</th>      <td>nonrobust</td>    <th>                     </th>     <td> </td>   \n",
       "</tr>\n",
       "</table>\n",
       "<table class=\"simpletable\">\n",
       "<tr>\n",
       "      <td></td>         <th>coef</th>     <th>std err</th>      <th>t</th>      <th>P>|t|</th>  <th>[0.025</th>    <th>0.975]</th>  \n",
       "</tr>\n",
       "<tr>\n",
       "  <th>Intercept</th> <td>   60.1560</td> <td>    7.971</td> <td>    7.547</td> <td> 0.000</td> <td>   44.436</td> <td>   75.876</td>\n",
       "</tr>\n",
       "<tr>\n",
       "  <th>CLASS</th>     <td>   -0.9088</td> <td>    0.283</td> <td>   -3.212</td> <td> 0.002</td> <td>   -1.467</td> <td>   -0.351</td>\n",
       "</tr>\n",
       "<tr>\n",
       "  <th>EXPN</th>      <td>    2.5371</td> <td>    0.567</td> <td>    4.475</td> <td> 0.000</td> <td>    1.419</td> <td>    3.655</td>\n",
       "</tr>\n",
       "</table>\n",
       "<table class=\"simpletable\">\n",
       "<tr>\n",
       "  <th>Omnibus:</th>       <td> 2.735</td> <th>  Durbin-Watson:     </th> <td>   2.130</td>\n",
       "</tr>\n",
       "<tr>\n",
       "  <th>Prob(Omnibus):</th> <td> 0.255</td> <th>  Jarque-Bera (JB):  </th> <td>   2.108</td>\n",
       "</tr>\n",
       "<tr>\n",
       "  <th>Skew:</th>          <td>-0.096</td> <th>  Prob(JB):          </th> <td>   0.349</td>\n",
       "</tr>\n",
       "<tr>\n",
       "  <th>Kurtosis:</th>      <td> 2.535</td> <th>  Cond. No.          </th> <td>    134.</td>\n",
       "</tr>\n",
       "</table><br/><br/>Warnings:<br/>[1] Standard Errors assume that the covariance matrix of the errors is correctly specified."
      ],
      "text/plain": [
       "<class 'statsmodels.iolib.summary.Summary'>\n",
       "\"\"\"\n",
       "                            OLS Regression Results                            \n",
       "==============================================================================\n",
       "Dep. Variable:                   TEST   R-squared:                       0.182\n",
       "Model:                            OLS   Adj. R-squared:                  0.174\n",
       "Method:                 Least Squares   F-statistic:                     21.91\n",
       "Date:                Fri, 29 Jul 2022   Prob (F-statistic):           2.56e-09\n",
       "Time:                        21:57:56   Log-Likelihood:                -875.58\n",
       "No. Observations:                 200   AIC:                             1757.\n",
       "Df Residuals:                     197   BIC:                             1767.\n",
       "Df Model:                           2                                         \n",
       "Covariance Type:            nonrobust                                         \n",
       "==============================================================================\n",
       "                 coef    std err          t      P>|t|      [0.025      0.975]\n",
       "------------------------------------------------------------------------------\n",
       "Intercept     60.1560      7.971      7.547      0.000      44.436      75.876\n",
       "CLASS         -0.9088      0.283     -3.212      0.002      -1.467      -0.351\n",
       "EXPN           2.5371      0.567      4.475      0.000       1.419       3.655\n",
       "==============================================================================\n",
       "Omnibus:                        2.735   Durbin-Watson:                   2.130\n",
       "Prob(Omnibus):                  0.255   Jarque-Bera (JB):                2.108\n",
       "Skew:                          -0.096   Prob(JB):                        0.349\n",
       "Kurtosis:                       2.535   Cond. No.                         134.\n",
       "==============================================================================\n",
       "\n",
       "Warnings:\n",
       "[1] Standard Errors assume that the covariance matrix of the errors is correctly specified.\n",
       "\"\"\""
      ]
     },
     "execution_count": 15,
     "metadata": {},
     "output_type": "execute_result"
    }
   ],
   "source": [
    "model = smf.ols(formula='TEST ~ CLASS + EXPN', data=df)\n",
    "res = model.fit()\n",
    "res.summary()"
   ]
  },
  {
   "cell_type": "markdown",
   "metadata": {},
   "source": [
    "- Значимо ли уравнение в целом?  Запишите получившееся значение $F$-статистики для проверки этой гипотезы в переменную `f_stat`"
   ]
  },
  {
   "cell_type": "code",
   "execution_count": 16,
   "metadata": {
    "deletable": false,
    "nbgrader": {
     "cell_type": "code",
     "checksum": "813c1599ef3f16e38d6dbb56ba4177f1",
     "grade": false,
     "grade_id": "cell-2609963b6fb1daf8",
     "locked": false,
     "schema_version": 3,
     "solution": true,
     "task": false
    }
   },
   "outputs": [],
   "source": [
    "f_stat = res.fvalue"
   ]
  },
  {
   "cell_type": "code",
   "execution_count": 17,
   "metadata": {
    "deletable": false,
    "editable": false,
    "nbgrader": {
     "cell_type": "code",
     "checksum": "d1c2ca74a77397e589442d6e30d6e58d",
     "grade": true,
     "grade_id": "cell-c9e8ea9ef25f5580",
     "locked": true,
     "points": 1,
     "schema_version": 3,
     "solution": false,
     "task": false
    }
   },
   "outputs": [],
   "source": [
    "assert f_stat > 8\n",
    "\n",
    "# несколько похожих скрытых тестов"
   ]
  },
  {
   "cell_type": "markdown",
   "metadata": {},
   "source": [
    "Коэффициент перед переменной `CLASS` значимый, но он увеличился. По всей видимости, переменная `EXPN`, которую мы добавили, значимо влияет на результаты школьника. Кроме того, она коррелирует с `CLASS`. Когда мы не включаем её в модель, влияние этой переменной остаётся в случайной ошибке. Из-за этого возникает ковариация $Cov(CLASS_i, \\varepsilon_i)$. \n",
    "\n",
    "Такая проблема называется __эндогенностью.__ Она приводит к смещению и несостоятельности оценок коэффициентов. Когда мы добавили в модель переменную `EXPN`, мы устранили возникшее у нас смещение. "
   ]
  },
  {
   "cell_type": "markdown",
   "metadata": {},
   "source": [
    "__[в]__ А что, если у нас есть какие-то другие переменные, которые оказались в ошибке, но при этом коррелируют с `CLASS`? Оцените уравнение:\n",
    "\n",
    "$$\n",
    "TEST_i = \\beta_0 + \\beta_1 \\cdot CLASS_i + \\beta_2 \\cdot EXPN_i + \\beta_3 \\cdot INCOME + \\varepsilon_i\n",
    "$$"
   ]
  },
  {
   "cell_type": "code",
   "execution_count": 18,
   "metadata": {
    "deletable": false,
    "nbgrader": {
     "cell_type": "code",
     "checksum": "d32368b036d918cff841d589569d9702",
     "grade": false,
     "grade_id": "cell-6469ad10816d0fe2",
     "locked": false,
     "schema_version": 3,
     "solution": true,
     "task": false
    }
   },
   "outputs": [
    {
     "data": {
      "text/html": [
       "<table class=\"simpletable\">\n",
       "<caption>OLS Regression Results</caption>\n",
       "<tr>\n",
       "  <th>Dep. Variable:</th>          <td>TEST</td>       <th>  R-squared:         </th> <td>   0.730</td>\n",
       "</tr>\n",
       "<tr>\n",
       "  <th>Model:</th>                   <td>OLS</td>       <th>  Adj. R-squared:    </th> <td>   0.726</td>\n",
       "</tr>\n",
       "<tr>\n",
       "  <th>Method:</th>             <td>Least Squares</td>  <th>  F-statistic:       </th> <td>   176.6</td>\n",
       "</tr>\n",
       "<tr>\n",
       "  <th>Date:</th>             <td>Fri, 29 Jul 2022</td> <th>  Prob (F-statistic):</th> <td>1.84e-55</td>\n",
       "</tr>\n",
       "<tr>\n",
       "  <th>Time:</th>                 <td>21:57:57</td>     <th>  Log-Likelihood:    </th> <td> -764.75</td>\n",
       "</tr>\n",
       "<tr>\n",
       "  <th>No. Observations:</th>      <td>   200</td>      <th>  AIC:               </th> <td>   1537.</td>\n",
       "</tr>\n",
       "<tr>\n",
       "  <th>Df Residuals:</th>          <td>   196</td>      <th>  BIC:               </th> <td>   1551.</td>\n",
       "</tr>\n",
       "<tr>\n",
       "  <th>Df Model:</th>              <td>     3</td>      <th>                     </th>     <td> </td>   \n",
       "</tr>\n",
       "<tr>\n",
       "  <th>Covariance Type:</th>      <td>nonrobust</td>    <th>                     </th>     <td> </td>   \n",
       "</tr>\n",
       "</table>\n",
       "<table class=\"simpletable\">\n",
       "<tr>\n",
       "      <td></td>         <th>coef</th>     <th>std err</th>      <th>t</th>      <th>P>|t|</th>  <th>[0.025</th>    <th>0.975]</th>  \n",
       "</tr>\n",
       "<tr>\n",
       "  <th>Intercept</th> <td>   29.1786</td> <td>    4.847</td> <td>    6.020</td> <td> 0.000</td> <td>   19.619</td> <td>   38.738</td>\n",
       "</tr>\n",
       "<tr>\n",
       "  <th>CLASS</th>     <td>   -1.0725</td> <td>    0.163</td> <td>   -6.573</td> <td> 0.000</td> <td>   -1.394</td> <td>   -0.751</td>\n",
       "</tr>\n",
       "<tr>\n",
       "  <th>EXPN</th>      <td>    2.0502</td> <td>    0.327</td> <td>    6.260</td> <td> 0.000</td> <td>    1.404</td> <td>    2.696</td>\n",
       "</tr>\n",
       "<tr>\n",
       "  <th>INCOME</th>    <td>    1.0490</td> <td>    0.053</td> <td>   19.943</td> <td> 0.000</td> <td>    0.945</td> <td>    1.153</td>\n",
       "</tr>\n",
       "</table>\n",
       "<table class=\"simpletable\">\n",
       "<tr>\n",
       "  <th>Omnibus:</th>       <td> 2.440</td> <th>  Durbin-Watson:     </th> <td>   2.009</td>\n",
       "</tr>\n",
       "<tr>\n",
       "  <th>Prob(Omnibus):</th> <td> 0.295</td> <th>  Jarque-Bera (JB):  </th> <td>   2.502</td>\n",
       "</tr>\n",
       "<tr>\n",
       "  <th>Skew:</th>          <td>-0.257</td> <th>  Prob(JB):          </th> <td>   0.286</td>\n",
       "</tr>\n",
       "<tr>\n",
       "  <th>Kurtosis:</th>      <td> 2.811</td> <th>  Cond. No.          </th> <td>    271.</td>\n",
       "</tr>\n",
       "</table><br/><br/>Warnings:<br/>[1] Standard Errors assume that the covariance matrix of the errors is correctly specified."
      ],
      "text/plain": [
       "<class 'statsmodels.iolib.summary.Summary'>\n",
       "\"\"\"\n",
       "                            OLS Regression Results                            \n",
       "==============================================================================\n",
       "Dep. Variable:                   TEST   R-squared:                       0.730\n",
       "Model:                            OLS   Adj. R-squared:                  0.726\n",
       "Method:                 Least Squares   F-statistic:                     176.6\n",
       "Date:                Fri, 29 Jul 2022   Prob (F-statistic):           1.84e-55\n",
       "Time:                        21:57:57   Log-Likelihood:                -764.75\n",
       "No. Observations:                 200   AIC:                             1537.\n",
       "Df Residuals:                     196   BIC:                             1551.\n",
       "Df Model:                           3                                         \n",
       "Covariance Type:            nonrobust                                         \n",
       "==============================================================================\n",
       "                 coef    std err          t      P>|t|      [0.025      0.975]\n",
       "------------------------------------------------------------------------------\n",
       "Intercept     29.1786      4.847      6.020      0.000      19.619      38.738\n",
       "CLASS         -1.0725      0.163     -6.573      0.000      -1.394      -0.751\n",
       "EXPN           2.0502      0.327      6.260      0.000       1.404       2.696\n",
       "INCOME         1.0490      0.053     19.943      0.000       0.945       1.153\n",
       "==============================================================================\n",
       "Omnibus:                        2.440   Durbin-Watson:                   2.009\n",
       "Prob(Omnibus):                  0.295   Jarque-Bera (JB):                2.502\n",
       "Skew:                          -0.257   Prob(JB):                        0.286\n",
       "Kurtosis:                       2.811   Cond. No.                         271.\n",
       "==============================================================================\n",
       "\n",
       "Warnings:\n",
       "[1] Standard Errors assume that the covariance matrix of the errors is correctly specified.\n",
       "\"\"\""
      ]
     },
     "execution_count": 18,
     "metadata": {},
     "output_type": "execute_result"
    }
   ],
   "source": [
    "model = smf.ols(formula='TEST ~ CLASS + EXPN + INCOME', data=df)\n",
    "res = model.fit()\n",
    "res.summary()"
   ]
  },
  {
   "cell_type": "markdown",
   "metadata": {},
   "source": [
    "Обратите внимание, что значение перед переменной `CLASS` снова изменилось.\n",
    "\n",
    "Изначально нас волновал вопрос: __Влияет ли размер класса на успеваемость?__ По факту, нас интересует только коэффициент перед этой переменной. Чтобы получить для него хорошую оценку, нам нужно учитывать в нашей регрессии все существенные факторы (т.е. все коррелированные с интересущей нас переменной факторы, коэффициенты при которых в истинной модели регрессии отличны от нуля). Такие дополнительные переменные обычно называют __контрольными__. \n",
    "\n",
    "Иногда бывает так, что интересующая нас переменная связана с чем-то ненаблюдаемым. Например, в данной ситуации успешность людей может быть связана с их талантом. Если мы никак не учтем талант людей в модели, мы получим неверные выводы. В эконометрике существуют различные продвинутые методы, которые позволяют попытаться оценить модели, учитывающие такие факторы. \n",
    "\n",
    "Узнать о них подробнее можно в [курсе по Экнонометрике,](https://www.coursera.org/learn/ekonometrika) В качестве учебника можно почитать, например, книгу \"Введение в эконометрику\" Филиппа Картаева. :)  "
   ]
  },
  {
   "cell_type": "markdown",
   "metadata": {},
   "source": [
    "  "
   ]
  }
 ],
 "metadata": {
  "kernelspec": {
   "display_name": "Python 3",
   "language": "python",
   "name": "python3"
  },
  "language_info": {
   "codemirror_mode": {
    "name": "ipython",
    "version": 3
   },
   "file_extension": ".py",
   "mimetype": "text/x-python",
   "name": "python",
   "nbconvert_exporter": "python",
   "pygments_lexer": "ipython3",
   "version": "3.8.3"
  }
 },
 "nbformat": 4,
 "nbformat_minor": 4
}
