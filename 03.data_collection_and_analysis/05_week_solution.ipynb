{
 "cells": [
  {
   "cell_type": "markdown",
   "metadata": {},
   "source": [
    "<center>\n",
    "<img src=\"logo.png\" height=\"900\"> \n",
    "</center>\n",
    "\n",
    "\n",
    "#  Простые симуляции\n",
    "\n",
    "В этом задании мы решим несколько простых задачек на симуляции. "
   ]
  },
  {
   "cell_type": "code",
   "execution_count": 1,
   "metadata": {},
   "outputs": [],
   "source": [
    "import numpy as np\n",
    "import scipy.stats as sts\n",
    "import matplotlib.pyplot as plt"
   ]
  },
  {
   "cell_type": "markdown",
   "metadata": {},
   "source": [
    "## Упражнение 1 (распределение Пуассона)\n",
    "\n",
    "Случайная величина $X$ имеет распределение Пуассона с $\\lambda = 2$,  $X \\sim Pois(2)$. С помощью $10^6$ симуляций оцените: \n",
    "\n",
    "* $P(X > 6)$\n",
    "* $P(X > 6 \\mid X > 5)$\n",
    "* $P(X > 5, X < 7)$\n",
    "* $E(X^3)$ \n",
    "* $E(X \\mid X > 5)$\n",
    "\n",
    "__Под чёрточками имеется в виду условная вероятность!!!__\n",
    "\n",
    "Вбейте получившиеся ответы в переменные `ans1`, `ans2`, $\\ldots$, `ans5`. "
   ]
  },
  {
   "cell_type": "code",
   "execution_count": 2,
   "metadata": {},
   "outputs": [
    {
     "data": {
      "image/png": "[encoded data removed]",
      "text/plain": [
       "<Figure size 720x360 with 1 Axes>"
      ]
     },
     "metadata": {
      "needs_background": "light"
     },
     "output_type": "display_data"
    }
   ],
   "source": [
    "n_obs = 10**6\n",
    "pois_dist = sts.poisson(2)\n",
    "x = pois_dist.rvs(10**6)\n",
    "\n",
    "\n",
    "plt.figure(figsize=(10, 5))\n",
    "plt.hist(x, bins=30);"
   ]
  },
  {
   "cell_type": "code",
   "execution_count": 3,
   "metadata": {
    "deletable": false,
    "nbgrader": {
     "cell_type": "code",
     "checksum": "d510c9a6c4f49d97c2e5161ae93e4a0b",
     "grade": false,
     "grade_id": "cell-0cdc105173d26dcd",
     "locked": false,
     "schema_version": 3,
     "solution": true,
     "task": false
    }
   },
   "outputs": [
    {
     "name": "stdout",
     "output_type": "stream",
     "text": [
      "0.004501\n",
      "0.27247412070948607\n",
      "0.012018\n",
      "21.947224\n",
      "6.356861795508203\n"
     ]
    }
   ],
   "source": [
    "success_1 = x > 6\n",
    "ans1 = np.sum(success_1) / n_obs\n",
    "print(ans1)\n",
    "\n",
    "uslovie_2 = x > 5\n",
    "success_2 = x[uslovie_2] > 6\n",
    "ans2 = np.sum(success_2) /np.sum(uslovie_2)\n",
    "print(ans2)\n",
    "\n",
    "success_3 = (x>5) & (x<7)\n",
    "ans3 = np.sum(success_3) / n_obs\n",
    "print(ans3)\n",
    "\n",
    "success_4 = x**3 \n",
    "ans4 = success_4.mean()\n",
    "print(ans4)\n",
    "\n",
    "uslovie_5 = x > 5\n",
    "success_5 = x[uslovie_5]\n",
    "ans5 = x[uslovie_5].mean()\n",
    "print(ans5)\n"
   ]
  },
  {
   "cell_type": "code",
   "execution_count": 4,
   "metadata": {
    "deletable": false,
    "editable": false,
    "nbgrader": {
     "cell_type": "code",
     "checksum": "0dcee68ccb098d61c3c07a0e268f5651",
     "grade": true,
     "grade_id": "cell-5e50c3445bab8f6d",
     "locked": true,
     "points": 5,
     "schema_version": 3,
     "solution": false,
     "task": false
    }
   },
   "outputs": [],
   "source": [
    "# проверка, что задание решено корректно\n",
    "assert np.abs(ans3 - 0.01) < 1e-2\n",
    "\n",
    "# Похожие тесты скрыты от вас"
   ]
  },
  {
   "cell_type": "markdown",
   "metadata": {},
   "source": [
    "## Упражнение 2 (нейросети)\n",
    "\n",
    "Юра завёл себе две нейронные сетки и два сервера для их обучения. Две нейросети обучаются независимо на двух серверах. Время их обучения $T_1$ и $T_2$ равномерно распределено на отрезке $[1;3]$ (обучение измеряется в часах). В процессе обучения сервер может упасть. Момент падения сервера $T$ распределён экспоненциально с параметром $\\lambda = 0.3$. Он не зависит от времени обучения нейросеток. \n",
    "\n",
    "Известно, что одна из нейросетей успела обучиться, а вторая не успела. Какова вероятность того, что $T \\le 1.5$? Ответ вбейте в переменную `ans6`. При симуляциях для генерации момента подения используйте для обоих серверов одну и ту же случайную величину. \n",
    "\n",
    "**Hint:** при решении задачи помните о том, что у вас две нейросетки!"
   ]
  },
  {
   "cell_type": "code",
   "execution_count": 5,
   "metadata": {
    "deletable": false,
    "nbgrader": {
     "cell_type": "code",
     "checksum": "372c406d43e0c58b63755163e7116843",
     "grade": false,
     "grade_id": "cell-26e7ed9e468a34b2",
     "locked": false,
     "schema_version": 3,
     "solution": true,
     "task": false
    }
   },
   "outputs": [
    {
     "data": {
      "text/plain": [
       "0.18907030090406152"
      ]
     },
     "execution_count": 5,
     "metadata": {},
     "output_type": "execute_result"
    }
   ],
   "source": [
    "fall = sts.expon(scale=1/0.3)\n",
    "sample_fall = fall.rvs(10**6)\n",
    "\n",
    "times = sts.uniform(1, 2)\n",
    "sample_1 = times.rvs(10**6)\n",
    "sample_2 = times.rvs(10**6)\n",
    "\n",
    "uslovie = (((sample_1 < sample_fall) & (sample_2 >= sample_fall)) \n",
    "           | ((sample_1 >= sample_fall) & (sample_2 < sample_fall)))\n",
    "ans6 = (sample_fall[uslovie] <= 1.5).mean()\n",
    "ans6"
   ]
  },
  {
   "cell_type": "code",
   "execution_count": 6,
   "metadata": {
    "deletable": false,
    "editable": false,
    "nbgrader": {
     "cell_type": "code",
     "checksum": "b52a3cee0475ac74400aceda1dfcf9dc",
     "grade": true,
     "grade_id": "cell-4b7e86061bb9bfff",
     "locked": true,
     "points": 3,
     "schema_version": 3,
     "solution": false,
     "task": false
    }
   },
   "outputs": [],
   "source": [
    "# проверка, что задание решено корректно\n",
    "assert ans6 < 0.2\n",
    "assert ans6 > 0.1\n",
    "\n",
    "# Похожие тесты скрыты от вас"
   ]
  },
  {
   "cell_type": "markdown",
   "metadata": {},
   "source": [
    "## Упражнение 3 (квантильное преобразование)\n",
    "\n",
    "Случайная величина $X$ описывается функцией распределения: \n",
    "\n",
    "$$\n",
    "F(x) = \\left( \\frac{\\ln x}{\\ln \\theta} \\right)^{\\alpha},  \\quad x \\in [1; \\theta]\n",
    "$$\n",
    "\n",
    "Сгенерируйте из такого распределения выборку объёма $10^6$ и оцените математическое ожидание данной случайной величины. Запишите его в переменную `ans7`. В качестве параметров возьмите $\\alpha=2, \\theta = 10$."
   ]
  },
  {
   "cell_type": "code",
   "execution_count": 7,
   "metadata": {
    "deletable": false,
    "nbgrader": {
     "cell_type": "code",
     "checksum": "97551c7cbe44e47be29699f0dc3f8e88",
     "grade": false,
     "grade_id": "cell-d21b5450e8815816",
     "locked": false,
     "schema_version": 3,
     "solution": true,
     "task": false
    }
   },
   "outputs": [],
   "source": [
    "dist = sts.uniform(0, 1)\n",
    "x = dist.rvs(10**6)\n",
    "\n",
    "y = np.exp(np.log(10) * np.sqrt(x))\n",
    "ans7 = y.mean()"
   ]
  },
  {
   "cell_type": "markdown",
   "metadata": {},
   "source": [
    "Нарисуйте для получившегося распределения гистограмму. Найдите в аналитическом виде плотность распределения. Нанесите её на картинку с гистограммой. "
   ]
  },
  {
   "cell_type": "code",
   "execution_count": 8,
   "metadata": {},
   "outputs": [],
   "source": [
    "def x_dist_pdf(x):\n",
    "    return (2 * np.log(x)/ (x * (np.log(10)**2)))"
   ]
  },
  {
   "cell_type": "code",
   "execution_count": 9,
   "metadata": {
    "deletable": false,
    "nbgrader": {
     "cell_type": "code",
     "checksum": "86d06b03e8a43604bbab2be36fff2690",
     "grade": false,
     "grade_id": "cell-434f781c2db5c1c1",
     "locked": false,
     "schema_version": 3,
     "solution": true,
     "task": false
    }
   },
   "outputs": [
    {
     "data": {
      "image/png": "[encoded data removed]",
      "text/plain": [
       "<Figure size 432x288 with 1 Axes>"
      ]
     },
     "metadata": {
      "needs_background": "light"
     },
     "output_type": "display_data"
    }
   ],
   "source": [
    "x = np.linspace(1, 10, 100)\n",
    "fig, ax = plt.subplots()\n",
    "ax.hist(y, bins=100, density=True, label='Experimental')\n",
    "ax.plot(x, x_dist_pdf(x), label='Distribution')\n",
    "plt.legend(loc='right');"
   ]
  },
  {
   "cell_type": "code",
   "execution_count": 10,
   "metadata": {
    "deletable": false,
    "editable": false,
    "nbgrader": {
     "cell_type": "code",
     "checksum": "9edc52be865e200213a454214c3060e4",
     "grade": true,
     "grade_id": "cell-16a71339d7f17228",
     "locked": true,
     "points": 2,
     "schema_version": 3,
     "solution": false,
     "task": false
    }
   },
   "outputs": [],
   "source": [
    "# проверка, что задание решено корректно\n",
    "assert ans7 < 6\n",
    "assert ans7 > 2\n",
    "\n",
    "# Похожие тесты скрыты от вас"
   ]
  },
  {
   "cell_type": "markdown",
   "metadata": {},
   "source": [
    "## Упражнение 4 (сходимость по вероятности)\n",
    "\n",
    "__Это задание никак не оценивается.__ У распределения хи-квадрат есть следующее свойство: если $X_1, \\ldots, X_n \\sim iid~N(0,1)$, тогда имеет место следующая сходимость по веротяности:\n",
    "\n",
    "$$\n",
    "\\frac{\\chi^2_n}{n} = \\frac{X_1^2 + \\ldots + X_n^2}{n} \\to  1\n",
    "$$\n",
    "\n",
    "Продемонстрируйте с помощью симуляций, что это именно так. От вас требуется построить ту же картинку, что мы строили при иллюстрации ЗБЧ в лекции. Не забудьте построить для нескольких разных $\\varepsilon$ коридоры и убедиться, что последовательность с некоторого момента начинает пробивать их довольно редко."
   ]
  },
  {
   "cell_type": "code",
   "execution_count": 11,
   "metadata": {},
   "outputs": [
    {
     "data": {
      "image/png": "[encoded data removed]",
      "text/plain": [
       "<Figure size 432x288 with 1 Axes>"
      ]
     },
     "metadata": {
      "needs_background": "light"
     },
     "output_type": "display_data"
    }
   ],
   "source": [
    "n_obs = 10**6\n",
    "dist = sts.norm()\n",
    "sample = dist.rvs(size=n_obs )\n",
    "\n",
    "summ = np.cumsum(sample**2)\n",
    "count = np.arange(1, n_obs+1)\n",
    "\n",
    "eps = 0.05\n",
    "plt.plot(count, summ / count)\n",
    "plt.axhline(1 - eps, ls='--', c='blue')\n",
    "plt.axhline(1 + eps, ls='--', c='blue')\n",
    "plt.xlabel('n_obs')\n",
    "plt.ylabel('Среднее значение');"
   ]
  },
  {
   "cell_type": "markdown",
   "metadata": {},
   "source": [
    " "
   ]
  }
 ],
 "metadata": {
  "kernelspec": {
   "display_name": "Python 3",
   "language": "python",
   "name": "python3"
  },
  "language_info": {
   "codemirror_mode": {
    "name": "ipython",
    "version": 3
   },
   "file_extension": ".py",
   "mimetype": "text/x-python",
   "name": "python",
   "nbconvert_exporter": "python",
   "pygments_lexer": "ipython3",
   "version": "3.8.3"
  }
 },
 "nbformat": 4,
 "nbformat_minor": 4
}
