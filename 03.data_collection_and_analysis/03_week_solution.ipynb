{
 "cells": [
  {
   "cell_type": "markdown",
   "metadata": {},
   "source": [
    "<img src=\"logo.png\" height=\"200\" width=\"900\"> \n",
    "\n",
    "#  Сбор данных: грязная работа вашими руками \n",
    "\n",
    "Пришло время самостоятельно написать парсер! Мы будем собирать данные [о ценах на книги.](http://books.toscrape.com)\n",
    "\n",
    "\n",
    "> __ВНИМАНИЕ!__ Почему-то у Coursera после обновления на этом задании перестал работать грейдер. В связи с этим все ответы, которые вы получите при написании кода, придется перенести в тест, который идёт в курсе сразу после этого задания. "
   ]
  },
  {
   "cell_type": "code",
   "execution_count": 1,
   "metadata": {
    "deletable": false,
    "nbgrader": {
     "cell_type": "code",
     "checksum": "763c9b123c61d02adcf8e688c14b824e",
     "grade": false,
     "grade_id": "cell-a1d057ec06e84bdd",
     "locked": false,
     "schema_version": 3,
     "solution": true,
     "task": false
    }
   },
   "outputs": [],
   "source": [
    "import pandas as pd\n",
    "import numpy as np\n",
    "import time\n",
    "from tqdm.notebook import tqdm\n",
    "\n",
    "#библиотека для отправки запросов\n",
    "from requests import get\n",
    "\n",
    "#для генерации случайного сочетания операц. системы, браузера и т.д.\n",
    "from fake_useragent import UserAgent\n",
    "\n",
    "#для поисков тегов, классов и прочих элементов веб страниц\n",
    "from bs4 import BeautifulSoup"
   ]
  },
  {
   "cell_type": "code",
   "execution_count": 2,
   "metadata": {
    "deletable": false,
    "editable": false,
    "nbgrader": {
     "cell_type": "code",
     "checksum": "271359fd82a7bed1144248a66405ca7f",
     "grade": true,
     "grade_id": "cell-5e0ee82c41142a9d",
     "locked": true,
     "points": 1,
     "schema_version": 3,
     "solution": false,
     "task": false
    }
   },
   "outputs": [],
   "source": [
    "# фиктивная проверка"
   ]
  },
  {
   "cell_type": "markdown",
   "metadata": {},
   "source": [
    "Прогуляйтесь на сайт http://books.toscrape.com/ и изучите его структуру.  \n",
    "\n",
    "\n",
    "# 1. Сбор ссылок на книги\n",
    "\n",
    "Напишите функцию `get_soup`, которая по ссылке возвращает html-разметку страницы в формате `bs4` "
   ]
  },
  {
   "cell_type": "code",
   "execution_count": 3,
   "metadata": {
    "deletable": false,
    "nbgrader": {
     "cell_type": "code",
     "checksum": "9c97f15308c26fba4787e1ed46be1762",
     "grade": false,
     "grade_id": "cell-bb3dd3de95e8b98e",
     "locked": false,
     "schema_version": 3,
     "solution": true,
     "task": false
    }
   },
   "outputs": [],
   "source": [
    "def get_page_soup(url_link):\n",
    "    response = get(url_link,headers={'User-Agent':UserAgent().chrome})\n",
    "    html = response.content\n",
    "    soup = BeautifulSoup(html, 'html.parser')\n",
    "    return soup"
   ]
  },
  {
   "cell_type": "code",
   "execution_count": 4,
   "metadata": {},
   "outputs": [
    {
     "data": {
      "text/plain": [
       "'Books to Scrape'"
      ]
     },
     "execution_count": 4,
     "metadata": {},
     "output_type": "execute_result"
    }
   ],
   "source": [
    "main_url = 'http://books.toscrape.com/catalogue/'\n",
    "page_number = 5\n",
    "\n",
    "soup = get_page_soup(main_url + f'page-{page_number}.html')\n",
    "soup.find_all('a')[0].text"
   ]
  },
  {
   "cell_type": "markdown",
   "metadata": {},
   "source": [
    "Напишите функцию `get_books_links`, которая находит в html-разметке страницы ссылки на странички с отдельными книгами. "
   ]
  },
  {
   "cell_type": "code",
   "execution_count": 5,
   "metadata": {
    "deletable": false,
    "nbgrader": {
     "cell_type": "code",
     "checksum": "f2bcfb757d246472754f42327e7f193d",
     "grade": false,
     "grade_id": "cell-565bf344d89fef43",
     "locked": false,
     "schema_version": 3,
     "solution": true,
     "task": false
    }
   },
   "outputs": [],
   "source": [
    "def get_book_links(page_soup):\n",
    "    links = soup.find_all('article', {'class': 'product_pod'})\n",
    "    links=['http://books.toscrape.com/catalogue/'+  link.a.get(\"href\") for link in links]\n",
    "    return links"
   ]
  },
  {
   "cell_type": "markdown",
   "metadata": {},
   "source": [
    "С помощью цикла соберите в лист `book_links` первые 200 книг."
   ]
  },
  {
   "cell_type": "code",
   "execution_count": 6,
   "metadata": {
    "deletable": false,
    "nbgrader": {
     "cell_type": "code",
     "checksum": "25cc39adb04c7c00c5e117837d9c606d",
     "grade": false,
     "grade_id": "cell-883211fab847e672",
     "locked": false,
     "schema_version": 3,
     "solution": true,
     "task": false
    }
   },
   "outputs": [],
   "source": [
    "book_links = []\n",
    "for page in range(1, 11):\n",
    "    soup = get_page_soup(main_url + f'page-{page}.html')\n",
    "    book_links.extend(get_book_links(soup))"
   ]
  },
  {
   "cell_type": "markdown",
   "metadata": {},
   "source": [
    "# 2. Сбор информации о книгах \n",
    "\n",
    "Напишите несколько небольших функций, которые собирают различные данные об одной книге, необходимые для ответов на вопросы ниже. Информацию о книге собирайте в виде словаря вида \n",
    "\n",
    "```\n",
    "{ 'name': 'Преступление и наказание', 'rating': 1, 'description': 'ужасно депрессивная книга', ... }\n",
    "\n",
    "```"
   ]
  },
  {
   "cell_type": "code",
   "execution_count": 7,
   "metadata": {
    "deletable": false,
    "nbgrader": {
     "cell_type": "code",
     "checksum": "defea54e7bc7d4545e27bbd019f41ae2",
     "grade": false,
     "grade_id": "cell-a3b3b4c91addb471",
     "locked": false,
     "schema_version": 3,
     "solution": true,
     "task": false
    }
   },
   "outputs": [],
   "source": [
    "def books_info(soup):\n",
    "    rating_cat = {\n",
    "        'One': 1,\n",
    "        'Two': 2,\n",
    "        'Three': 3, \n",
    "        'Four': 4,\n",
    "        'Five': 5\n",
    "            } \n",
    "    rating = rating_cat[soup.find_all('p')[2].get('class')[1]]\n",
    "    \n",
    "    name = soup.find('div', class_=\"col-sm-6 product_main\").find('h1').text\n",
    "    \n",
    "    if len(soup.find_all('div', class_='sub-header', id = 'product_description')) == 0:\n",
    "        descr = None\n",
    "    else:\n",
    "        descr = soup.find_all('p')[3].text\n",
    "    \n",
    "    tax = float(soup.find('table',class_=\"table table-striped\").find_all('td')[4].text[1:])\n",
    "\n",
    "    price = float(soup.find('table',class_=\"table table-striped\").find_all('td')[2].text[1:])\n",
    "    \n",
    "    return  {\n",
    "        'name': name,\n",
    "        'rating': rating,\n",
    "        'price': price,\n",
    "        'tax': tax,\n",
    "        'description': descr,\n",
    "\n",
    "           }"
   ]
  },
  {
   "cell_type": "markdown",
   "metadata": {},
   "source": [
    "Пройдите циклом по всем сыслкам из списка `book_links` и соберите данные о книгах в вектор `book_info`. "
   ]
  },
  {
   "cell_type": "code",
   "execution_count": 8,
   "metadata": {
    "deletable": false,
    "nbgrader": {
     "cell_type": "code",
     "checksum": "418e8b0cadc167a34bd0937d72934bb4",
     "grade": false,
     "grade_id": "cell-240b7f956c433b45",
     "locked": false,
     "schema_version": 3,
     "solution": true,
     "task": false
    }
   },
   "outputs": [
    {
     "data": {
      "application/vnd.jupyter.widget-view+json": {
       "model_id": "2c1dc6491ea548f29dd5c9a2f74115ab",
       "version_major": 2,
       "version_minor": 0
      },
      "text/plain": [
       "  0%|          | 0/200 [00:00<?, ?it/s]"
      ]
     },
     "metadata": {},
     "output_type": "display_data"
    }
   ],
   "source": [
    "book_info = []\n",
    "for book in tqdm(book_links):\n",
    "    response = get(book)\n",
    "    html = response.content\n",
    "    soup = BeautifulSoup(html, 'html.parser')\n",
    "    book_info.append(books_info(soup))"
   ]
  },
  {
   "cell_type": "markdown",
   "metadata": {},
   "source": [
    "Превратим вектор из информации в полноценную таблицу с данными. "
   ]
  },
  {
   "cell_type": "code",
   "execution_count": 9,
   "metadata": {},
   "outputs": [
    {
     "name": "stdout",
     "output_type": "stream",
     "text": [
      "(200, 5)\n"
     ]
    },
    {
     "data": {
      "text/html": [
       "<div>\n",
       "<style scoped>\n",
       "    .dataframe tbody tr th:only-of-type {\n",
       "        vertical-align: middle;\n",
       "    }\n",
       "\n",
       "    .dataframe tbody tr th {\n",
       "        vertical-align: top;\n",
       "    }\n",
       "\n",
       "    .dataframe thead th {\n",
       "        text-align: right;\n",
       "    }\n",
       "</style>\n",
       "<table border=\"1\" class=\"dataframe\">\n",
       "  <thead>\n",
       "    <tr style=\"text-align: right;\">\n",
       "      <th></th>\n",
       "      <th>name</th>\n",
       "      <th>rating</th>\n",
       "      <th>price</th>\n",
       "      <th>tax</th>\n",
       "      <th>description</th>\n",
       "    </tr>\n",
       "  </thead>\n",
       "  <tbody>\n",
       "    <tr>\n",
       "      <th>0</th>\n",
       "      <td>A Light in the Attic</td>\n",
       "      <td>3</td>\n",
       "      <td>51.77</td>\n",
       "      <td>0.0</td>\n",
       "      <td>It's hard to imagine a world without A Light i...</td>\n",
       "    </tr>\n",
       "    <tr>\n",
       "      <th>1</th>\n",
       "      <td>Tipping the Velvet</td>\n",
       "      <td>1</td>\n",
       "      <td>53.74</td>\n",
       "      <td>0.0</td>\n",
       "      <td>\"Erotic and absorbing...Written with starling ...</td>\n",
       "    </tr>\n",
       "    <tr>\n",
       "      <th>2</th>\n",
       "      <td>Soumission</td>\n",
       "      <td>1</td>\n",
       "      <td>50.10</td>\n",
       "      <td>0.0</td>\n",
       "      <td>Dans une France assez proche de la nôtre, un h...</td>\n",
       "    </tr>\n",
       "    <tr>\n",
       "      <th>3</th>\n",
       "      <td>Sharp Objects</td>\n",
       "      <td>4</td>\n",
       "      <td>47.82</td>\n",
       "      <td>0.0</td>\n",
       "      <td>WICKED above her hipbone, GIRL across her hear...</td>\n",
       "    </tr>\n",
       "    <tr>\n",
       "      <th>4</th>\n",
       "      <td>Sapiens: A Brief History of Humankind</td>\n",
       "      <td>5</td>\n",
       "      <td>54.23</td>\n",
       "      <td>0.0</td>\n",
       "      <td>From a renowned historian comes a groundbreaki...</td>\n",
       "    </tr>\n",
       "  </tbody>\n",
       "</table>\n",
       "</div>"
      ],
      "text/plain": [
       "                                    name  rating  price  tax  \\\n",
       "0                   A Light in the Attic       3  51.77  0.0   \n",
       "1                     Tipping the Velvet       1  53.74  0.0   \n",
       "2                             Soumission       1  50.10  0.0   \n",
       "3                          Sharp Objects       4  47.82  0.0   \n",
       "4  Sapiens: A Brief History of Humankind       5  54.23  0.0   \n",
       "\n",
       "                                         description  \n",
       "0  It's hard to imagine a world without A Light i...  \n",
       "1  \"Erotic and absorbing...Written with starling ...  \n",
       "2  Dans une France assez proche de la nôtre, un h...  \n",
       "3  WICKED above her hipbone, GIRL across her hear...  \n",
       "4  From a renowned historian comes a groundbreaki...  "
      ]
     },
     "execution_count": 9,
     "metadata": {},
     "output_type": "execute_result"
    }
   ],
   "source": [
    "book_info_df = pd.DataFrame(book_info)\n",
    "print(book_info_df.shape)\n",
    "book_info_df.head()"
   ]
  },
  {
   "cell_type": "markdown",
   "metadata": {},
   "source": [
    "Теперь, когда все данные собраны, настало время ответить на несколько вопросов:"
   ]
  },
  {
   "cell_type": "markdown",
   "metadata": {},
   "source": [
    "- У скольких книг отсутствует описание? Ответ на этот вопрос вбейте в тест, который идёт после лабораторной работы. "
   ]
  },
  {
   "cell_type": "code",
   "execution_count": 10,
   "metadata": {
    "deletable": false,
    "nbgrader": {
     "cell_type": "code",
     "checksum": "0a54c60fbbab43a250f22bba8ae6f62d",
     "grade": false,
     "grade_id": "cell-818d91b73f034e1a",
     "locked": false,
     "schema_version": 3,
     "solution": true,
     "task": false
    }
   },
   "outputs": [
    {
     "data": {
      "text/plain": [
       "1"
      ]
     },
     "execution_count": 10,
     "metadata": {},
     "output_type": "execute_result"
    }
   ],
   "source": [
    "ans1 = book_info_df.description.isna().sum()\n",
    "ans1"
   ]
  },
  {
   "cell_type": "markdown",
   "metadata": {},
   "source": [
    "- Сколько раз в данных встречается налог, больший нуля?  Ответ на этот вопрос вбейте в тест, который идёт после лабораторной работы. "
   ]
  },
  {
   "cell_type": "code",
   "execution_count": 11,
   "metadata": {
    "deletable": false,
    "nbgrader": {
     "cell_type": "code",
     "checksum": "881cb4d0c1333101e6756e8d38221100",
     "grade": false,
     "grade_id": "cell-be342205fa946a79",
     "locked": false,
     "schema_version": 3,
     "solution": true,
     "task": false
    }
   },
   "outputs": [
    {
     "data": {
      "text/plain": [
       "0"
      ]
     },
     "execution_count": 11,
     "metadata": {},
     "output_type": "execute_result"
    }
   ],
   "source": [
    "ans2 =(book_info_df.tax > 0).sum()\n",
    "ans2"
   ]
  },
  {
   "cell_type": "markdown",
   "metadata": {},
   "source": [
    "- Сколько раз рейтинг книги составлял пять звезд?  Ответ на этот вопрос вбейте в тест, который идёт после лабораторной работы. "
   ]
  },
  {
   "cell_type": "code",
   "execution_count": 12,
   "metadata": {
    "deletable": false,
    "nbgrader": {
     "cell_type": "code",
     "checksum": "9bed9ee4d147130e84c82fddec2f3764",
     "grade": false,
     "grade_id": "cell-a904ff9c737f3bae",
     "locked": false,
     "schema_version": 3,
     "solution": true,
     "task": false
    }
   },
   "outputs": [
    {
     "data": {
      "text/plain": [
       "37"
      ]
     },
     "execution_count": 12,
     "metadata": {},
     "output_type": "execute_result"
    }
   ],
   "source": [
    "ans3 = (book_info_df.rating == 5).sum()\n",
    "ans3"
   ]
  },
  {
   "cell_type": "markdown",
   "metadata": {},
   "source": [
    "- Какова средняя цена книг (без учета налога)?  Ответ на этот вопрос вбейте в тест, который идёт после лабораторной работы. "
   ]
  },
  {
   "cell_type": "code",
   "execution_count": 13,
   "metadata": {
    "deletable": false,
    "nbgrader": {
     "cell_type": "code",
     "checksum": "2ba621a61f0c0e5e50a4c01253676973",
     "grade": false,
     "grade_id": "cell-60c854eb83c66df8",
     "locked": false,
     "schema_version": 3,
     "solution": true,
     "task": false
    }
   },
   "outputs": [
    {
     "data": {
      "text/plain": [
       "34.79624999999999"
      ]
     },
     "execution_count": 13,
     "metadata": {},
     "output_type": "execute_result"
    }
   ],
   "source": [
    "ans4 = (book_info_df.price).mean() \n",
    "ans4"
   ]
  },
  {
   "cell_type": "code",
   "execution_count": null,
   "metadata": {},
   "outputs": [],
   "source": []
  }
 ],
 "metadata": {
  "kernelspec": {
   "display_name": "Python 3",
   "language": "python",
   "name": "python3"
  },
  "language_info": {
   "codemirror_mode": {
    "name": "ipython",
    "version": 3
   },
   "file_extension": ".py",
   "mimetype": "text/x-python",
   "name": "python",
   "nbconvert_exporter": "python",
   "pygments_lexer": "ipython3",
   "version": "3.8.3"
  },
  "varInspector": {
   "cols": {
    "lenName": 16,
    "lenType": 16,
    "lenVar": 40
   },
   "kernels_config": {
    "python": {
     "delete_cmd_postfix": "",
     "delete_cmd_prefix": "del ",
     "library": "var_list.py",
     "varRefreshCmd": "print(var_dic_list())"
    },
    "r": {
     "delete_cmd_postfix": ") ",
     "delete_cmd_prefix": "rm(",
     "library": "var_list.r",
     "varRefreshCmd": "cat(var_dic_list()) "
    }
   },
   "types_to_exclude": [
    "module",
    "function",
    "builtin_function_or_method",
    "instance",
    "_Feature"
   ],
   "window_display": false
  }
 },
 "nbformat": 4,
 "nbformat_minor": 2
}
